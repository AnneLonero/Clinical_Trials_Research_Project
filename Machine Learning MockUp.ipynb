{
 "cells": [
  {
   "cell_type": "code",
   "execution_count": 1,
   "id": "945f5f5d",
   "metadata": {},
   "outputs": [],
   "source": [
    "import warnings\n",
    "warnings.filterwarnings('ignore')"
   ]
  },
  {
   "cell_type": "code",
   "execution_count": 2,
   "id": "54381d01",
   "metadata": {},
   "outputs": [],
   "source": [
    "import numpy as np\n",
    "import pandas as pd\n",
    "from pathlib import Path\n",
    "from collections import Counter"
   ]
  },
  {
   "cell_type": "code",
   "execution_count": 3,
   "id": "f9ad881a",
   "metadata": {},
   "outputs": [],
   "source": [
    "from sklearn.metrics import balanced_accuracy_score\n",
    "from sklearn.metrics import confusion_matrix\n",
    "from imblearn.metrics import classification_report_imbalanced"
   ]
  },
  {
   "cell_type": "markdown",
   "id": "32f4aa77",
   "metadata": {},
   "source": [
    "### Import CSV and Perform Data Cleaning"
   ]
  },
  {
   "cell_type": "code",
   "execution_count": 4,
   "id": "54c4802b",
   "metadata": {},
   "outputs": [],
   "source": [
    "columns = [\"ID\", \"title\", \"study_type\", \"arm_group_type\", \"intervention_type\",\n",
    "          \"interventional_type, model\", \"phase\", \"fda_regulated_drug\", \"fda_regulated_device\"]\n",
    "\n",
    "target = [\"status\"]"
   ]
  },
  {
   "cell_type": "code",
   "execution_count": 6,
   "id": "7e6dfa40",
   "metadata": {},
   "outputs": [
    {
     "data": {
      "text/html": [
       "<div>\n",
       "<style scoped>\n",
       "    .dataframe tbody tr th:only-of-type {\n",
       "        vertical-align: middle;\n",
       "    }\n",
       "\n",
       "    .dataframe tbody tr th {\n",
       "        vertical-align: top;\n",
       "    }\n",
       "\n",
       "    .dataframe thead th {\n",
       "        text-align: right;\n",
       "    }\n",
       "</style>\n",
       "<table border=\"1\" class=\"dataframe\">\n",
       "  <thead>\n",
       "    <tr style=\"text-align: right;\">\n",
       "      <th></th>\n",
       "      <th>ID</th>\n",
       "      <th>title</th>\n",
       "      <th>status</th>\n",
       "      <th>study_type</th>\n",
       "      <th>arm_group_type</th>\n",
       "      <th>intervention_type</th>\n",
       "      <th>interventional_type_model</th>\n",
       "      <th>phase</th>\n",
       "      <th>fda_regulated_drug</th>\n",
       "      <th>fda_regulated_device</th>\n",
       "    </tr>\n",
       "  </thead>\n",
       "  <tbody>\n",
       "    <tr>\n",
       "      <th>0</th>\n",
       "      <td>IRST174.22</td>\n",
       "      <td>What is the Best Interval to Screen Women 45-4...</td>\n",
       "      <td>Recruiting</td>\n",
       "      <td>Interventional</td>\n",
       "      <td>No Intervention, Experimental, Experimental</td>\n",
       "      <td>Diagnostic Test</td>\n",
       "      <td>Parallel Assignment</td>\n",
       "      <td>Not Applicable</td>\n",
       "      <td>No</td>\n",
       "      <td>No</td>\n",
       "    </tr>\n",
       "    <tr>\n",
       "      <th>1</th>\n",
       "      <td>GCO 17-2188</td>\n",
       "      <td>Increasing African Immigrant Womens Participat...</td>\n",
       "      <td>Recruiting</td>\n",
       "      <td>Interventional</td>\n",
       "      <td>Other</td>\n",
       "      <td>Behavioral</td>\n",
       "      <td>Single Group Assignment</td>\n",
       "      <td>Not Applicable</td>\n",
       "      <td>No</td>\n",
       "      <td>No</td>\n",
       "    </tr>\n",
       "    <tr>\n",
       "      <th>2</th>\n",
       "      <td>233756</td>\n",
       "      <td>The HIFUB Study (HIFU in Breast Cancer)</td>\n",
       "      <td>Not yet recruiting</td>\n",
       "      <td>Interventional</td>\n",
       "      <td>Experimental</td>\n",
       "      <td>Device</td>\n",
       "      <td>Single Group Assignment</td>\n",
       "      <td>Not Applicable</td>\n",
       "      <td>No</td>\n",
       "      <td>No</td>\n",
       "    </tr>\n",
       "    <tr>\n",
       "      <th>3</th>\n",
       "      <td>D16196</td>\n",
       "      <td>A Pilot Multi-Institutional Study to Evaluate ...</td>\n",
       "      <td>Completed</td>\n",
       "      <td>Interventional</td>\n",
       "      <td>Experimental</td>\n",
       "      <td>Device</td>\n",
       "      <td>Single Group Assignment</td>\n",
       "      <td>Not Applicable</td>\n",
       "      <td>No</td>\n",
       "      <td>Yes</td>\n",
       "    </tr>\n",
       "    <tr>\n",
       "      <th>4</th>\n",
       "      <td>RO1912-30902</td>\n",
       "      <td>RCT Comparing 2 Radiotherapy HypoFractionation...</td>\n",
       "      <td>Unknown status</td>\n",
       "      <td>Interventional</td>\n",
       "      <td>Other, Experimental</td>\n",
       "      <td>Radiation</td>\n",
       "      <td>Parallel Assignment</td>\n",
       "      <td>Not Applicable</td>\n",
       "      <td>No</td>\n",
       "      <td>No</td>\n",
       "    </tr>\n",
       "    <tr>\n",
       "      <th>...</th>\n",
       "      <td>...</td>\n",
       "      <td>...</td>\n",
       "      <td>...</td>\n",
       "      <td>...</td>\n",
       "      <td>...</td>\n",
       "      <td>...</td>\n",
       "      <td>...</td>\n",
       "      <td>...</td>\n",
       "      <td>...</td>\n",
       "      <td>...</td>\n",
       "    </tr>\n",
       "    <tr>\n",
       "      <th>3913</th>\n",
       "      <td>20201491</td>\n",
       "      <td>Culturally Tailored Nurse Coaching Study for C...</td>\n",
       "      <td>Recruiting</td>\n",
       "      <td>Interventional</td>\n",
       "      <td>Experimental, Active Comparator</td>\n",
       "      <td>Behavioral, Behavioral</td>\n",
       "      <td>Parallel Assignment</td>\n",
       "      <td>Not Applicable</td>\n",
       "      <td>No</td>\n",
       "      <td>No</td>\n",
       "    </tr>\n",
       "    <tr>\n",
       "      <th>3914</th>\n",
       "      <td>32900654326</td>\n",
       "      <td>TPVB, PECSB, ESPB for Postmastectmy Pain</td>\n",
       "      <td>Completed</td>\n",
       "      <td>Interventional</td>\n",
       "      <td>Placebo Comparator, Active Comparator, Active ...</td>\n",
       "      <td>Procedure, Drug</td>\n",
       "      <td>Parallel Assignment</td>\n",
       "      <td>Not Applicable</td>\n",
       "      <td>No</td>\n",
       "      <td>No</td>\n",
       "    </tr>\n",
       "    <tr>\n",
       "      <th>3915</th>\n",
       "      <td>ReDA 13176</td>\n",
       "      <td>A Randomized Phase III Trial of Stereotactic A...</td>\n",
       "      <td>Not yet recruiting</td>\n",
       "      <td>Interventional</td>\n",
       "      <td>Active Comparator, Experimental</td>\n",
       "      <td>Radiation, Drug, Drug, Drug, Drug, Other, Radi...</td>\n",
       "      <td>Parallel Assignment</td>\n",
       "      <td>Phase 3</td>\n",
       "      <td>No</td>\n",
       "      <td>No</td>\n",
       "    </tr>\n",
       "    <tr>\n",
       "      <th>3916</th>\n",
       "      <td>64121317.4.1001.5330</td>\n",
       "      <td>Nivolumab in Prostate Cancer With DNA Repair D...</td>\n",
       "      <td>Active, not recruiting</td>\n",
       "      <td>Interventional</td>\n",
       "      <td>Experimental</td>\n",
       "      <td>Drug</td>\n",
       "      <td>Single Group Assignment</td>\n",
       "      <td>Phase 2</td>\n",
       "      <td>Yes</td>\n",
       "      <td>No</td>\n",
       "    </tr>\n",
       "    <tr>\n",
       "      <th>3917</th>\n",
       "      <td>3-2020-0038</td>\n",
       "      <td>Intraoperative Radiation Therapy for Resectabl...</td>\n",
       "      <td>Recruiting</td>\n",
       "      <td>Interventional</td>\n",
       "      <td>Experimental</td>\n",
       "      <td>Radiation</td>\n",
       "      <td>Single Group Assignment</td>\n",
       "      <td>Not Applicable</td>\n",
       "      <td>No</td>\n",
       "      <td>No</td>\n",
       "    </tr>\n",
       "  </tbody>\n",
       "</table>\n",
       "<p>3918 rows × 10 columns</p>\n",
       "</div>"
      ],
      "text/plain": [
       "                        ID                                              title  \\\n",
       "0               IRST174.22  What is the Best Interval to Screen Women 45-4...   \n",
       "1              GCO 17-2188  Increasing African Immigrant Womens Participat...   \n",
       "2                   233756            The HIFUB Study (HIFU in Breast Cancer)   \n",
       "3                   D16196  A Pilot Multi-Institutional Study to Evaluate ...   \n",
       "4             RO1912-30902  RCT Comparing 2 Radiotherapy HypoFractionation...   \n",
       "...                    ...                                                ...   \n",
       "3913              20201491  Culturally Tailored Nurse Coaching Study for C...   \n",
       "3914           32900654326           TPVB, PECSB, ESPB for Postmastectmy Pain   \n",
       "3915            ReDA 13176  A Randomized Phase III Trial of Stereotactic A...   \n",
       "3916  64121317.4.1001.5330  Nivolumab in Prostate Cancer With DNA Repair D...   \n",
       "3917           3-2020-0038  Intraoperative Radiation Therapy for Resectabl...   \n",
       "\n",
       "                      status      study_type  \\\n",
       "0                 Recruiting  Interventional   \n",
       "1                 Recruiting  Interventional   \n",
       "2         Not yet recruiting  Interventional   \n",
       "3                  Completed  Interventional   \n",
       "4             Unknown status  Interventional   \n",
       "...                      ...             ...   \n",
       "3913              Recruiting  Interventional   \n",
       "3914               Completed  Interventional   \n",
       "3915      Not yet recruiting  Interventional   \n",
       "3916  Active, not recruiting  Interventional   \n",
       "3917              Recruiting  Interventional   \n",
       "\n",
       "                                         arm_group_type  \\\n",
       "0           No Intervention, Experimental, Experimental   \n",
       "1                                                 Other   \n",
       "2                                          Experimental   \n",
       "3                                          Experimental   \n",
       "4                                   Other, Experimental   \n",
       "...                                                 ...   \n",
       "3913                    Experimental, Active Comparator   \n",
       "3914  Placebo Comparator, Active Comparator, Active ...   \n",
       "3915                    Active Comparator, Experimental   \n",
       "3916                                       Experimental   \n",
       "3917                                       Experimental   \n",
       "\n",
       "                                      intervention_type  \\\n",
       "0                                       Diagnostic Test   \n",
       "1                                            Behavioral   \n",
       "2                                                Device   \n",
       "3                                                Device   \n",
       "4                                             Radiation   \n",
       "...                                                 ...   \n",
       "3913                             Behavioral, Behavioral   \n",
       "3914                                    Procedure, Drug   \n",
       "3915  Radiation, Drug, Drug, Drug, Drug, Other, Radi...   \n",
       "3916                                               Drug   \n",
       "3917                                          Radiation   \n",
       "\n",
       "     interventional_type_model           phase fda_regulated_drug  \\\n",
       "0          Parallel Assignment  Not Applicable                 No   \n",
       "1      Single Group Assignment  Not Applicable                 No   \n",
       "2      Single Group Assignment  Not Applicable                 No   \n",
       "3      Single Group Assignment  Not Applicable                 No   \n",
       "4          Parallel Assignment  Not Applicable                 No   \n",
       "...                        ...             ...                ...   \n",
       "3913       Parallel Assignment  Not Applicable                 No   \n",
       "3914       Parallel Assignment  Not Applicable                 No   \n",
       "3915       Parallel Assignment         Phase 3                 No   \n",
       "3916   Single Group Assignment         Phase 2                Yes   \n",
       "3917   Single Group Assignment  Not Applicable                 No   \n",
       "\n",
       "     fda_regulated_device  \n",
       "0                      No  \n",
       "1                      No  \n",
       "2                      No  \n",
       "3                     Yes  \n",
       "4                      No  \n",
       "...                   ...  \n",
       "3913                   No  \n",
       "3914                   No  \n",
       "3915                   No  \n",
       "3916                   No  \n",
       "3917                   No  \n",
       "\n",
       "[3918 rows x 10 columns]"
      ]
     },
     "execution_count": 6,
     "metadata": {},
     "output_type": "execute_result"
    }
   ],
   "source": [
    "# Load the interventional_study_only\n",
    "file_path = Path('Tables/interventional_study_only.csv')\n",
    "df = pd.read_csv(file_path)\n",
    "df"
   ]
  },
  {
   "cell_type": "code",
   "execution_count": null,
   "id": "54877030",
   "metadata": {},
   "outputs": [],
   "source": [
    "# Examine DataFrame\n",
    "\n",
    "# Extract and keep first values for arm_group_type and intervention_type\n",
    "\n",
    "# Drop null row\n",
    "#.dropna()\n",
    "\n",
    "# Remove \"Unknown\" (\"recruiting\", \"not yet recruiting\", \"active, not recruiting\", \"enrolling by invitation\"?) status\n",
    "unknow_stat = df['status'] != 'Unknown status'\n",
    "df = df.loc[unknown_stat]\n",
    "\n",
    "# Convert the target Column values to low_chance and high_chance based in their values\n",
    "x = {'Completed' : 'high_chance'}\n",
    "df = df.replace(x)\n",
    "\n",
    "x - dict.fromkeys (['Withdrawn', 'Terminated', 'Suspended'], 'low_chance')\n",
    "df = df.replace(x)\n",
    "\n",
    "df.reset_index(inplace=True, drop=True)\n",
    "\n",
    "df.head()"
   ]
  },
  {
   "cell_type": "markdown",
   "id": "dc6596f3",
   "metadata": {},
   "source": [
    "### Split the Data into Training and Testing"
   ]
  },
  {
   "cell_type": "code",
   "execution_count": null,
   "id": "34d13a74",
   "metadata": {},
   "outputs": [],
   "source": [
    "# Create our features\n",
    "X = pd.get_dummies (df, columns=['arm_group_type', 'intervention_type', 'intervenal_type_model',\n",
    "                                'phase', 'fda_regulated_drug', 'fda_regulated_device']).drop('status', axis=1)\n",
    "\n",
    "# Create our target\n",
    "y = df['status']\n",
    "X.head()"
   ]
  },
  {
   "cell_type": "code",
   "execution_count": null,
   "id": "995b312f",
   "metadata": {},
   "outputs": [],
   "source": [
    "# Check count, mean, max for features\n",
    "X.describe()"
   ]
  },
  {
   "cell_type": "code",
   "execution_count": null,
   "id": "1b0b6bf2",
   "metadata": {},
   "outputs": [],
   "source": [
    "# Check the balance of our target values\n",
    "y.value_counts()"
   ]
  },
  {
   "cell_type": "code",
   "execution_count": null,
   "id": "e7171a77",
   "metadata": {},
   "outputs": [],
   "source": [
    "from sklearn.model_selection import train_test_split\n",
    "X_train, X_test, y_train, y_test = train_test_split(X, y, random_state=1, stratify=y)\n",
    "print(Counter(y_train))\n",
    "print(Counter(y_test))"
   ]
  },
  {
   "cell_type": "markdown",
   "id": "492c1421",
   "metadata": {},
   "source": [
    "### Balanced Random Forest Classifier"
   ]
  },
  {
   "cell_type": "code",
   "execution_count": null,
   "id": "c2293672",
   "metadata": {},
   "outputs": [],
   "source": [
    "# Resample the training data with the BalancedRandomForestClassifier\n",
    "from imblearn.ensemble import BalancedRandomForestClassifier\n",
    "\n",
    "# Instantiate model\n",
    "classifier = BalancedRandomForestClassifier(n_estimators=100, random_state=1)\n",
    "\n",
    "# Fit model\n",
    "classifier.fit(X_train, y_train)"
   ]
  },
  {
   "cell_type": "code",
   "execution_count": null,
   "id": "f1c2a6a8",
   "metadata": {},
   "outputs": [],
   "source": [
    "# Calculated the balanced accuracy score\n",
    "y_pred = classifier.predict(X_test)\n",
    "balanced_accuracy_score(y_test, y_pred)"
   ]
  },
  {
   "cell_type": "code",
   "execution_count": null,
   "id": "cfbb79e5",
   "metadata": {},
   "outputs": [],
   "source": [
    "# Display the confusion matrix\n",
    "cm = confusion_matrix(y_test, y_pred)\n",
    "cm"
   ]
  },
  {
   "cell_type": "code",
   "execution_count": null,
   "id": "1ed5d4e4",
   "metadata": {},
   "outputs": [],
   "source": [
    "# Create a DataFrame from the confusion matrix.\n",
    "cm_df = pd.DataFrame(\n",
    "    cm, index=[\"Actual low_chance\", \"Actual high_chance\"], columns=[\"Predicted low_chance\", \"Predicted high_chance\"])\n",
    "cm_df"
   ]
  },
  {
   "cell_type": "code",
   "execution_count": null,
   "id": "b265420f",
   "metadata": {},
   "outputs": [],
   "source": [
    "# Print the imbalanced classification report\n",
    "print(classification_report_imbalanced(y_test, y_pred))"
   ]
  },
  {
   "cell_type": "code",
   "execution_count": null,
   "id": "0a234144",
   "metadata": {},
   "outputs": [],
   "source": [
    "# List the features sorted in descending order by feature importance\n",
    "features_rank = sorted(zip(classifier.feature_importances_, X.columns), reverse=True)\n",
    "for feature in features_rank:\n",
    "    print(f\"{feature[1]}: ({feature[0]})\")"
   ]
  },
  {
   "cell_type": "markdown",
   "id": "989df4ed",
   "metadata": {},
   "source": [
    "### Optimize model, Use resampling techniques to determine the best performing algorithm"
   ]
  },
  {
   "cell_type": "markdown",
   "id": "86a8deb4",
   "metadata": {},
   "source": [
    "#### Oversampling"
   ]
  },
  {
   "cell_type": "code",
   "execution_count": null,
   "id": "885cf74d",
   "metadata": {},
   "outputs": [],
   "source": []
  },
  {
   "cell_type": "markdown",
   "id": "428d8a8a",
   "metadata": {},
   "source": [
    "#### Undersampling"
   ]
  },
  {
   "cell_type": "code",
   "execution_count": null,
   "id": "d533346c",
   "metadata": {},
   "outputs": [],
   "source": []
  },
  {
   "cell_type": "markdown",
   "id": "cc156662",
   "metadata": {},
   "source": [
    "#### Combination (Over and Under) Sampling"
   ]
  },
  {
   "cell_type": "code",
   "execution_count": null,
   "id": "a1440667",
   "metadata": {},
   "outputs": [],
   "source": []
  }
 ],
 "metadata": {
  "kernelspec": {
   "display_name": "mlenv",
   "language": "python",
   "name": "python3"
  },
  "language_info": {
   "codemirror_mode": {
    "name": "ipython",
    "version": 3
   },
   "file_extension": ".py",
   "mimetype": "text/x-python",
   "name": "python",
   "nbconvert_exporter": "python",
   "pygments_lexer": "ipython3",
   "version": "3.7.13"
  }
 },
 "nbformat": 4,
 "nbformat_minor": 5
}
