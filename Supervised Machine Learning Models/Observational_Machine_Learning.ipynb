{
 "cells": [
  {
   "cell_type": "code",
   "execution_count": 1,
   "id": "945f5f5d",
   "metadata": {},
   "outputs": [],
   "source": [
    "import warnings\n",
    "warnings.filterwarnings('ignore')"
   ]
  },
  {
   "cell_type": "code",
   "execution_count": 2,
   "id": "54381d01",
   "metadata": {},
   "outputs": [],
   "source": [
    "import numpy as np\n",
    "import pandas as pd"
   ]
  },
  {
   "cell_type": "code",
   "execution_count": 3,
   "id": "f9ad881a",
   "metadata": {},
   "outputs": [],
   "source": [
    "from collections import Counter\n",
    "from sklearn.linear_model import LogisticRegression\n",
    "from sklearn.ensemble import RandomForestClassifier\n",
    "from sklearn.model_selection import train_test_split\n",
    "from sklearn.preprocessing import StandardScaler, LabelEncoder\n",
    "from sklearn.metrics import confusion_matrix, classification_report, balanced_accuracy_score, accuracy_score\n",
    "from imblearn.metrics import classification_report_imbalanced\n",
    "from imblearn.over_sampling import RandomOverSampler, SMOTE\n",
    "from imblearn.combine import SMOTEENN\n",
    "from imblearn.under_sampling import ClusterCentroids\n"
   ]
  },
  {
   "cell_type": "markdown",
   "id": "32f4aa77",
   "metadata": {},
   "source": [
    "### Import CSV and Perform Data Cleaning"
   ]
  },
  {
   "cell_type": "code",
   "execution_count": 4,
   "id": "284c3f3b",
   "metadata": {},
   "outputs": [],
   "source": [
    "# imprt CSV as DataFrame\n",
    "obs_df = pd.read_csv('../Tables/updated_obs_studies.csv')"
   ]
  },
  {
   "cell_type": "code",
   "execution_count": 5,
   "id": "01989677",
   "metadata": {},
   "outputs": [
    {
     "data": {
      "text/html": [
       "<div>\n",
       "<style scoped>\n",
       "    .dataframe tbody tr th:only-of-type {\n",
       "        vertical-align: middle;\n",
       "    }\n",
       "\n",
       "    .dataframe tbody tr th {\n",
       "        vertical-align: top;\n",
       "    }\n",
       "\n",
       "    .dataframe thead th {\n",
       "        text-align: right;\n",
       "    }\n",
       "</style>\n",
       "<table border=\"1\" class=\"dataframe\">\n",
       "  <thead>\n",
       "    <tr style=\"text-align: right;\">\n",
       "      <th></th>\n",
       "      <th>ID</th>\n",
       "      <th>title</th>\n",
       "      <th>actual_duration</th>\n",
       "      <th>status</th>\n",
       "      <th>study_type</th>\n",
       "      <th>observational_study_model</th>\n",
       "      <th>sampling_method</th>\n",
       "      <th>fda_regulated_drug</th>\n",
       "      <th>fda_regulated_device</th>\n",
       "      <th>enrollment_count</th>\n",
       "    </tr>\n",
       "  </thead>\n",
       "  <tbody>\n",
       "    <tr>\n",
       "      <th>0</th>\n",
       "      <td>BTX-BCI-016-PRT</td>\n",
       "      <td>Breast Cancer Index (BCI) Registry</td>\n",
       "      <td>2788 days</td>\n",
       "      <td>Recruiting</td>\n",
       "      <td>Observational</td>\n",
       "      <td>Case-Only</td>\n",
       "      <td>Non-Probability Sample</td>\n",
       "      <td>No</td>\n",
       "      <td>No</td>\n",
       "      <td>3000</td>\n",
       "    </tr>\n",
       "    <tr>\n",
       "      <th>1</th>\n",
       "      <td>2018-TJ-BCD</td>\n",
       "      <td>Diagnosis Value of SEMA4C in Breast Cancer</td>\n",
       "      <td>366 days</td>\n",
       "      <td>Not yet recruiting</td>\n",
       "      <td>Observational</td>\n",
       "      <td>Case-Control</td>\n",
       "      <td>Non-Probability Sample</td>\n",
       "      <td>No</td>\n",
       "      <td>No</td>\n",
       "      <td>2300</td>\n",
       "    </tr>\n",
       "    <tr>\n",
       "      <th>2</th>\n",
       "      <td>Breast cancer</td>\n",
       "      <td>Role of Sorcin and Annexin A3 in Breast Cancer...</td>\n",
       "      <td>253 days</td>\n",
       "      <td>Unknown status</td>\n",
       "      <td>Observational</td>\n",
       "      <td>Case-Control</td>\n",
       "      <td>Probability Sample</td>\n",
       "      <td>No</td>\n",
       "      <td>No</td>\n",
       "      <td>80</td>\n",
       "    </tr>\n",
       "    <tr>\n",
       "      <th>3</th>\n",
       "      <td>BC-BOMET</td>\n",
       "      <td>Evaluation of Prognostic Factors: From Breast ...</td>\n",
       "      <td>1765 days</td>\n",
       "      <td>Recruiting</td>\n",
       "      <td>Observational</td>\n",
       "      <td>Case-Control</td>\n",
       "      <td>Non-Probability Sample</td>\n",
       "      <td>No</td>\n",
       "      <td>No</td>\n",
       "      <td>30</td>\n",
       "    </tr>\n",
       "    <tr>\n",
       "      <th>4</th>\n",
       "      <td>241391</td>\n",
       "      <td>A Study to Identify Breast Cancer (IDBC)</td>\n",
       "      <td>1437 days</td>\n",
       "      <td>Unknown status</td>\n",
       "      <td>Observational</td>\n",
       "      <td>Cohort</td>\n",
       "      <td>Non-Probability Sample</td>\n",
       "      <td>No</td>\n",
       "      <td>No</td>\n",
       "      <td>600</td>\n",
       "    </tr>\n",
       "  </tbody>\n",
       "</table>\n",
       "</div>"
      ],
      "text/plain": [
       "                ID                                              title  \\\n",
       "0  BTX-BCI-016-PRT                 Breast Cancer Index (BCI) Registry   \n",
       "1      2018-TJ-BCD         Diagnosis Value of SEMA4C in Breast Cancer   \n",
       "2    Breast cancer  Role of Sorcin and Annexin A3 in Breast Cancer...   \n",
       "3         BC-BOMET  Evaluation of Prognostic Factors: From Breast ...   \n",
       "4           241391           A Study to Identify Breast Cancer (IDBC)   \n",
       "\n",
       "  actual_duration              status     study_type  \\\n",
       "0       2788 days          Recruiting  Observational   \n",
       "1        366 days  Not yet recruiting  Observational   \n",
       "2        253 days      Unknown status  Observational   \n",
       "3       1765 days          Recruiting  Observational   \n",
       "4       1437 days      Unknown status  Observational   \n",
       "\n",
       "  observational_study_model         sampling_method fda_regulated_drug  \\\n",
       "0                 Case-Only  Non-Probability Sample                 No   \n",
       "1              Case-Control  Non-Probability Sample                 No   \n",
       "2              Case-Control      Probability Sample                 No   \n",
       "3              Case-Control  Non-Probability Sample                 No   \n",
       "4                    Cohort  Non-Probability Sample                 No   \n",
       "\n",
       "  fda_regulated_device  enrollment_count  \n",
       "0                   No              3000  \n",
       "1                   No              2300  \n",
       "2                   No                80  \n",
       "3                   No                30  \n",
       "4                   No               600  "
      ]
     },
     "execution_count": 5,
     "metadata": {},
     "output_type": "execute_result"
    }
   ],
   "source": [
    "# Drop 'target_duration' column due to too many null values\n",
    "# Drop null rows\n",
    "\n",
    "obs_df = obs_df.drop(['target_duration'], axis=1)\n",
    "obs_df = obs_df.dropna()\n",
    "obs_df.head()"
   ]
  },
  {
   "cell_type": "code",
   "execution_count": 6,
   "id": "2b3ba8e1",
   "metadata": {},
   "outputs": [
    {
     "data": {
      "text/plain": [
       "status\n",
       "Active, not recruiting      73\n",
       "Completed                  186\n",
       "Enrolling by invitation     22\n",
       "Not yet recruiting         127\n",
       "Recruiting                 444\n",
       "Suspended                    7\n",
       "Terminated                  16\n",
       "Unknown status             127\n",
       "Withdrawn                   16\n",
       "dtype: int64"
      ]
     },
     "execution_count": 6,
     "metadata": {},
     "output_type": "execute_result"
    }
   ],
   "source": [
    "# Check distribution of each status\n",
    "obs_df.groupby('status').size()"
   ]
  },
  {
   "cell_type": "code",
   "execution_count": 7,
   "id": "26c81032",
   "metadata": {},
   "outputs": [
    {
     "data": {
      "text/html": [
       "<div>\n",
       "<style scoped>\n",
       "    .dataframe tbody tr th:only-of-type {\n",
       "        vertical-align: middle;\n",
       "    }\n",
       "\n",
       "    .dataframe tbody tr th {\n",
       "        vertical-align: top;\n",
       "    }\n",
       "\n",
       "    .dataframe thead th {\n",
       "        text-align: right;\n",
       "    }\n",
       "</style>\n",
       "<table border=\"1\" class=\"dataframe\">\n",
       "  <thead>\n",
       "    <tr style=\"text-align: right;\">\n",
       "      <th></th>\n",
       "      <th>ID</th>\n",
       "      <th>title</th>\n",
       "      <th>actual_duration</th>\n",
       "      <th>status</th>\n",
       "      <th>study_type</th>\n",
       "      <th>observational_study_model</th>\n",
       "      <th>sampling_method</th>\n",
       "      <th>fda_regulated_drug</th>\n",
       "      <th>fda_regulated_device</th>\n",
       "      <th>enrollment_count</th>\n",
       "    </tr>\n",
       "  </thead>\n",
       "  <tbody>\n",
       "    <tr>\n",
       "      <th>0</th>\n",
       "      <td>BTX-BCI-016-PRT</td>\n",
       "      <td>Breast Cancer Index (BCI) Registry</td>\n",
       "      <td>2788 days</td>\n",
       "      <td>high_chance</td>\n",
       "      <td>Observational</td>\n",
       "      <td>Case-Only</td>\n",
       "      <td>Non-Probability Sample</td>\n",
       "      <td>No</td>\n",
       "      <td>No</td>\n",
       "      <td>3000</td>\n",
       "    </tr>\n",
       "    <tr>\n",
       "      <th>1</th>\n",
       "      <td>2018-TJ-BCD</td>\n",
       "      <td>Diagnosis Value of SEMA4C in Breast Cancer</td>\n",
       "      <td>366 days</td>\n",
       "      <td>low_chance</td>\n",
       "      <td>Observational</td>\n",
       "      <td>Case-Control</td>\n",
       "      <td>Non-Probability Sample</td>\n",
       "      <td>No</td>\n",
       "      <td>No</td>\n",
       "      <td>2300</td>\n",
       "    </tr>\n",
       "    <tr>\n",
       "      <th>3</th>\n",
       "      <td>BC-BOMET</td>\n",
       "      <td>Evaluation of Prognostic Factors: From Breast ...</td>\n",
       "      <td>1765 days</td>\n",
       "      <td>high_chance</td>\n",
       "      <td>Observational</td>\n",
       "      <td>Case-Control</td>\n",
       "      <td>Non-Probability Sample</td>\n",
       "      <td>No</td>\n",
       "      <td>No</td>\n",
       "      <td>30</td>\n",
       "    </tr>\n",
       "    <tr>\n",
       "      <th>6</th>\n",
       "      <td>FH-Risk 2.0 Research Protocol</td>\n",
       "      <td>FH-Risk 2.0: Updating Breast Cancer Risk Estim...</td>\n",
       "      <td>975 days</td>\n",
       "      <td>high_chance</td>\n",
       "      <td>Observational</td>\n",
       "      <td>Other</td>\n",
       "      <td>Non-Probability Sample</td>\n",
       "      <td>No</td>\n",
       "      <td>No</td>\n",
       "      <td>271</td>\n",
       "    </tr>\n",
       "    <tr>\n",
       "      <th>7</th>\n",
       "      <td>ID-RPSBC-01-20201012</td>\n",
       "      <td>Genetic and Non-Genetic Breast Cancer Risk Pre...</td>\n",
       "      <td>990 days</td>\n",
       "      <td>high_chance</td>\n",
       "      <td>Observational</td>\n",
       "      <td>Case-Control</td>\n",
       "      <td>Probability Sample</td>\n",
       "      <td>No</td>\n",
       "      <td>No</td>\n",
       "      <td>316</td>\n",
       "    </tr>\n",
       "  </tbody>\n",
       "</table>\n",
       "</div>"
      ],
      "text/plain": [
       "                              ID  \\\n",
       "0                BTX-BCI-016-PRT   \n",
       "1                    2018-TJ-BCD   \n",
       "3                       BC-BOMET   \n",
       "6  FH-Risk 2.0 Research Protocol   \n",
       "7           ID-RPSBC-01-20201012   \n",
       "\n",
       "                                               title actual_duration  \\\n",
       "0                 Breast Cancer Index (BCI) Registry       2788 days   \n",
       "1         Diagnosis Value of SEMA4C in Breast Cancer        366 days   \n",
       "3  Evaluation of Prognostic Factors: From Breast ...       1765 days   \n",
       "6  FH-Risk 2.0: Updating Breast Cancer Risk Estim...        975 days   \n",
       "7  Genetic and Non-Genetic Breast Cancer Risk Pre...        990 days   \n",
       "\n",
       "        status     study_type observational_study_model  \\\n",
       "0  high_chance  Observational                 Case-Only   \n",
       "1   low_chance  Observational              Case-Control   \n",
       "3  high_chance  Observational              Case-Control   \n",
       "6  high_chance  Observational                     Other   \n",
       "7  high_chance  Observational              Case-Control   \n",
       "\n",
       "          sampling_method fda_regulated_drug fda_regulated_device  \\\n",
       "0  Non-Probability Sample                 No                   No   \n",
       "1  Non-Probability Sample                 No                   No   \n",
       "3  Non-Probability Sample                 No                   No   \n",
       "6  Non-Probability Sample                 No                   No   \n",
       "7      Probability Sample                 No                   No   \n",
       "\n",
       "   enrollment_count  \n",
       "0              3000  \n",
       "1              2300  \n",
       "3                30  \n",
       "6               271  \n",
       "7               316  "
      ]
     },
     "execution_count": 7,
     "metadata": {},
     "output_type": "execute_result"
    }
   ],
   "source": [
    "# Drop rows with 'unknown status'\n",
    "obs_df = obs_df.loc[obs_df['status'] != 'Unknown status']\n",
    "\n",
    "# categorize the status\n",
    "replace_value = {\n",
    "    'Completed':'high_chance',\n",
    "    'Active, not recruiting': 'low_chance',\n",
    "    'Enrolling by invitation': 'high_chance',\n",
    "    'Not yet recruiting': 'low_chance',\n",
    "    'Recruiting': 'high_chance',\n",
    "    'Suspended': 'low_chance',\n",
    "    'Terminated': 'low_chance',\n",
    "    'Withdrawn': 'low_chance'\n",
    "} \n",
    "\n",
    "obs_df = obs_df.replace({\"status\": replace_value})\n",
    "obs_df.head()\n"
   ]
  },
  {
   "cell_type": "code",
   "execution_count": 8,
   "id": "4f47967c",
   "metadata": {},
   "outputs": [],
   "source": [
    "# Create DF for machine learning - removes unnecessary columns\n",
    "obs_ml_df = obs_df[['status', 'enrollment_count', 'actual_duration', 'observational_study_model', 'sampling_method', 'fda_regulated_drug', 'fda_regulated_device', ]]"
   ]
  },
  {
   "cell_type": "code",
   "execution_count": 9,
   "id": "bf5abfc4",
   "metadata": {},
   "outputs": [
    {
     "data": {
      "text/html": [
       "<div>\n",
       "<style scoped>\n",
       "    .dataframe tbody tr th:only-of-type {\n",
       "        vertical-align: middle;\n",
       "    }\n",
       "\n",
       "    .dataframe tbody tr th {\n",
       "        vertical-align: top;\n",
       "    }\n",
       "\n",
       "    .dataframe thead th {\n",
       "        text-align: right;\n",
       "    }\n",
       "</style>\n",
       "<table border=\"1\" class=\"dataframe\">\n",
       "  <thead>\n",
       "    <tr style=\"text-align: right;\">\n",
       "      <th></th>\n",
       "      <th>status</th>\n",
       "      <th>enrollment_count</th>\n",
       "      <th>actual_duration</th>\n",
       "      <th>observational_study_model_Case-Control</th>\n",
       "      <th>observational_study_model_Case-Crossover</th>\n",
       "      <th>observational_study_model_Case-Only</th>\n",
       "      <th>observational_study_model_Cohort</th>\n",
       "      <th>observational_study_model_Ecologic or Community</th>\n",
       "      <th>observational_study_model_Family-Based</th>\n",
       "      <th>observational_study_model_Other</th>\n",
       "      <th>sampling_method_Non-Probability Sample</th>\n",
       "      <th>sampling_method_Probability Sample</th>\n",
       "      <th>fda_regulated_drug_No</th>\n",
       "      <th>fda_regulated_drug_Yes</th>\n",
       "      <th>fda_regulated_device_No</th>\n",
       "      <th>fda_regulated_device_Yes</th>\n",
       "    </tr>\n",
       "  </thead>\n",
       "  <tbody>\n",
       "    <tr>\n",
       "      <th>0</th>\n",
       "      <td>0</td>\n",
       "      <td>3000</td>\n",
       "      <td>2788 days</td>\n",
       "      <td>0</td>\n",
       "      <td>0</td>\n",
       "      <td>1</td>\n",
       "      <td>0</td>\n",
       "      <td>0</td>\n",
       "      <td>0</td>\n",
       "      <td>0</td>\n",
       "      <td>1</td>\n",
       "      <td>0</td>\n",
       "      <td>1</td>\n",
       "      <td>0</td>\n",
       "      <td>1</td>\n",
       "      <td>0</td>\n",
       "    </tr>\n",
       "    <tr>\n",
       "      <th>1</th>\n",
       "      <td>1</td>\n",
       "      <td>2300</td>\n",
       "      <td>366 days</td>\n",
       "      <td>1</td>\n",
       "      <td>0</td>\n",
       "      <td>0</td>\n",
       "      <td>0</td>\n",
       "      <td>0</td>\n",
       "      <td>0</td>\n",
       "      <td>0</td>\n",
       "      <td>1</td>\n",
       "      <td>0</td>\n",
       "      <td>1</td>\n",
       "      <td>0</td>\n",
       "      <td>1</td>\n",
       "      <td>0</td>\n",
       "    </tr>\n",
       "    <tr>\n",
       "      <th>3</th>\n",
       "      <td>0</td>\n",
       "      <td>30</td>\n",
       "      <td>1765 days</td>\n",
       "      <td>1</td>\n",
       "      <td>0</td>\n",
       "      <td>0</td>\n",
       "      <td>0</td>\n",
       "      <td>0</td>\n",
       "      <td>0</td>\n",
       "      <td>0</td>\n",
       "      <td>1</td>\n",
       "      <td>0</td>\n",
       "      <td>1</td>\n",
       "      <td>0</td>\n",
       "      <td>1</td>\n",
       "      <td>0</td>\n",
       "    </tr>\n",
       "    <tr>\n",
       "      <th>6</th>\n",
       "      <td>0</td>\n",
       "      <td>271</td>\n",
       "      <td>975 days</td>\n",
       "      <td>0</td>\n",
       "      <td>0</td>\n",
       "      <td>0</td>\n",
       "      <td>0</td>\n",
       "      <td>0</td>\n",
       "      <td>0</td>\n",
       "      <td>1</td>\n",
       "      <td>1</td>\n",
       "      <td>0</td>\n",
       "      <td>1</td>\n",
       "      <td>0</td>\n",
       "      <td>1</td>\n",
       "      <td>0</td>\n",
       "    </tr>\n",
       "    <tr>\n",
       "      <th>7</th>\n",
       "      <td>0</td>\n",
       "      <td>316</td>\n",
       "      <td>990 days</td>\n",
       "      <td>1</td>\n",
       "      <td>0</td>\n",
       "      <td>0</td>\n",
       "      <td>0</td>\n",
       "      <td>0</td>\n",
       "      <td>0</td>\n",
       "      <td>0</td>\n",
       "      <td>0</td>\n",
       "      <td>1</td>\n",
       "      <td>1</td>\n",
       "      <td>0</td>\n",
       "      <td>1</td>\n",
       "      <td>0</td>\n",
       "    </tr>\n",
       "  </tbody>\n",
       "</table>\n",
       "</div>"
      ],
      "text/plain": [
       "   status  enrollment_count actual_duration  \\\n",
       "0       0              3000       2788 days   \n",
       "1       1              2300        366 days   \n",
       "3       0                30       1765 days   \n",
       "6       0               271        975 days   \n",
       "7       0               316        990 days   \n",
       "\n",
       "   observational_study_model_Case-Control  \\\n",
       "0                                       0   \n",
       "1                                       1   \n",
       "3                                       1   \n",
       "6                                       0   \n",
       "7                                       1   \n",
       "\n",
       "   observational_study_model_Case-Crossover  \\\n",
       "0                                         0   \n",
       "1                                         0   \n",
       "3                                         0   \n",
       "6                                         0   \n",
       "7                                         0   \n",
       "\n",
       "   observational_study_model_Case-Only  observational_study_model_Cohort  \\\n",
       "0                                    1                                 0   \n",
       "1                                    0                                 0   \n",
       "3                                    0                                 0   \n",
       "6                                    0                                 0   \n",
       "7                                    0                                 0   \n",
       "\n",
       "   observational_study_model_Ecologic or Community  \\\n",
       "0                                                0   \n",
       "1                                                0   \n",
       "3                                                0   \n",
       "6                                                0   \n",
       "7                                                0   \n",
       "\n",
       "   observational_study_model_Family-Based  observational_study_model_Other  \\\n",
       "0                                       0                                0   \n",
       "1                                       0                                0   \n",
       "3                                       0                                0   \n",
       "6                                       0                                1   \n",
       "7                                       0                                0   \n",
       "\n",
       "   sampling_method_Non-Probability Sample  sampling_method_Probability Sample  \\\n",
       "0                                       1                                   0   \n",
       "1                                       1                                   0   \n",
       "3                                       1                                   0   \n",
       "6                                       1                                   0   \n",
       "7                                       0                                   1   \n",
       "\n",
       "   fda_regulated_drug_No  fda_regulated_drug_Yes  fda_regulated_device_No  \\\n",
       "0                      1                       0                        1   \n",
       "1                      1                       0                        1   \n",
       "3                      1                       0                        1   \n",
       "6                      1                       0                        1   \n",
       "7                      1                       0                        1   \n",
       "\n",
       "   fda_regulated_device_Yes  \n",
       "0                         0  \n",
       "1                         0  \n",
       "3                         0  \n",
       "6                         0  \n",
       "7                         0  "
      ]
     },
     "execution_count": 9,
     "metadata": {},
     "output_type": "execute_result"
    }
   ],
   "source": [
    "# Encode all columns into numbers to run through machine learning\n",
    "obs_ml_df['status'] = LabelEncoder().fit_transform(obs_ml_df['status'])\n",
    "obs_ml_df = pd.get_dummies(obs_ml_df,columns=['observational_study_model', 'sampling_method', 'fda_regulated_drug', 'fda_regulated_device'])\n",
    "obs_ml_df.head()"
   ]
  },
  {
   "cell_type": "code",
   "execution_count": 10,
   "id": "e44dcbc6",
   "metadata": {},
   "outputs": [],
   "source": [
    "###### TO BE REMOVED ONCE DATA IS UPDATED\n",
    "\n",
    "obs_ml_df['actual_duration'] = pd.to_numeric(obs_ml_df['actual_duration'].astype(str).str.replace('days', ''), errors='coerce')"
   ]
  },
  {
   "cell_type": "code",
   "execution_count": 11,
   "id": "c36382ae",
   "metadata": {},
   "outputs": [],
   "source": [
    "X = obs_ml_df.drop(\"status\", axis=1)\n",
    "y = obs_ml_df.status"
   ]
  },
  {
   "cell_type": "code",
   "execution_count": 12,
   "id": "310f2d2f",
   "metadata": {},
   "outputs": [],
   "source": [
    "X_train, X_test, y_train, y_test = train_test_split(X, y, random_state=1)"
   ]
  },
  {
   "cell_type": "code",
   "execution_count": 13,
   "id": "70b4e84e",
   "metadata": {},
   "outputs": [],
   "source": [
    "# Create StandardScaler instance\n",
    "scaler = StandardScaler()\n",
    "\n",
    "# Fit Standard Scaler with training data\n",
    "X_scaler = scaler.fit(X_train)\n",
    "\n",
    "# Scale the data\n",
    "X_train_scaled = X_scaler.transform(X_train)\n",
    "X_test_scaled = X_scaler.transform(X_test)\n"
   ]
  },
  {
   "cell_type": "markdown",
   "id": "f878a051",
   "metadata": {},
   "source": [
    "### Random Forest Classifier"
   ]
  },
  {
   "cell_type": "code",
   "execution_count": 14,
   "id": "b773dd4c",
   "metadata": {},
   "outputs": [],
   "source": [
    "# Create random forest classifier\n",
    "rf_model = RandomForestClassifier(n_estimators=256, random_state=1)\n",
    "\n",
    "# Fit the model\n",
    "rf_model = rf_model.fit(X_train_scaled, y_train)"
   ]
  },
  {
   "cell_type": "code",
   "execution_count": 15,
   "id": "87db5d01",
   "metadata": {},
   "outputs": [],
   "source": [
    "# Create prediction\n",
    "y_pred = rf_model.predict(X_test_scaled)"
   ]
  },
  {
   "cell_type": "code",
   "execution_count": 16,
   "id": "e134c48f",
   "metadata": {},
   "outputs": [
    {
     "data": {
      "text/html": [
       "<div>\n",
       "<style scoped>\n",
       "    .dataframe tbody tr th:only-of-type {\n",
       "        vertical-align: middle;\n",
       "    }\n",
       "\n",
       "    .dataframe tbody tr th {\n",
       "        vertical-align: top;\n",
       "    }\n",
       "\n",
       "    .dataframe thead th {\n",
       "        text-align: right;\n",
       "    }\n",
       "</style>\n",
       "<table border=\"1\" class=\"dataframe\">\n",
       "  <thead>\n",
       "    <tr style=\"text-align: right;\">\n",
       "      <th></th>\n",
       "      <th>Predicted High Chance</th>\n",
       "      <th>Predicted Low Chance</th>\n",
       "    </tr>\n",
       "  </thead>\n",
       "  <tbody>\n",
       "    <tr>\n",
       "      <th>Actual High Chance</th>\n",
       "      <td>152</td>\n",
       "      <td>24</td>\n",
       "    </tr>\n",
       "    <tr>\n",
       "      <th>Actual Low chance</th>\n",
       "      <td>40</td>\n",
       "      <td>7</td>\n",
       "    </tr>\n",
       "  </tbody>\n",
       "</table>\n",
       "</div>"
      ],
      "text/plain": [
       "                    Predicted High Chance  Predicted Low Chance\n",
       "Actual High Chance                    152                    24\n",
       "Actual Low chance                      40                     7"
      ]
     },
     "execution_count": 16,
     "metadata": {},
     "output_type": "execute_result"
    }
   ],
   "source": [
    "# Display the confusion matrix\n",
    "cm = confusion_matrix(y_test, y_pred)\n",
    "cm_df = pd.DataFrame(cm, index=['Actual High Chance', 'Actual Low chance'], columns = ['Predicted High Chance', 'Predicted Low Chance'])\n",
    "cm_df"
   ]
  },
  {
   "cell_type": "code",
   "execution_count": 17,
   "id": "7c30322d",
   "metadata": {},
   "outputs": [
    {
     "name": "stdout",
     "output_type": "stream",
     "text": [
      "Confusion Matrix\n"
     ]
    },
    {
     "data": {
      "text/html": [
       "<div>\n",
       "<style scoped>\n",
       "    .dataframe tbody tr th:only-of-type {\n",
       "        vertical-align: middle;\n",
       "    }\n",
       "\n",
       "    .dataframe tbody tr th {\n",
       "        vertical-align: top;\n",
       "    }\n",
       "\n",
       "    .dataframe thead th {\n",
       "        text-align: right;\n",
       "    }\n",
       "</style>\n",
       "<table border=\"1\" class=\"dataframe\">\n",
       "  <thead>\n",
       "    <tr style=\"text-align: right;\">\n",
       "      <th></th>\n",
       "      <th>Predicted High Chance</th>\n",
       "      <th>Predicted Low Chance</th>\n",
       "    </tr>\n",
       "  </thead>\n",
       "  <tbody>\n",
       "    <tr>\n",
       "      <th>Actual High Chance</th>\n",
       "      <td>152</td>\n",
       "      <td>24</td>\n",
       "    </tr>\n",
       "    <tr>\n",
       "      <th>Actual Low chance</th>\n",
       "      <td>40</td>\n",
       "      <td>7</td>\n",
       "    </tr>\n",
       "  </tbody>\n",
       "</table>\n",
       "</div>"
      ],
      "text/plain": [
       "                    Predicted High Chance  Predicted Low Chance\n",
       "Actual High Chance                    152                    24\n",
       "Actual Low chance                      40                     7"
      ]
     },
     "metadata": {},
     "output_type": "display_data"
    },
    {
     "name": "stdout",
     "output_type": "stream",
     "text": [
      "Accuracy Score: 0.7130044843049327\n",
      "Balaned Accuracy Score: 0.5062862669245648\n",
      "---------------------------\n",
      "Classfication Report\n",
      "                   pre       rec       spe        f1       geo       iba       sup\n",
      "\n",
      "          0       0.79      0.86      0.15      0.83      0.36      0.14       176\n",
      "          1       0.23      0.15      0.86      0.18      0.36      0.12        47\n",
      "\n",
      "avg / total       0.67      0.71      0.30      0.69      0.36      0.13       223\n",
      "\n"
     ]
    }
   ],
   "source": [
    "# Calculate accuracy score\n",
    "acc_score = accuracy_score(y_test, y_pred)\n",
    "bal_acc_score = balanced_accuracy_score(y_test, y_pred)\n",
    "\n",
    "# Print results\n",
    "print(\"Confusion Matrix\")\n",
    "display(cm_df)\n",
    "print(f'Accuracy Score: {acc_score}')\n",
    "print(f'Balaned Accuracy Score: {bal_acc_score}')\n",
    "print(\"---------------------------\")\n",
    "print(\"Classfication Report\")\n",
    "print(classification_report_imbalanced(y_test, y_pred))"
   ]
  },
  {
   "cell_type": "code",
   "execution_count": 18,
   "id": "c549cd1c",
   "metadata": {},
   "outputs": [
    {
     "data": {
      "text/plain": [
       "[(0.4680974298004842, 'actual_duration'),\n",
       " (0.44667151135489436, 'enrollment_count'),\n",
       " (0.012773816587621679, 'observational_study_model_Cohort'),\n",
       " (0.009906160855485025, 'observational_study_model_Case-Control'),\n",
       " (0.0094393235152842, 'sampling_method_Non-Probability Sample'),\n",
       " (0.00907781263334816, 'sampling_method_Probability Sample'),\n",
       " (0.008838474262911277, 'observational_study_model_Case-Only'),\n",
       " (0.007932712781807016, 'observational_study_model_Other'),\n",
       " (0.006121346468076523, 'fda_regulated_device_Yes'),\n",
       " (0.005374103700612015, 'fda_regulated_device_No'),\n",
       " (0.0050356943625501065, 'fda_regulated_drug_No'),\n",
       " (0.00461309267040879, 'fda_regulated_drug_Yes'),\n",
       " (0.004365275464086825, 'observational_study_model_Case-Crossover'),\n",
       " (0.0017532455424299543, 'observational_study_model_Ecologic or Community'),\n",
       " (0.0, 'observational_study_model_Family-Based')]"
      ]
     },
     "execution_count": 18,
     "metadata": {},
     "output_type": "execute_result"
    }
   ],
   "source": [
    "# Calculate feature importance\n",
    "importances = rf_model.feature_importances_\n",
    "\n",
    "# sort features by importance\n",
    "sorted(zip(importances, X.columns), reverse=True)"
   ]
  },
  {
   "cell_type": "markdown",
   "id": "492c1421",
   "metadata": {},
   "source": [
    "### Balanced Random Forest Classifier"
   ]
  },
  {
   "cell_type": "code",
   "execution_count": 19,
   "id": "c2293672",
   "metadata": {},
   "outputs": [
    {
     "data": {
      "text/plain": [
       "BalancedRandomForestClassifier(n_estimators=256, random_state=1)"
      ]
     },
     "execution_count": 19,
     "metadata": {},
     "output_type": "execute_result"
    }
   ],
   "source": [
    "# Resample the training data with the BalancedRandomForestClassifier\n",
    "from imblearn.ensemble import BalancedRandomForestClassifier\n",
    "\n",
    "# Instantiate model\n",
    "classifier = BalancedRandomForestClassifier(n_estimators=256, random_state=1)\n",
    "\n",
    "# Fit model\n",
    "classifier.fit(X_train, y_train)"
   ]
  },
  {
   "cell_type": "code",
   "execution_count": 20,
   "id": "f1c2a6a8",
   "metadata": {},
   "outputs": [
    {
     "data": {
      "text/plain": [
       "0.49329061895551257"
      ]
     },
     "execution_count": 20,
     "metadata": {},
     "output_type": "execute_result"
    }
   ],
   "source": [
    "# Calculated the balanced accuracy score\n",
    "y_pred = classifier.predict(X_test)\n",
    "balanced_accuracy_score(y_test, y_pred)"
   ]
  },
  {
   "cell_type": "code",
   "execution_count": 21,
   "id": "cfbb79e5",
   "metadata": {},
   "outputs": [
    {
     "data": {
      "text/html": [
       "<div>\n",
       "<style scoped>\n",
       "    .dataframe tbody tr th:only-of-type {\n",
       "        vertical-align: middle;\n",
       "    }\n",
       "\n",
       "    .dataframe tbody tr th {\n",
       "        vertical-align: top;\n",
       "    }\n",
       "\n",
       "    .dataframe thead th {\n",
       "        text-align: right;\n",
       "    }\n",
       "</style>\n",
       "<table border=\"1\" class=\"dataframe\">\n",
       "  <thead>\n",
       "    <tr style=\"text-align: right;\">\n",
       "      <th></th>\n",
       "      <th>Predicted High Chance</th>\n",
       "      <th>Predicted Low Chance</th>\n",
       "    </tr>\n",
       "  </thead>\n",
       "  <tbody>\n",
       "    <tr>\n",
       "      <th>Actual High Chance</th>\n",
       "      <td>95</td>\n",
       "      <td>81</td>\n",
       "    </tr>\n",
       "    <tr>\n",
       "      <th>Actual Low chance</th>\n",
       "      <td>26</td>\n",
       "      <td>21</td>\n",
       "    </tr>\n",
       "  </tbody>\n",
       "</table>\n",
       "</div>"
      ],
      "text/plain": [
       "                    Predicted High Chance  Predicted Low Chance\n",
       "Actual High Chance                     95                    81\n",
       "Actual Low chance                      26                    21"
      ]
     },
     "execution_count": 21,
     "metadata": {},
     "output_type": "execute_result"
    }
   ],
   "source": [
    "# Display the confusion matrix\n",
    "cm = confusion_matrix(y_test, y_pred)\n",
    "cm_df = pd.DataFrame(cm, index=['Actual High Chance', 'Actual Low chance'], columns = ['Predicted High Chance', 'Predicted Low Chance'])\n",
    "cm_df"
   ]
  },
  {
   "cell_type": "code",
   "execution_count": 22,
   "id": "b265420f",
   "metadata": {},
   "outputs": [
    {
     "name": "stdout",
     "output_type": "stream",
     "text": [
      "Confusion Matrix\n"
     ]
    },
    {
     "data": {
      "text/html": [
       "<div>\n",
       "<style scoped>\n",
       "    .dataframe tbody tr th:only-of-type {\n",
       "        vertical-align: middle;\n",
       "    }\n",
       "\n",
       "    .dataframe tbody tr th {\n",
       "        vertical-align: top;\n",
       "    }\n",
       "\n",
       "    .dataframe thead th {\n",
       "        text-align: right;\n",
       "    }\n",
       "</style>\n",
       "<table border=\"1\" class=\"dataframe\">\n",
       "  <thead>\n",
       "    <tr style=\"text-align: right;\">\n",
       "      <th></th>\n",
       "      <th>Predicted High Chance</th>\n",
       "      <th>Predicted Low Chance</th>\n",
       "    </tr>\n",
       "  </thead>\n",
       "  <tbody>\n",
       "    <tr>\n",
       "      <th>Actual High Chance</th>\n",
       "      <td>95</td>\n",
       "      <td>81</td>\n",
       "    </tr>\n",
       "    <tr>\n",
       "      <th>Actual Low chance</th>\n",
       "      <td>26</td>\n",
       "      <td>21</td>\n",
       "    </tr>\n",
       "  </tbody>\n",
       "</table>\n",
       "</div>"
      ],
      "text/plain": [
       "                    Predicted High Chance  Predicted Low Chance\n",
       "Actual High Chance                     95                    81\n",
       "Actual Low chance                      26                    21"
      ]
     },
     "metadata": {},
     "output_type": "display_data"
    },
    {
     "name": "stdout",
     "output_type": "stream",
     "text": [
      "Accuracy Score: 0.5201793721973094\n",
      "Balaned Accuracy Score: 0.49329061895551257\n",
      "---------------------------\n",
      "Classfication Report\n",
      "                   pre       rec       spe        f1       geo       iba       sup\n",
      "\n",
      "          0       0.79      0.54      0.45      0.64      0.49      0.24       176\n",
      "          1       0.21      0.45      0.54      0.28      0.49      0.24        47\n",
      "\n",
      "avg / total       0.66      0.52      0.47      0.56      0.49      0.24       223\n",
      "\n"
     ]
    }
   ],
   "source": [
    "# Calculate accuracy score\n",
    "acc_score = accuracy_score(y_test, y_pred)\n",
    "bal_acc_score = balanced_accuracy_score(y_test, y_pred)\n",
    "\n",
    "# Print results\n",
    "print(\"Confusion Matrix\")\n",
    "display(cm_df)\n",
    "print(f'Accuracy Score: {acc_score}')\n",
    "print(f'Balaned Accuracy Score: {bal_acc_score}')\n",
    "print(\"---------------------------\")\n",
    "print(\"Classfication Report\")\n",
    "print(classification_report_imbalanced(y_test, y_pred))"
   ]
  },
  {
   "cell_type": "code",
   "execution_count": 23,
   "id": "0a234144",
   "metadata": {},
   "outputs": [
    {
     "name": "stdout",
     "output_type": "stream",
     "text": [
      "actual_duration: (0.4680974298004842)\n",
      "enrollment_count: (0.44667151135489436)\n",
      "observational_study_model_Cohort: (0.012773816587621679)\n",
      "observational_study_model_Case-Control: (0.009906160855485025)\n",
      "sampling_method_Non-Probability Sample: (0.0094393235152842)\n",
      "sampling_method_Probability Sample: (0.00907781263334816)\n",
      "observational_study_model_Case-Only: (0.008838474262911277)\n",
      "observational_study_model_Other: (0.007932712781807016)\n",
      "fda_regulated_device_Yes: (0.006121346468076523)\n",
      "fda_regulated_device_No: (0.005374103700612015)\n",
      "fda_regulated_drug_No: (0.0050356943625501065)\n",
      "fda_regulated_drug_Yes: (0.00461309267040879)\n",
      "observational_study_model_Case-Crossover: (0.004365275464086825)\n",
      "observational_study_model_Ecologic or Community: (0.0017532455424299543)\n",
      "observational_study_model_Family-Based: (0.0)\n"
     ]
    }
   ],
   "source": [
    "# Calculate feature importance\n",
    "importances = rf_model.feature_importances_\n",
    "\n",
    "\n",
    "# List the features sorted in descending order by feature importance\n",
    "features_rank = sorted(zip(importances, X.columns), reverse=True)\n",
    "for feature in features_rank:\n",
    "    print(f\"{feature[1]}: ({feature[0]})\")"
   ]
  },
  {
   "cell_type": "markdown",
   "id": "c04de9c2",
   "metadata": {},
   "source": [
    "### Logistic Regression"
   ]
  },
  {
   "cell_type": "code",
   "execution_count": 24,
   "id": "a84bf018",
   "metadata": {},
   "outputs": [],
   "source": [
    "# Declare model\n",
    "lr_model = LogisticRegression(solver='lbfgs', random_state=42)\n",
    "\n",
    "# fit the model\n",
    "lr_model = lr_model.fit(X_train_scaled, y_train)"
   ]
  },
  {
   "cell_type": "code",
   "execution_count": 25,
   "id": "6b3c8222",
   "metadata": {},
   "outputs": [],
   "source": [
    "# create prediction\n",
    "y_pred = lr_model.predict(X_test_scaled)"
   ]
  },
  {
   "cell_type": "code",
   "execution_count": 26,
   "id": "5408ad47",
   "metadata": {},
   "outputs": [
    {
     "data": {
      "text/html": [
       "<div>\n",
       "<style scoped>\n",
       "    .dataframe tbody tr th:only-of-type {\n",
       "        vertical-align: middle;\n",
       "    }\n",
       "\n",
       "    .dataframe tbody tr th {\n",
       "        vertical-align: top;\n",
       "    }\n",
       "\n",
       "    .dataframe thead th {\n",
       "        text-align: right;\n",
       "    }\n",
       "</style>\n",
       "<table border=\"1\" class=\"dataframe\">\n",
       "  <thead>\n",
       "    <tr style=\"text-align: right;\">\n",
       "      <th></th>\n",
       "      <th>Predicted High Chance</th>\n",
       "      <th>Predicted Low Chance</th>\n",
       "    </tr>\n",
       "  </thead>\n",
       "  <tbody>\n",
       "    <tr>\n",
       "      <th>Actual High Chance</th>\n",
       "      <td>176</td>\n",
       "      <td>0</td>\n",
       "    </tr>\n",
       "    <tr>\n",
       "      <th>Actual Low chance</th>\n",
       "      <td>47</td>\n",
       "      <td>0</td>\n",
       "    </tr>\n",
       "  </tbody>\n",
       "</table>\n",
       "</div>"
      ],
      "text/plain": [
       "                    Predicted High Chance  Predicted Low Chance\n",
       "Actual High Chance                    176                     0\n",
       "Actual Low chance                      47                     0"
      ]
     },
     "execution_count": 26,
     "metadata": {},
     "output_type": "execute_result"
    }
   ],
   "source": [
    "# Display the confusion matrix\n",
    "cm = confusion_matrix(y_test, y_pred)\n",
    "cm_df = pd.DataFrame(cm, index=['Actual High Chance', 'Actual Low chance'], columns = ['Predicted High Chance', 'Predicted Low Chance'])\n",
    "cm_df"
   ]
  },
  {
   "cell_type": "code",
   "execution_count": 27,
   "id": "7264f036",
   "metadata": {},
   "outputs": [
    {
     "name": "stdout",
     "output_type": "stream",
     "text": [
      "Confusion Matrix\n"
     ]
    },
    {
     "data": {
      "text/html": [
       "<div>\n",
       "<style scoped>\n",
       "    .dataframe tbody tr th:only-of-type {\n",
       "        vertical-align: middle;\n",
       "    }\n",
       "\n",
       "    .dataframe tbody tr th {\n",
       "        vertical-align: top;\n",
       "    }\n",
       "\n",
       "    .dataframe thead th {\n",
       "        text-align: right;\n",
       "    }\n",
       "</style>\n",
       "<table border=\"1\" class=\"dataframe\">\n",
       "  <thead>\n",
       "    <tr style=\"text-align: right;\">\n",
       "      <th></th>\n",
       "      <th>Predicted High Chance</th>\n",
       "      <th>Predicted Low Chance</th>\n",
       "    </tr>\n",
       "  </thead>\n",
       "  <tbody>\n",
       "    <tr>\n",
       "      <th>Actual High Chance</th>\n",
       "      <td>176</td>\n",
       "      <td>0</td>\n",
       "    </tr>\n",
       "    <tr>\n",
       "      <th>Actual Low chance</th>\n",
       "      <td>47</td>\n",
       "      <td>0</td>\n",
       "    </tr>\n",
       "  </tbody>\n",
       "</table>\n",
       "</div>"
      ],
      "text/plain": [
       "                    Predicted High Chance  Predicted Low Chance\n",
       "Actual High Chance                    176                     0\n",
       "Actual Low chance                      47                     0"
      ]
     },
     "metadata": {},
     "output_type": "display_data"
    },
    {
     "name": "stdout",
     "output_type": "stream",
     "text": [
      "Accuracy Score: 0.7892376681614349\n",
      "Balaned Accuracy Score: 0.5\n",
      "---------------------------\n",
      "Classfication Report\n",
      "                   pre       rec       spe        f1       geo       iba       sup\n",
      "\n",
      "          0       0.79      1.00      0.00      0.88      0.00      0.00       176\n",
      "          1       0.00      0.00      1.00      0.00      0.00      0.00        47\n",
      "\n",
      "avg / total       0.62      0.79      0.21      0.70      0.00      0.00       223\n",
      "\n"
     ]
    }
   ],
   "source": [
    "# Calculate accuracy score\n",
    "acc_score = accuracy_score(y_test, y_pred)\n",
    "bal_acc_score = balanced_accuracy_score(y_test, y_pred)\n",
    "\n",
    "# Print results\n",
    "print(\"Confusion Matrix\")\n",
    "display(cm_df)\n",
    "print(f'Accuracy Score: {acc_score}')\n",
    "print(f'Balaned Accuracy Score: {bal_acc_score}')\n",
    "print(\"---------------------------\")\n",
    "print(\"Classfication Report\")\n",
    "print(classification_report_imbalanced(y_test, y_pred))"
   ]
  },
  {
   "cell_type": "markdown",
   "id": "989df4ed",
   "metadata": {},
   "source": [
    "### Optimize model, Use resampling techniques to determine the best performing algorithm"
   ]
  },
  {
   "cell_type": "markdown",
   "id": "86a8deb4",
   "metadata": {},
   "source": [
    "#### Oversampling"
   ]
  },
  {
   "cell_type": "markdown",
   "id": "6116f7a5",
   "metadata": {},
   "source": [
    "- Random Over Sampler"
   ]
  },
  {
   "cell_type": "code",
   "execution_count": 28,
   "id": "885cf74d",
   "metadata": {},
   "outputs": [],
   "source": [
    "# Resample with RandomOverSampler\n",
    "ros = RandomOverSampler(random_state=1)\n",
    "X_resampled, y_resampled = ros.fit_resample(X_train, y_train)"
   ]
  },
  {
   "cell_type": "code",
   "execution_count": 29,
   "id": "bb17ff6d",
   "metadata": {},
   "outputs": [
    {
     "data": {
      "text/plain": [
       "LogisticRegression(random_state=1)"
      ]
     },
     "execution_count": 29,
     "metadata": {},
     "output_type": "execute_result"
    }
   ],
   "source": [
    "# Train through logsitc regression\n",
    "classifier = LogisticRegression(solver='lbfgs', random_state=1)\n",
    "\n",
    "# fit model\n",
    "classifier.fit(X_resampled, y_resampled)"
   ]
  },
  {
   "cell_type": "code",
   "execution_count": 30,
   "id": "322ac0b7",
   "metadata": {},
   "outputs": [],
   "source": [
    "# calculate predicions\n",
    "y_pred = classifier.predict(X_test)"
   ]
  },
  {
   "cell_type": "code",
   "execution_count": 31,
   "id": "d140b4e6",
   "metadata": {},
   "outputs": [
    {
     "data": {
      "text/html": [
       "<div>\n",
       "<style scoped>\n",
       "    .dataframe tbody tr th:only-of-type {\n",
       "        vertical-align: middle;\n",
       "    }\n",
       "\n",
       "    .dataframe tbody tr th {\n",
       "        vertical-align: top;\n",
       "    }\n",
       "\n",
       "    .dataframe thead th {\n",
       "        text-align: right;\n",
       "    }\n",
       "</style>\n",
       "<table border=\"1\" class=\"dataframe\">\n",
       "  <thead>\n",
       "    <tr style=\"text-align: right;\">\n",
       "      <th></th>\n",
       "      <th>Predicted High Chance</th>\n",
       "      <th>Predicted Low Chance</th>\n",
       "    </tr>\n",
       "  </thead>\n",
       "  <tbody>\n",
       "    <tr>\n",
       "      <th>Actual High Chance</th>\n",
       "      <td>176</td>\n",
       "      <td>0</td>\n",
       "    </tr>\n",
       "    <tr>\n",
       "      <th>Actual Low chance</th>\n",
       "      <td>47</td>\n",
       "      <td>0</td>\n",
       "    </tr>\n",
       "  </tbody>\n",
       "</table>\n",
       "</div>"
      ],
      "text/plain": [
       "                    Predicted High Chance  Predicted Low Chance\n",
       "Actual High Chance                    176                     0\n",
       "Actual Low chance                      47                     0"
      ]
     },
     "execution_count": 31,
     "metadata": {},
     "output_type": "execute_result"
    }
   ],
   "source": [
    "# Display the confusion matrix\n",
    "cm = confusion_matrix(y_test, y_pred)\n",
    "cm_df = pd.DataFrame(cm, index=['Actual High Chance', 'Actual Low chance'], columns = ['Predicted High Chance', 'Predicted Low Chance'])\n",
    "cm_df"
   ]
  },
  {
   "cell_type": "code",
   "execution_count": 32,
   "id": "7ac9a5d8",
   "metadata": {},
   "outputs": [
    {
     "name": "stdout",
     "output_type": "stream",
     "text": [
      "Confusion Matrix\n"
     ]
    },
    {
     "data": {
      "text/html": [
       "<div>\n",
       "<style scoped>\n",
       "    .dataframe tbody tr th:only-of-type {\n",
       "        vertical-align: middle;\n",
       "    }\n",
       "\n",
       "    .dataframe tbody tr th {\n",
       "        vertical-align: top;\n",
       "    }\n",
       "\n",
       "    .dataframe thead th {\n",
       "        text-align: right;\n",
       "    }\n",
       "</style>\n",
       "<table border=\"1\" class=\"dataframe\">\n",
       "  <thead>\n",
       "    <tr style=\"text-align: right;\">\n",
       "      <th></th>\n",
       "      <th>Predicted High Chance</th>\n",
       "      <th>Predicted Low Chance</th>\n",
       "    </tr>\n",
       "  </thead>\n",
       "  <tbody>\n",
       "    <tr>\n",
       "      <th>Actual High Chance</th>\n",
       "      <td>176</td>\n",
       "      <td>0</td>\n",
       "    </tr>\n",
       "    <tr>\n",
       "      <th>Actual Low chance</th>\n",
       "      <td>47</td>\n",
       "      <td>0</td>\n",
       "    </tr>\n",
       "  </tbody>\n",
       "</table>\n",
       "</div>"
      ],
      "text/plain": [
       "                    Predicted High Chance  Predicted Low Chance\n",
       "Actual High Chance                    176                     0\n",
       "Actual Low chance                      47                     0"
      ]
     },
     "metadata": {},
     "output_type": "display_data"
    },
    {
     "name": "stdout",
     "output_type": "stream",
     "text": [
      "Accuracy Score: 0.7892376681614349\n",
      "Balaned Accuracy Score: 0.5\n",
      "---------------------------\n",
      "Classfication Report\n",
      "                   pre       rec       spe        f1       geo       iba       sup\n",
      "\n",
      "          0       0.79      1.00      0.00      0.88      0.00      0.00       176\n",
      "          1       0.00      0.00      1.00      0.00      0.00      0.00        47\n",
      "\n",
      "avg / total       0.62      0.79      0.21      0.70      0.00      0.00       223\n",
      "\n"
     ]
    }
   ],
   "source": [
    "# Calculate accuracy score\n",
    "acc_score = accuracy_score(y_test, y_pred)\n",
    "bal_acc_score = balanced_accuracy_score(y_test, y_pred)\n",
    "\n",
    "# Print results\n",
    "print(\"Confusion Matrix\")\n",
    "display(cm_df)\n",
    "print(f'Accuracy Score: {acc_score}')\n",
    "print(f'Balaned Accuracy Score: {bal_acc_score}')\n",
    "print(\"---------------------------\")\n",
    "print(\"Classfication Report\")\n",
    "print(classification_report_imbalanced(y_test, y_pred))"
   ]
  },
  {
   "cell_type": "markdown",
   "id": "8d73b0a0",
   "metadata": {},
   "source": [
    "- SMOTE"
   ]
  },
  {
   "cell_type": "code",
   "execution_count": 33,
   "id": "db9fb518",
   "metadata": {},
   "outputs": [],
   "source": [
    "# initate SMOTE model\n",
    "smote = SMOTE(random_state=1)\n",
    "\n",
    "# Resample targets\n",
    "X_resampled, y_resampled = smote.fit_resample(X_train, y_train)"
   ]
  },
  {
   "cell_type": "code",
   "execution_count": 34,
   "id": "23444de1",
   "metadata": {},
   "outputs": [
    {
     "data": {
      "text/plain": [
       "LogisticRegression(random_state=1)"
      ]
     },
     "execution_count": 34,
     "metadata": {},
     "output_type": "execute_result"
    }
   ],
   "source": [
    "# train through resampled data\n",
    "classifier.fit(X_resampled, y_resampled)"
   ]
  },
  {
   "cell_type": "code",
   "execution_count": 35,
   "id": "7c74936d",
   "metadata": {},
   "outputs": [],
   "source": [
    "# calculate predicions\n",
    "y_pred = classifier.predict(X_test)"
   ]
  },
  {
   "cell_type": "code",
   "execution_count": 36,
   "id": "938d9115",
   "metadata": {},
   "outputs": [
    {
     "data": {
      "text/html": [
       "<div>\n",
       "<style scoped>\n",
       "    .dataframe tbody tr th:only-of-type {\n",
       "        vertical-align: middle;\n",
       "    }\n",
       "\n",
       "    .dataframe tbody tr th {\n",
       "        vertical-align: top;\n",
       "    }\n",
       "\n",
       "    .dataframe thead th {\n",
       "        text-align: right;\n",
       "    }\n",
       "</style>\n",
       "<table border=\"1\" class=\"dataframe\">\n",
       "  <thead>\n",
       "    <tr style=\"text-align: right;\">\n",
       "      <th></th>\n",
       "      <th>Predicted High Chance</th>\n",
       "      <th>Predicted Low Chance</th>\n",
       "    </tr>\n",
       "  </thead>\n",
       "  <tbody>\n",
       "    <tr>\n",
       "      <th>Actual High Chance</th>\n",
       "      <td>176</td>\n",
       "      <td>0</td>\n",
       "    </tr>\n",
       "    <tr>\n",
       "      <th>Actual Low chance</th>\n",
       "      <td>47</td>\n",
       "      <td>0</td>\n",
       "    </tr>\n",
       "  </tbody>\n",
       "</table>\n",
       "</div>"
      ],
      "text/plain": [
       "                    Predicted High Chance  Predicted Low Chance\n",
       "Actual High Chance                    176                     0\n",
       "Actual Low chance                      47                     0"
      ]
     },
     "execution_count": 36,
     "metadata": {},
     "output_type": "execute_result"
    }
   ],
   "source": [
    "# Display the confusion matrix\n",
    "cm = confusion_matrix(y_test, y_pred)\n",
    "cm_df = pd.DataFrame(cm, index=['Actual High Chance', 'Actual Low chance'], columns = ['Predicted High Chance', 'Predicted Low Chance'])\n",
    "cm_df"
   ]
  },
  {
   "cell_type": "code",
   "execution_count": 37,
   "id": "032c7624",
   "metadata": {},
   "outputs": [
    {
     "name": "stdout",
     "output_type": "stream",
     "text": [
      "Confusion Matrix\n"
     ]
    },
    {
     "data": {
      "text/html": [
       "<div>\n",
       "<style scoped>\n",
       "    .dataframe tbody tr th:only-of-type {\n",
       "        vertical-align: middle;\n",
       "    }\n",
       "\n",
       "    .dataframe tbody tr th {\n",
       "        vertical-align: top;\n",
       "    }\n",
       "\n",
       "    .dataframe thead th {\n",
       "        text-align: right;\n",
       "    }\n",
       "</style>\n",
       "<table border=\"1\" class=\"dataframe\">\n",
       "  <thead>\n",
       "    <tr style=\"text-align: right;\">\n",
       "      <th></th>\n",
       "      <th>Predicted High Chance</th>\n",
       "      <th>Predicted Low Chance</th>\n",
       "    </tr>\n",
       "  </thead>\n",
       "  <tbody>\n",
       "    <tr>\n",
       "      <th>Actual High Chance</th>\n",
       "      <td>176</td>\n",
       "      <td>0</td>\n",
       "    </tr>\n",
       "    <tr>\n",
       "      <th>Actual Low chance</th>\n",
       "      <td>47</td>\n",
       "      <td>0</td>\n",
       "    </tr>\n",
       "  </tbody>\n",
       "</table>\n",
       "</div>"
      ],
      "text/plain": [
       "                    Predicted High Chance  Predicted Low Chance\n",
       "Actual High Chance                    176                     0\n",
       "Actual Low chance                      47                     0"
      ]
     },
     "metadata": {},
     "output_type": "display_data"
    },
    {
     "name": "stdout",
     "output_type": "stream",
     "text": [
      "Accuracy Score: 0.7892376681614349\n",
      "Balaned Accuracy Score: 0.5\n",
      "---------------------------\n",
      "Classfication Report\n",
      "                   pre       rec       spe        f1       geo       iba       sup\n",
      "\n",
      "          0       0.79      1.00      0.00      0.88      0.00      0.00       176\n",
      "          1       0.00      0.00      1.00      0.00      0.00      0.00        47\n",
      "\n",
      "avg / total       0.62      0.79      0.21      0.70      0.00      0.00       223\n",
      "\n"
     ]
    }
   ],
   "source": [
    "# Calculate accuracy score\n",
    "acc_score = accuracy_score(y_test, y_pred)\n",
    "bal_acc_score = balanced_accuracy_score(y_test, y_pred)\n",
    "\n",
    "# Print results\n",
    "print(\"Confusion Matrix\")\n",
    "display(cm_df)\n",
    "print(f'Accuracy Score: {acc_score}')\n",
    "print(f'Balaned Accuracy Score: {bal_acc_score}')\n",
    "print(\"---------------------------\")\n",
    "print(\"Classfication Report\")\n",
    "print(classification_report_imbalanced(y_test, y_pred))"
   ]
  },
  {
   "cell_type": "markdown",
   "id": "428d8a8a",
   "metadata": {},
   "source": [
    "#### Undersampling"
   ]
  },
  {
   "cell_type": "code",
   "execution_count": 38,
   "id": "d533346c",
   "metadata": {},
   "outputs": [],
   "source": [
    "# Resample the data using the ClusterCentroids resampler\n",
    "Cluster_resample = ClusterCentroids(random_state=1)\n",
    "X_resampled, y_resampled = Cluster_resample.fit_resample(X_train, y_train)"
   ]
  },
  {
   "cell_type": "code",
   "execution_count": 39,
   "id": "c61091a6",
   "metadata": {},
   "outputs": [
    {
     "data": {
      "text/plain": [
       "LogisticRegression(random_state=1)"
      ]
     },
     "execution_count": 39,
     "metadata": {},
     "output_type": "execute_result"
    }
   ],
   "source": [
    "# Train & fit the model through logsitc regression\n",
    "classifier = LogisticRegression(solver='lbfgs', random_state=1)\n",
    "classifier.fit(X_resampled, y_resampled)"
   ]
  },
  {
   "cell_type": "code",
   "execution_count": 40,
   "id": "041acf08",
   "metadata": {},
   "outputs": [],
   "source": [
    "# Calculate predictions and the balanced accuracy score\n",
    "y_pred = classifier.predict(X_test)"
   ]
  },
  {
   "cell_type": "code",
   "execution_count": 41,
   "id": "68e5c585",
   "metadata": {},
   "outputs": [
    {
     "data": {
      "text/html": [
       "<div>\n",
       "<style scoped>\n",
       "    .dataframe tbody tr th:only-of-type {\n",
       "        vertical-align: middle;\n",
       "    }\n",
       "\n",
       "    .dataframe tbody tr th {\n",
       "        vertical-align: top;\n",
       "    }\n",
       "\n",
       "    .dataframe thead th {\n",
       "        text-align: right;\n",
       "    }\n",
       "</style>\n",
       "<table border=\"1\" class=\"dataframe\">\n",
       "  <thead>\n",
       "    <tr style=\"text-align: right;\">\n",
       "      <th></th>\n",
       "      <th>Predicted High Chance</th>\n",
       "      <th>Predicted Low Chance</th>\n",
       "    </tr>\n",
       "  </thead>\n",
       "  <tbody>\n",
       "    <tr>\n",
       "      <th>Actual High Chance</th>\n",
       "      <td>19</td>\n",
       "      <td>157</td>\n",
       "    </tr>\n",
       "    <tr>\n",
       "      <th>Actual Low chance</th>\n",
       "      <td>6</td>\n",
       "      <td>41</td>\n",
       "    </tr>\n",
       "  </tbody>\n",
       "</table>\n",
       "</div>"
      ],
      "text/plain": [
       "                    Predicted High Chance  Predicted Low Chance\n",
       "Actual High Chance                     19                   157\n",
       "Actual Low chance                       6                    41"
      ]
     },
     "execution_count": 41,
     "metadata": {},
     "output_type": "execute_result"
    }
   ],
   "source": [
    "# Display the confusion matrix\n",
    "cm = confusion_matrix(y_test, y_pred)\n",
    "cm_df = pd.DataFrame(cm, index=['Actual High Chance', 'Actual Low chance'], columns = ['Predicted High Chance', 'Predicted Low Chance'])\n",
    "cm_df"
   ]
  },
  {
   "cell_type": "code",
   "execution_count": 42,
   "id": "6f079b8f",
   "metadata": {},
   "outputs": [
    {
     "name": "stdout",
     "output_type": "stream",
     "text": [
      "Confusion Matrix\n"
     ]
    },
    {
     "data": {
      "text/html": [
       "<div>\n",
       "<style scoped>\n",
       "    .dataframe tbody tr th:only-of-type {\n",
       "        vertical-align: middle;\n",
       "    }\n",
       "\n",
       "    .dataframe tbody tr th {\n",
       "        vertical-align: top;\n",
       "    }\n",
       "\n",
       "    .dataframe thead th {\n",
       "        text-align: right;\n",
       "    }\n",
       "</style>\n",
       "<table border=\"1\" class=\"dataframe\">\n",
       "  <thead>\n",
       "    <tr style=\"text-align: right;\">\n",
       "      <th></th>\n",
       "      <th>Predicted High Chance</th>\n",
       "      <th>Predicted Low Chance</th>\n",
       "    </tr>\n",
       "  </thead>\n",
       "  <tbody>\n",
       "    <tr>\n",
       "      <th>Actual High Chance</th>\n",
       "      <td>19</td>\n",
       "      <td>157</td>\n",
       "    </tr>\n",
       "    <tr>\n",
       "      <th>Actual Low chance</th>\n",
       "      <td>6</td>\n",
       "      <td>41</td>\n",
       "    </tr>\n",
       "  </tbody>\n",
       "</table>\n",
       "</div>"
      ],
      "text/plain": [
       "                    Predicted High Chance  Predicted Low Chance\n",
       "Actual High Chance                     19                   157\n",
       "Actual Low chance                       6                    41"
      ]
     },
     "metadata": {},
     "output_type": "display_data"
    },
    {
     "name": "stdout",
     "output_type": "stream",
     "text": [
      "Accuracy Score: 0.26905829596412556\n",
      "Balaned Accuracy Score: 0.4901474854932302\n",
      "---------------------------\n",
      "Classfication Report\n",
      "                   pre       rec       spe        f1       geo       iba       sup\n",
      "\n",
      "          0       0.76      0.11      0.87      0.19      0.31      0.09       176\n",
      "          1       0.21      0.87      0.11      0.33      0.31      0.10        47\n",
      "\n",
      "avg / total       0.64      0.27      0.71      0.22      0.31      0.09       223\n",
      "\n"
     ]
    }
   ],
   "source": [
    "# Calculate accuracy score\n",
    "acc_score = accuracy_score(y_test, y_pred)\n",
    "bal_acc_score = balanced_accuracy_score(y_test, y_pred)\n",
    "\n",
    "# Print results\n",
    "print(\"Confusion Matrix\")\n",
    "display(cm_df)\n",
    "print(f'Accuracy Score: {acc_score}')\n",
    "print(f'Balaned Accuracy Score: {bal_acc_score}')\n",
    "print(\"---------------------------\")\n",
    "print(\"Classfication Report\")\n",
    "print(classification_report_imbalanced(y_test, y_pred))"
   ]
  },
  {
   "cell_type": "markdown",
   "id": "cc156662",
   "metadata": {},
   "source": [
    "#### Combination (Over and Under) Sampling"
   ]
  },
  {
   "cell_type": "code",
   "execution_count": 43,
   "id": "a1440667",
   "metadata": {},
   "outputs": [],
   "source": [
    "from imblearn.combine import SMOTEENN\n",
    "smoteenn = SMOTEENN(random_state=42)\n",
    "X_resampled, y_resampled = smoteenn.fit_resample(X_train, y_train)"
   ]
  },
  {
   "cell_type": "code",
   "execution_count": 44,
   "id": "6ecca2d9",
   "metadata": {},
   "outputs": [
    {
     "data": {
      "text/plain": [
       "LogisticRegression(random_state=1)"
      ]
     },
     "execution_count": 44,
     "metadata": {},
     "output_type": "execute_result"
    }
   ],
   "source": [
    "classifier.fit(X_resampled, y_resampled)"
   ]
  },
  {
   "cell_type": "code",
   "execution_count": 45,
   "id": "ab9942a8",
   "metadata": {},
   "outputs": [],
   "source": [
    "# calculate prediction & balanced accuracy score\n",
    "y_pred = classifier.predict(X_test)"
   ]
  },
  {
   "cell_type": "code",
   "execution_count": 46,
   "id": "ee05fafb",
   "metadata": {},
   "outputs": [
    {
     "data": {
      "text/html": [
       "<div>\n",
       "<style scoped>\n",
       "    .dataframe tbody tr th:only-of-type {\n",
       "        vertical-align: middle;\n",
       "    }\n",
       "\n",
       "    .dataframe tbody tr th {\n",
       "        vertical-align: top;\n",
       "    }\n",
       "\n",
       "    .dataframe thead th {\n",
       "        text-align: right;\n",
       "    }\n",
       "</style>\n",
       "<table border=\"1\" class=\"dataframe\">\n",
       "  <thead>\n",
       "    <tr style=\"text-align: right;\">\n",
       "      <th></th>\n",
       "      <th>Predicted High Chance</th>\n",
       "      <th>Predicted Low Chance</th>\n",
       "    </tr>\n",
       "  </thead>\n",
       "  <tbody>\n",
       "    <tr>\n",
       "      <th>Actual High Chance</th>\n",
       "      <td>160</td>\n",
       "      <td>16</td>\n",
       "    </tr>\n",
       "    <tr>\n",
       "      <th>Actual Low chance</th>\n",
       "      <td>42</td>\n",
       "      <td>5</td>\n",
       "    </tr>\n",
       "  </tbody>\n",
       "</table>\n",
       "</div>"
      ],
      "text/plain": [
       "                    Predicted High Chance  Predicted Low Chance\n",
       "Actual High Chance                    160                    16\n",
       "Actual Low chance                      42                     5"
      ]
     },
     "execution_count": 46,
     "metadata": {},
     "output_type": "execute_result"
    }
   ],
   "source": [
    "# Display the confusion matrix\n",
    "cm = confusion_matrix(y_test, y_pred)\n",
    "cm_df = pd.DataFrame(cm, index=['Actual High Chance', 'Actual Low chance'], columns = ['Predicted High Chance', 'Predicted Low Chance'])\n",
    "cm_df"
   ]
  },
  {
   "cell_type": "code",
   "execution_count": 47,
   "id": "01f8e3d5",
   "metadata": {},
   "outputs": [
    {
     "name": "stdout",
     "output_type": "stream",
     "text": [
      "Confusion Matrix\n"
     ]
    },
    {
     "data": {
      "text/html": [
       "<div>\n",
       "<style scoped>\n",
       "    .dataframe tbody tr th:only-of-type {\n",
       "        vertical-align: middle;\n",
       "    }\n",
       "\n",
       "    .dataframe tbody tr th {\n",
       "        vertical-align: top;\n",
       "    }\n",
       "\n",
       "    .dataframe thead th {\n",
       "        text-align: right;\n",
       "    }\n",
       "</style>\n",
       "<table border=\"1\" class=\"dataframe\">\n",
       "  <thead>\n",
       "    <tr style=\"text-align: right;\">\n",
       "      <th></th>\n",
       "      <th>Predicted High Chance</th>\n",
       "      <th>Predicted Low Chance</th>\n",
       "    </tr>\n",
       "  </thead>\n",
       "  <tbody>\n",
       "    <tr>\n",
       "      <th>Actual High Chance</th>\n",
       "      <td>160</td>\n",
       "      <td>16</td>\n",
       "    </tr>\n",
       "    <tr>\n",
       "      <th>Actual Low chance</th>\n",
       "      <td>42</td>\n",
       "      <td>5</td>\n",
       "    </tr>\n",
       "  </tbody>\n",
       "</table>\n",
       "</div>"
      ],
      "text/plain": [
       "                    Predicted High Chance  Predicted Low Chance\n",
       "Actual High Chance                    160                    16\n",
       "Actual Low chance                      42                     5"
      ]
     },
     "metadata": {},
     "output_type": "display_data"
    },
    {
     "name": "stdout",
     "output_type": "stream",
     "text": [
      "Accuracy Score: 0.7399103139013453\n",
      "Balaned Accuracy Score: 0.5077369439071566\n",
      "---------------------------\n",
      "Classfication Report\n",
      "                   pre       rec       spe        f1       geo       iba       sup\n",
      "\n",
      "          0       0.79      0.91      0.11      0.85      0.31      0.10       176\n",
      "          1       0.24      0.11      0.91      0.15      0.31      0.09        47\n",
      "\n",
      "avg / total       0.68      0.74      0.28      0.70      0.31      0.10       223\n",
      "\n"
     ]
    }
   ],
   "source": [
    "# Calculate accuracy score\n",
    "acc_score = accuracy_score(y_test, y_pred)\n",
    "bal_acc_score = balanced_accuracy_score(y_test, y_pred)\n",
    "\n",
    "# Print results\n",
    "print(\"Confusion Matrix\")\n",
    "display(cm_df)\n",
    "print(f'Accuracy Score: {acc_score}')\n",
    "print(f'Balaned Accuracy Score: {bal_acc_score}')\n",
    "print(\"---------------------------\")\n",
    "print(\"Classfication Report\")\n",
    "print(classification_report_imbalanced(y_test, y_pred))"
   ]
  }
 ],
 "metadata": {
  "kernelspec": {
   "display_name": "Python 3 (ipykernel)",
   "language": "python",
   "name": "python3"
  },
  "language_info": {
   "codemirror_mode": {
    "name": "ipython",
    "version": 3
   },
   "file_extension": ".py",
   "mimetype": "text/x-python",
   "name": "python",
   "nbconvert_exporter": "python",
   "pygments_lexer": "ipython3",
   "version": "3.9.12"
  }
 },
 "nbformat": 4,
 "nbformat_minor": 5
}
