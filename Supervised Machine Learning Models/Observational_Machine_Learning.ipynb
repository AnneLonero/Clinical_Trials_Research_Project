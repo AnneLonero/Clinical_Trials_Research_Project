{
 "cells": [
  {
   "cell_type": "code",
   "execution_count": 1,
   "id": "945f5f5d",
   "metadata": {},
   "outputs": [],
   "source": [
    "import warnings\n",
    "warnings.filterwarnings('ignore')"
   ]
  },
  {
   "cell_type": "code",
   "execution_count": 2,
   "id": "54381d01",
   "metadata": {},
   "outputs": [],
   "source": [
    "import numpy as np\n",
    "import pandas as pd"
   ]
  },
  {
   "cell_type": "code",
   "execution_count": 3,
   "id": "f9ad881a",
   "metadata": {},
   "outputs": [],
   "source": [
    "from collections import Counter\n",
    "from sklearn.linear_model import LogisticRegression\n",
    "from sklearn.ensemble import RandomForestClassifier\n",
    "from sklearn.model_selection import train_test_split\n",
    "from sklearn.preprocessing import StandardScaler, LabelEncoder\n",
    "from sklearn.metrics import confusion_matrix, classification_report, balanced_accuracy_score, accuracy_score\n",
    "from imblearn.metrics import classification_report_imbalanced\n",
    "from imblearn.over_sampling import RandomOverSampler, SMOTE\n",
    "from imblearn.combine import SMOTEENN\n",
    "from imblearn.under_sampling import ClusterCentroids\n"
   ]
  },
  {
   "cell_type": "markdown",
   "id": "32f4aa77",
   "metadata": {},
   "source": [
    "### Import CSV and Perform Data Cleaning"
   ]
  },
  {
   "cell_type": "code",
   "execution_count": 4,
   "id": "284c3f3b",
   "metadata": {},
   "outputs": [],
   "source": [
    "# imprt CSV as DataFrame\n",
    "obs_df = pd.read_csv('../Tables/updated_obs_studies.csv')"
   ]
  },
  {
   "cell_type": "code",
   "execution_count": 5,
   "id": "01989677",
   "metadata": {},
   "outputs": [
    {
     "data": {
      "text/html": [
       "<div>\n",
       "<style scoped>\n",
       "    .dataframe tbody tr th:only-of-type {\n",
       "        vertical-align: middle;\n",
       "    }\n",
       "\n",
       "    .dataframe tbody tr th {\n",
       "        vertical-align: top;\n",
       "    }\n",
       "\n",
       "    .dataframe thead th {\n",
       "        text-align: right;\n",
       "    }\n",
       "</style>\n",
       "<table border=\"1\" class=\"dataframe\">\n",
       "  <thead>\n",
       "    <tr style=\"text-align: right;\">\n",
       "      <th></th>\n",
       "      <th>ID</th>\n",
       "      <th>title</th>\n",
       "      <th>actual_duration</th>\n",
       "      <th>status</th>\n",
       "      <th>study_type</th>\n",
       "      <th>observational_study_model</th>\n",
       "      <th>sampling_method</th>\n",
       "      <th>fda_regulated_drug</th>\n",
       "      <th>fda_regulated_device</th>\n",
       "      <th>enrollment_count</th>\n",
       "    </tr>\n",
       "  </thead>\n",
       "  <tbody>\n",
       "    <tr>\n",
       "      <th>0</th>\n",
       "      <td>BTX-BCI-016-PRT</td>\n",
       "      <td>Breast Cancer Index (BCI) Registry</td>\n",
       "      <td>7.638356</td>\n",
       "      <td>Recruiting</td>\n",
       "      <td>Observational</td>\n",
       "      <td>Case-Only</td>\n",
       "      <td>Non-Probability Sample</td>\n",
       "      <td>No</td>\n",
       "      <td>No</td>\n",
       "      <td>3000</td>\n",
       "    </tr>\n",
       "    <tr>\n",
       "      <th>1</th>\n",
       "      <td>2018-TJ-BCD</td>\n",
       "      <td>Diagnosis Value of SEMA4C in Breast Cancer</td>\n",
       "      <td>1.002740</td>\n",
       "      <td>Not yet recruiting</td>\n",
       "      <td>Observational</td>\n",
       "      <td>Case-Control</td>\n",
       "      <td>Non-Probability Sample</td>\n",
       "      <td>No</td>\n",
       "      <td>No</td>\n",
       "      <td>2300</td>\n",
       "    </tr>\n",
       "    <tr>\n",
       "      <th>2</th>\n",
       "      <td>Breast cancer</td>\n",
       "      <td>Role of Sorcin and Annexin A3 in Breast Cancer...</td>\n",
       "      <td>0.693151</td>\n",
       "      <td>Unknown status</td>\n",
       "      <td>Observational</td>\n",
       "      <td>Case-Control</td>\n",
       "      <td>Probability Sample</td>\n",
       "      <td>No</td>\n",
       "      <td>No</td>\n",
       "      <td>80</td>\n",
       "    </tr>\n",
       "    <tr>\n",
       "      <th>3</th>\n",
       "      <td>BC-BOMET</td>\n",
       "      <td>Evaluation of Prognostic Factors: From Breast ...</td>\n",
       "      <td>4.835616</td>\n",
       "      <td>Recruiting</td>\n",
       "      <td>Observational</td>\n",
       "      <td>Case-Control</td>\n",
       "      <td>Non-Probability Sample</td>\n",
       "      <td>No</td>\n",
       "      <td>No</td>\n",
       "      <td>30</td>\n",
       "    </tr>\n",
       "    <tr>\n",
       "      <th>4</th>\n",
       "      <td>241391</td>\n",
       "      <td>A Study to Identify Breast Cancer (IDBC)</td>\n",
       "      <td>3.936986</td>\n",
       "      <td>Unknown status</td>\n",
       "      <td>Observational</td>\n",
       "      <td>Cohort</td>\n",
       "      <td>Non-Probability Sample</td>\n",
       "      <td>No</td>\n",
       "      <td>No</td>\n",
       "      <td>600</td>\n",
       "    </tr>\n",
       "  </tbody>\n",
       "</table>\n",
       "</div>"
      ],
      "text/plain": [
       "                ID                                              title  \\\n",
       "0  BTX-BCI-016-PRT                 Breast Cancer Index (BCI) Registry   \n",
       "1      2018-TJ-BCD         Diagnosis Value of SEMA4C in Breast Cancer   \n",
       "2    Breast cancer  Role of Sorcin and Annexin A3 in Breast Cancer...   \n",
       "3         BC-BOMET  Evaluation of Prognostic Factors: From Breast ...   \n",
       "4           241391           A Study to Identify Breast Cancer (IDBC)   \n",
       "\n",
       "   actual_duration              status     study_type  \\\n",
       "0         7.638356          Recruiting  Observational   \n",
       "1         1.002740  Not yet recruiting  Observational   \n",
       "2         0.693151      Unknown status  Observational   \n",
       "3         4.835616          Recruiting  Observational   \n",
       "4         3.936986      Unknown status  Observational   \n",
       "\n",
       "  observational_study_model         sampling_method fda_regulated_drug  \\\n",
       "0                 Case-Only  Non-Probability Sample                 No   \n",
       "1              Case-Control  Non-Probability Sample                 No   \n",
       "2              Case-Control      Probability Sample                 No   \n",
       "3              Case-Control  Non-Probability Sample                 No   \n",
       "4                    Cohort  Non-Probability Sample                 No   \n",
       "\n",
       "  fda_regulated_device  enrollment_count  \n",
       "0                   No              3000  \n",
       "1                   No              2300  \n",
       "2                   No                80  \n",
       "3                   No                30  \n",
       "4                   No               600  "
      ]
     },
     "execution_count": 5,
     "metadata": {},
     "output_type": "execute_result"
    }
   ],
   "source": [
    "# Drop 'target_duration' column due to too many null values\n",
    "# Drop null rows\n",
    "\n",
    "obs_df = obs_df.drop(['target_duration'], axis=1)\n",
    "obs_df = obs_df.dropna()\n",
    "obs_df.head()"
   ]
  },
  {
   "cell_type": "code",
   "execution_count": 6,
   "id": "2b3ba8e1",
   "metadata": {},
   "outputs": [
    {
     "data": {
      "text/plain": [
       "status\n",
       "Active, not recruiting      75\n",
       "Completed                  186\n",
       "Enrolling by invitation     22\n",
       "Not yet recruiting         126\n",
       "Recruiting                 446\n",
       "Suspended                    7\n",
       "Terminated                  16\n",
       "Unknown status             127\n",
       "Withdrawn                   16\n",
       "dtype: int64"
      ]
     },
     "execution_count": 6,
     "metadata": {},
     "output_type": "execute_result"
    }
   ],
   "source": [
    "# Check distribution of each status\n",
    "obs_df.groupby('status').size()"
   ]
  },
  {
   "cell_type": "code",
   "execution_count": 7,
   "id": "26c81032",
   "metadata": {},
   "outputs": [
    {
     "data": {
      "text/html": [
       "<div>\n",
       "<style scoped>\n",
       "    .dataframe tbody tr th:only-of-type {\n",
       "        vertical-align: middle;\n",
       "    }\n",
       "\n",
       "    .dataframe tbody tr th {\n",
       "        vertical-align: top;\n",
       "    }\n",
       "\n",
       "    .dataframe thead th {\n",
       "        text-align: right;\n",
       "    }\n",
       "</style>\n",
       "<table border=\"1\" class=\"dataframe\">\n",
       "  <thead>\n",
       "    <tr style=\"text-align: right;\">\n",
       "      <th></th>\n",
       "      <th>ID</th>\n",
       "      <th>title</th>\n",
       "      <th>actual_duration</th>\n",
       "      <th>status</th>\n",
       "      <th>study_type</th>\n",
       "      <th>observational_study_model</th>\n",
       "      <th>sampling_method</th>\n",
       "      <th>fda_regulated_drug</th>\n",
       "      <th>fda_regulated_device</th>\n",
       "      <th>enrollment_count</th>\n",
       "    </tr>\n",
       "  </thead>\n",
       "  <tbody>\n",
       "    <tr>\n",
       "      <th>0</th>\n",
       "      <td>BTX-BCI-016-PRT</td>\n",
       "      <td>Breast Cancer Index (BCI) Registry</td>\n",
       "      <td>7.638356</td>\n",
       "      <td>high_chance</td>\n",
       "      <td>Observational</td>\n",
       "      <td>Case-Only</td>\n",
       "      <td>Non-Probability Sample</td>\n",
       "      <td>No</td>\n",
       "      <td>No</td>\n",
       "      <td>3000</td>\n",
       "    </tr>\n",
       "    <tr>\n",
       "      <th>1</th>\n",
       "      <td>2018-TJ-BCD</td>\n",
       "      <td>Diagnosis Value of SEMA4C in Breast Cancer</td>\n",
       "      <td>1.002740</td>\n",
       "      <td>low_chance</td>\n",
       "      <td>Observational</td>\n",
       "      <td>Case-Control</td>\n",
       "      <td>Non-Probability Sample</td>\n",
       "      <td>No</td>\n",
       "      <td>No</td>\n",
       "      <td>2300</td>\n",
       "    </tr>\n",
       "    <tr>\n",
       "      <th>3</th>\n",
       "      <td>BC-BOMET</td>\n",
       "      <td>Evaluation of Prognostic Factors: From Breast ...</td>\n",
       "      <td>4.835616</td>\n",
       "      <td>high_chance</td>\n",
       "      <td>Observational</td>\n",
       "      <td>Case-Control</td>\n",
       "      <td>Non-Probability Sample</td>\n",
       "      <td>No</td>\n",
       "      <td>No</td>\n",
       "      <td>30</td>\n",
       "    </tr>\n",
       "    <tr>\n",
       "      <th>6</th>\n",
       "      <td>FH-Risk 2.0 Research Protocol</td>\n",
       "      <td>FH-Risk 2.0: Updating Breast Cancer Risk Estim...</td>\n",
       "      <td>2.671233</td>\n",
       "      <td>high_chance</td>\n",
       "      <td>Observational</td>\n",
       "      <td>Other</td>\n",
       "      <td>Non-Probability Sample</td>\n",
       "      <td>No</td>\n",
       "      <td>No</td>\n",
       "      <td>271</td>\n",
       "    </tr>\n",
       "    <tr>\n",
       "      <th>7</th>\n",
       "      <td>ID-RPSBC-01-20201012</td>\n",
       "      <td>Genetic and Non-Genetic Breast Cancer Risk Pre...</td>\n",
       "      <td>2.712329</td>\n",
       "      <td>high_chance</td>\n",
       "      <td>Observational</td>\n",
       "      <td>Case-Control</td>\n",
       "      <td>Probability Sample</td>\n",
       "      <td>No</td>\n",
       "      <td>No</td>\n",
       "      <td>316</td>\n",
       "    </tr>\n",
       "  </tbody>\n",
       "</table>\n",
       "</div>"
      ],
      "text/plain": [
       "                              ID  \\\n",
       "0                BTX-BCI-016-PRT   \n",
       "1                    2018-TJ-BCD   \n",
       "3                       BC-BOMET   \n",
       "6  FH-Risk 2.0 Research Protocol   \n",
       "7           ID-RPSBC-01-20201012   \n",
       "\n",
       "                                               title  actual_duration  \\\n",
       "0                 Breast Cancer Index (BCI) Registry         7.638356   \n",
       "1         Diagnosis Value of SEMA4C in Breast Cancer         1.002740   \n",
       "3  Evaluation of Prognostic Factors: From Breast ...         4.835616   \n",
       "6  FH-Risk 2.0: Updating Breast Cancer Risk Estim...         2.671233   \n",
       "7  Genetic and Non-Genetic Breast Cancer Risk Pre...         2.712329   \n",
       "\n",
       "        status     study_type observational_study_model  \\\n",
       "0  high_chance  Observational                 Case-Only   \n",
       "1   low_chance  Observational              Case-Control   \n",
       "3  high_chance  Observational              Case-Control   \n",
       "6  high_chance  Observational                     Other   \n",
       "7  high_chance  Observational              Case-Control   \n",
       "\n",
       "          sampling_method fda_regulated_drug fda_regulated_device  \\\n",
       "0  Non-Probability Sample                 No                   No   \n",
       "1  Non-Probability Sample                 No                   No   \n",
       "3  Non-Probability Sample                 No                   No   \n",
       "6  Non-Probability Sample                 No                   No   \n",
       "7      Probability Sample                 No                   No   \n",
       "\n",
       "   enrollment_count  \n",
       "0              3000  \n",
       "1              2300  \n",
       "3                30  \n",
       "6               271  \n",
       "7               316  "
      ]
     },
     "execution_count": 7,
     "metadata": {},
     "output_type": "execute_result"
    }
   ],
   "source": [
    "# Drop rows with 'unknown status'\n",
    "obs_df = obs_df.loc[obs_df['status'] != 'Unknown status']\n",
    "\n",
    "# categorize the status\n",
    "replace_value = {\n",
    "    'Completed':'high_chance',\n",
    "    'Active, not recruiting': 'low_chance',\n",
    "    'Enrolling by invitation': 'high_chance',\n",
    "    'Not yet recruiting': 'low_chance',\n",
    "    'Recruiting': 'high_chance',\n",
    "    'Suspended': 'low_chance',\n",
    "    'Terminated': 'low_chance',\n",
    "    'Withdrawn': 'low_chance'\n",
    "} \n",
    "\n",
    "obs_df = obs_df.replace({\"status\": replace_value})\n",
    "obs_df.head()\n"
   ]
  },
  {
   "cell_type": "code",
   "execution_count": 8,
   "id": "4f47967c",
   "metadata": {},
   "outputs": [],
   "source": [
    "# Create DF for machine learning - removes unnecessary columns\n",
    "obs_ml_df = obs_df[['status', 'enrollment_count', 'actual_duration', 'observational_study_model', 'sampling_method', 'fda_regulated_drug', 'fda_regulated_device', ]]"
   ]
  },
  {
   "cell_type": "code",
   "execution_count": 9,
   "id": "bf5abfc4",
   "metadata": {},
   "outputs": [
    {
     "data": {
      "text/html": [
       "<div>\n",
       "<style scoped>\n",
       "    .dataframe tbody tr th:only-of-type {\n",
       "        vertical-align: middle;\n",
       "    }\n",
       "\n",
       "    .dataframe tbody tr th {\n",
       "        vertical-align: top;\n",
       "    }\n",
       "\n",
       "    .dataframe thead th {\n",
       "        text-align: right;\n",
       "    }\n",
       "</style>\n",
       "<table border=\"1\" class=\"dataframe\">\n",
       "  <thead>\n",
       "    <tr style=\"text-align: right;\">\n",
       "      <th></th>\n",
       "      <th>status</th>\n",
       "      <th>enrollment_count</th>\n",
       "      <th>actual_duration</th>\n",
       "      <th>observational_study_model_Case-Control</th>\n",
       "      <th>observational_study_model_Case-Crossover</th>\n",
       "      <th>observational_study_model_Case-Only</th>\n",
       "      <th>observational_study_model_Cohort</th>\n",
       "      <th>observational_study_model_Ecologic or Community</th>\n",
       "      <th>observational_study_model_Family-Based</th>\n",
       "      <th>observational_study_model_Other</th>\n",
       "      <th>sampling_method_Non-Probability Sample</th>\n",
       "      <th>sampling_method_Probability Sample</th>\n",
       "      <th>fda_regulated_drug_No</th>\n",
       "      <th>fda_regulated_drug_Yes</th>\n",
       "      <th>fda_regulated_device_No</th>\n",
       "      <th>fda_regulated_device_Yes</th>\n",
       "    </tr>\n",
       "  </thead>\n",
       "  <tbody>\n",
       "    <tr>\n",
       "      <th>0</th>\n",
       "      <td>0</td>\n",
       "      <td>3000</td>\n",
       "      <td>7.638356</td>\n",
       "      <td>0</td>\n",
       "      <td>0</td>\n",
       "      <td>1</td>\n",
       "      <td>0</td>\n",
       "      <td>0</td>\n",
       "      <td>0</td>\n",
       "      <td>0</td>\n",
       "      <td>1</td>\n",
       "      <td>0</td>\n",
       "      <td>1</td>\n",
       "      <td>0</td>\n",
       "      <td>1</td>\n",
       "      <td>0</td>\n",
       "    </tr>\n",
       "    <tr>\n",
       "      <th>1</th>\n",
       "      <td>1</td>\n",
       "      <td>2300</td>\n",
       "      <td>1.002740</td>\n",
       "      <td>1</td>\n",
       "      <td>0</td>\n",
       "      <td>0</td>\n",
       "      <td>0</td>\n",
       "      <td>0</td>\n",
       "      <td>0</td>\n",
       "      <td>0</td>\n",
       "      <td>1</td>\n",
       "      <td>0</td>\n",
       "      <td>1</td>\n",
       "      <td>0</td>\n",
       "      <td>1</td>\n",
       "      <td>0</td>\n",
       "    </tr>\n",
       "    <tr>\n",
       "      <th>3</th>\n",
       "      <td>0</td>\n",
       "      <td>30</td>\n",
       "      <td>4.835616</td>\n",
       "      <td>1</td>\n",
       "      <td>0</td>\n",
       "      <td>0</td>\n",
       "      <td>0</td>\n",
       "      <td>0</td>\n",
       "      <td>0</td>\n",
       "      <td>0</td>\n",
       "      <td>1</td>\n",
       "      <td>0</td>\n",
       "      <td>1</td>\n",
       "      <td>0</td>\n",
       "      <td>1</td>\n",
       "      <td>0</td>\n",
       "    </tr>\n",
       "    <tr>\n",
       "      <th>6</th>\n",
       "      <td>0</td>\n",
       "      <td>271</td>\n",
       "      <td>2.671233</td>\n",
       "      <td>0</td>\n",
       "      <td>0</td>\n",
       "      <td>0</td>\n",
       "      <td>0</td>\n",
       "      <td>0</td>\n",
       "      <td>0</td>\n",
       "      <td>1</td>\n",
       "      <td>1</td>\n",
       "      <td>0</td>\n",
       "      <td>1</td>\n",
       "      <td>0</td>\n",
       "      <td>1</td>\n",
       "      <td>0</td>\n",
       "    </tr>\n",
       "    <tr>\n",
       "      <th>7</th>\n",
       "      <td>0</td>\n",
       "      <td>316</td>\n",
       "      <td>2.712329</td>\n",
       "      <td>1</td>\n",
       "      <td>0</td>\n",
       "      <td>0</td>\n",
       "      <td>0</td>\n",
       "      <td>0</td>\n",
       "      <td>0</td>\n",
       "      <td>0</td>\n",
       "      <td>0</td>\n",
       "      <td>1</td>\n",
       "      <td>1</td>\n",
       "      <td>0</td>\n",
       "      <td>1</td>\n",
       "      <td>0</td>\n",
       "    </tr>\n",
       "  </tbody>\n",
       "</table>\n",
       "</div>"
      ],
      "text/plain": [
       "   status  enrollment_count  actual_duration  \\\n",
       "0       0              3000         7.638356   \n",
       "1       1              2300         1.002740   \n",
       "3       0                30         4.835616   \n",
       "6       0               271         2.671233   \n",
       "7       0               316         2.712329   \n",
       "\n",
       "   observational_study_model_Case-Control  \\\n",
       "0                                       0   \n",
       "1                                       1   \n",
       "3                                       1   \n",
       "6                                       0   \n",
       "7                                       1   \n",
       "\n",
       "   observational_study_model_Case-Crossover  \\\n",
       "0                                         0   \n",
       "1                                         0   \n",
       "3                                         0   \n",
       "6                                         0   \n",
       "7                                         0   \n",
       "\n",
       "   observational_study_model_Case-Only  observational_study_model_Cohort  \\\n",
       "0                                    1                                 0   \n",
       "1                                    0                                 0   \n",
       "3                                    0                                 0   \n",
       "6                                    0                                 0   \n",
       "7                                    0                                 0   \n",
       "\n",
       "   observational_study_model_Ecologic or Community  \\\n",
       "0                                                0   \n",
       "1                                                0   \n",
       "3                                                0   \n",
       "6                                                0   \n",
       "7                                                0   \n",
       "\n",
       "   observational_study_model_Family-Based  observational_study_model_Other  \\\n",
       "0                                       0                                0   \n",
       "1                                       0                                0   \n",
       "3                                       0                                0   \n",
       "6                                       0                                1   \n",
       "7                                       0                                0   \n",
       "\n",
       "   sampling_method_Non-Probability Sample  sampling_method_Probability Sample  \\\n",
       "0                                       1                                   0   \n",
       "1                                       1                                   0   \n",
       "3                                       1                                   0   \n",
       "6                                       1                                   0   \n",
       "7                                       0                                   1   \n",
       "\n",
       "   fda_regulated_drug_No  fda_regulated_drug_Yes  fda_regulated_device_No  \\\n",
       "0                      1                       0                        1   \n",
       "1                      1                       0                        1   \n",
       "3                      1                       0                        1   \n",
       "6                      1                       0                        1   \n",
       "7                      1                       0                        1   \n",
       "\n",
       "   fda_regulated_device_Yes  \n",
       "0                         0  \n",
       "1                         0  \n",
       "3                         0  \n",
       "6                         0  \n",
       "7                         0  "
      ]
     },
     "execution_count": 9,
     "metadata": {},
     "output_type": "execute_result"
    }
   ],
   "source": [
    "# Encode all columns into numbers to run through machine learning\n",
    "obs_ml_df['status'] = LabelEncoder().fit_transform(obs_ml_df['status'])\n",
    "obs_ml_df = pd.get_dummies(obs_ml_df,columns=['observational_study_model', 'sampling_method', 'fda_regulated_drug', 'fda_regulated_device'])\n",
    "obs_ml_df.head()"
   ]
  },
  {
   "cell_type": "code",
   "execution_count": 10,
   "id": "c36382ae",
   "metadata": {},
   "outputs": [],
   "source": [
    "X = obs_ml_df.drop(\"status\", axis=1)\n",
    "y = obs_ml_df.status"
   ]
  },
  {
   "cell_type": "code",
   "execution_count": 11,
   "id": "310f2d2f",
   "metadata": {},
   "outputs": [],
   "source": [
    "# Split to test & train\n",
    "X_train, X_test, y_train, y_test = train_test_split(X, y, random_state=1)\n",
    "\n",
    "# Create StandardScaler instance\n",
    "scaler = StandardScaler()\n",
    "\n",
    "# Fit Standard Scaler with training data\n",
    "X_scaler = scaler.fit(X_train)\n",
    "\n",
    "# Scale the data\n",
    "X_train_scaled = X_scaler.transform(X_train)\n",
    "X_test_scaled = X_scaler.transform(X_test)"
   ]
  },
  {
   "cell_type": "markdown",
   "id": "f878a051",
   "metadata": {},
   "source": [
    "### Random Forest Classifier"
   ]
  },
  {
   "cell_type": "code",
   "execution_count": 12,
   "id": "b773dd4c",
   "metadata": {},
   "outputs": [],
   "source": [
    "# Create random forest classifier\n",
    "rf_model = RandomForestClassifier(n_estimators=256, random_state=1)\n",
    "\n",
    "# Fit the model\n",
    "rf_model = rf_model.fit(X_train_scaled, y_train)\n",
    "\n",
    "# Create prediction\n",
    "y_pred = rf_model.predict(X_test_scaled)"
   ]
  },
  {
   "cell_type": "code",
   "execution_count": 13,
   "id": "d3a20759",
   "metadata": {},
   "outputs": [],
   "source": [
    "# Define printing results for machine learning\n",
    "def print_result(model):\n",
    "    # Calculate confusion matrix\n",
    "    cm = confusion_matrix(y_test, y_pred)\n",
    "    cm_df = pd.DataFrame(cm, index=['Actual High Chance', 'Actual Low chance'], columns = ['Predicted High Chance', 'Predicted Low Chance'])\n",
    "\n",
    "    # Calculate accuracy score\n",
    "    acc_score = accuracy_score(y_test, y_pred)\n",
    "    bal_acc_score = balanced_accuracy_score(y_test, y_pred)\n",
    "\n",
    "    # Print results\n",
    "    print(model + \" Results\\n\")\n",
    "    print(\"Confusion Matrix\")\n",
    "    display(cm_df)\n",
    "    print(f'Accuracy Score: {acc_score}')\n",
    "    print(f'Balanced Accuracy Score: {bal_acc_score}')\n",
    "    print(\"---------------------------\")\n",
    "    print(\"Classfication Report\")\n",
    "    print(classification_report_imbalanced(y_test, y_pred))\n"
   ]
  },
  {
   "cell_type": "code",
   "execution_count": 14,
   "id": "006c4037",
   "metadata": {},
   "outputs": [
    {
     "name": "stdout",
     "output_type": "stream",
     "text": [
      "Random Forest Classifier Results\n",
      "\n",
      "Confusion Matrix\n"
     ]
    },
    {
     "data": {
      "text/html": [
       "<div>\n",
       "<style scoped>\n",
       "    .dataframe tbody tr th:only-of-type {\n",
       "        vertical-align: middle;\n",
       "    }\n",
       "\n",
       "    .dataframe tbody tr th {\n",
       "        vertical-align: top;\n",
       "    }\n",
       "\n",
       "    .dataframe thead th {\n",
       "        text-align: right;\n",
       "    }\n",
       "</style>\n",
       "<table border=\"1\" class=\"dataframe\">\n",
       "  <thead>\n",
       "    <tr style=\"text-align: right;\">\n",
       "      <th></th>\n",
       "      <th>Predicted High Chance</th>\n",
       "      <th>Predicted Low Chance</th>\n",
       "    </tr>\n",
       "  </thead>\n",
       "  <tbody>\n",
       "    <tr>\n",
       "      <th>Actual High Chance</th>\n",
       "      <td>148</td>\n",
       "      <td>22</td>\n",
       "    </tr>\n",
       "    <tr>\n",
       "      <th>Actual Low chance</th>\n",
       "      <td>38</td>\n",
       "      <td>16</td>\n",
       "    </tr>\n",
       "  </tbody>\n",
       "</table>\n",
       "</div>"
      ],
      "text/plain": [
       "                    Predicted High Chance  Predicted Low Chance\n",
       "Actual High Chance                    148                    22\n",
       "Actual Low chance                      38                    16"
      ]
     },
     "metadata": {},
     "output_type": "display_data"
    },
    {
     "name": "stdout",
     "output_type": "stream",
     "text": [
      "Accuracy Score: 0.7321428571428571\n",
      "Balanced Accuracy Score: 0.583442265795207\n",
      "---------------------------\n",
      "Classfication Report\n",
      "                   pre       rec       spe        f1       geo       iba       sup\n",
      "\n",
      "          0       0.80      0.87      0.30      0.83      0.51      0.27       170\n",
      "          1       0.42      0.30      0.87      0.35      0.51      0.24        54\n",
      "\n",
      "avg / total       0.71      0.73      0.43      0.71      0.51      0.27       224\n",
      "\n"
     ]
    }
   ],
   "source": [
    "print_result(\"Random Forest Classifier\")"
   ]
  },
  {
   "cell_type": "code",
   "execution_count": 15,
   "id": "c549cd1c",
   "metadata": {},
   "outputs": [
    {
     "data": {
      "text/plain": [
       "[(0.4681344902908242, 'actual_duration'),\n",
       " (0.4400525697525509, 'enrollment_count'),\n",
       " (0.011902048343715348, 'observational_study_model_Cohort'),\n",
       " (0.011274738340037753, 'sampling_method_Non-Probability Sample'),\n",
       " (0.010232426946997044, 'observational_study_model_Case-Control'),\n",
       " (0.009894184254706196, 'observational_study_model_Other'),\n",
       " (0.008942864520079407, 'sampling_method_Probability Sample'),\n",
       " (0.008363739362938055, 'observational_study_model_Case-Only'),\n",
       " (0.005958669580013565, 'fda_regulated_drug_No'),\n",
       " (0.005718676244156647, 'observational_study_model_Case-Crossover'),\n",
       " (0.005631067142487108, 'fda_regulated_drug_Yes'),\n",
       " (0.005481794395934248, 'fda_regulated_device_Yes'),\n",
       " (0.005013603106586491, 'fda_regulated_device_No'),\n",
       " (0.0024176150111368476, 'observational_study_model_Ecologic or Community'),\n",
       " (0.000981512707836105, 'observational_study_model_Family-Based')]"
      ]
     },
     "execution_count": 15,
     "metadata": {},
     "output_type": "execute_result"
    }
   ],
   "source": [
    "# Calculate feature importance\n",
    "rf_importances = rf_model.feature_importances_\n",
    "\n",
    "# sort features by importance\n",
    "sorted(zip(rf_importances, X.columns), reverse=True)"
   ]
  },
  {
   "cell_type": "code",
   "execution_count": 16,
   "id": "9d899410",
   "metadata": {},
   "outputs": [
    {
     "data": {
      "image/png": "[encoded data removed]",
      "text/plain": [
       "<Figure size 1200x1000 with 1 Axes>"
      ]
     },
     "metadata": {},
     "output_type": "display_data"
    }
   ],
   "source": [
    "import seaborn as sns\n",
    "import matplotlib.pyplot as plt\n",
    "%matplotlib inline\n",
    "\n",
    "# define function to plot feature importance\n",
    "def plot_importance (importance, names, model_type):\n",
    "\n",
    "    df = pd.DataFrame({'Names':names, 'Importance':importance})\n",
    "    df.sort_values(by=['Importance'], ascending=False, inplace=True)\n",
    "\n",
    "    plt.figure(figsize=(12,10))\n",
    "    sns.barplot(x=df['Importance'], y=df['Names'])\n",
    "\n",
    "    plt.title(model_type + ' Feature Importance')\n",
    "    plt.xlabel('Importance')\n",
    "    plt.ylabel('Name')\n",
    "\n",
    "    plt.show()\n",
    "\n",
    "plot_importance(rf_importances, X.columns, 'Random Forest')"
   ]
  },
  {
   "cell_type": "markdown",
   "id": "492c1421",
   "metadata": {},
   "source": [
    "### Balanced Random Forest Classifier"
   ]
  },
  {
   "cell_type": "code",
   "execution_count": 17,
   "id": "c2293672",
   "metadata": {},
   "outputs": [],
   "source": [
    "# Resample the training data with the BalancedRandomForestClassifier\n",
    "from imblearn.ensemble import BalancedRandomForestClassifier\n",
    "\n",
    "# Instantiate model\n",
    "brf_classifier = BalancedRandomForestClassifier(n_estimators=256, random_state=1)\n",
    "\n",
    "# Fit model\n",
    "brf_classifier.fit(X_train_scaled, y_train)\n",
    "\n",
    "# Create prediction\n",
    "y_pred = brf_classifier.predict(X_test_scaled)"
   ]
  },
  {
   "cell_type": "code",
   "execution_count": 18,
   "id": "addcc2ae",
   "metadata": {},
   "outputs": [
    {
     "name": "stdout",
     "output_type": "stream",
     "text": [
      "Balanced Random Forest Classifer Results\n",
      "\n",
      "Confusion Matrix\n"
     ]
    },
    {
     "data": {
      "text/html": [
       "<div>\n",
       "<style scoped>\n",
       "    .dataframe tbody tr th:only-of-type {\n",
       "        vertical-align: middle;\n",
       "    }\n",
       "\n",
       "    .dataframe tbody tr th {\n",
       "        vertical-align: top;\n",
       "    }\n",
       "\n",
       "    .dataframe thead th {\n",
       "        text-align: right;\n",
       "    }\n",
       "</style>\n",
       "<table border=\"1\" class=\"dataframe\">\n",
       "  <thead>\n",
       "    <tr style=\"text-align: right;\">\n",
       "      <th></th>\n",
       "      <th>Predicted High Chance</th>\n",
       "      <th>Predicted Low Chance</th>\n",
       "    </tr>\n",
       "  </thead>\n",
       "  <tbody>\n",
       "    <tr>\n",
       "      <th>Actual High Chance</th>\n",
       "      <td>91</td>\n",
       "      <td>79</td>\n",
       "    </tr>\n",
       "    <tr>\n",
       "      <th>Actual Low chance</th>\n",
       "      <td>22</td>\n",
       "      <td>32</td>\n",
       "    </tr>\n",
       "  </tbody>\n",
       "</table>\n",
       "</div>"
      ],
      "text/plain": [
       "                    Predicted High Chance  Predicted Low Chance\n",
       "Actual High Chance                     91                    79\n",
       "Actual Low chance                      22                    32"
      ]
     },
     "metadata": {},
     "output_type": "display_data"
    },
    {
     "name": "stdout",
     "output_type": "stream",
     "text": [
      "Accuracy Score: 0.5491071428571429\n",
      "Balanced Accuracy Score: 0.5639433551198256\n",
      "---------------------------\n",
      "Classfication Report\n",
      "                   pre       rec       spe        f1       geo       iba       sup\n",
      "\n",
      "          0       0.81      0.54      0.59      0.64      0.56      0.32       170\n",
      "          1       0.29      0.59      0.54      0.39      0.56      0.32        54\n",
      "\n",
      "avg / total       0.68      0.55      0.58      0.58      0.56      0.32       224\n",
      "\n"
     ]
    }
   ],
   "source": [
    "print_result(\"Balanced Random Forest Classifer\")"
   ]
  },
  {
   "cell_type": "code",
   "execution_count": 19,
   "id": "0a234144",
   "metadata": {
    "scrolled": true
   },
   "outputs": [
    {
     "name": "stdout",
     "output_type": "stream",
     "text": [
      "actual_duration: (0.45317556142022075)\n",
      "enrollment_count: (0.4225056608215723)\n",
      "observational_study_model_Cohort: (0.015825957367004193)\n",
      "sampling_method_Probability Sample: (0.014224299692666413)\n",
      "observational_study_model_Case-Control: (0.013822897582651043)\n",
      "observational_study_model_Case-Only: (0.013231747642086324)\n",
      "sampling_method_Non-Probability Sample: (0.01312183989371171)\n",
      "observational_study_model_Other: (0.011487187208082821)\n",
      "fda_regulated_device_Yes: (0.00843763462751591)\n",
      "fda_regulated_drug_No: (0.008278011168463075)\n",
      "fda_regulated_drug_Yes: (0.007564905215675407)\n",
      "fda_regulated_device_No: (0.00739665558992557)\n",
      "observational_study_model_Case-Crossover: (0.005797732906257477)\n",
      "observational_study_model_Ecologic or Community: (0.003575600879360369)\n",
      "observational_study_model_Family-Based: (0.001554307984806749)\n"
     ]
    }
   ],
   "source": [
    "# Calculate feature importance\n",
    "brf_importances = brf_classifier.feature_importances_\n",
    "\n",
    "# List the features sorted in descending order by feature importance\n",
    "features_rank = sorted(zip(brf_importances, X.columns), reverse=True)\n",
    "for feature in features_rank:\n",
    "    print(f\"{feature[1]}: ({feature[0]})\")"
   ]
  },
  {
   "cell_type": "code",
   "execution_count": 20,
   "id": "811a3aba",
   "metadata": {},
   "outputs": [
    {
     "data": {
      "image/png": "[encoded data removed]",
      "text/plain": [
       "<Figure size 1200x1000 with 1 Axes>"
      ]
     },
     "metadata": {},
     "output_type": "display_data"
    }
   ],
   "source": [
    "plot_importance(brf_importances, X.columns, 'Balanced Random Forest')"
   ]
  },
  {
   "cell_type": "markdown",
   "id": "c04de9c2",
   "metadata": {},
   "source": [
    "### Logistic Regression"
   ]
  },
  {
   "cell_type": "code",
   "execution_count": 21,
   "id": "a84bf018",
   "metadata": {},
   "outputs": [],
   "source": [
    "# Declare model\n",
    "lr_model = LogisticRegression(solver='lbfgs', random_state=42)\n",
    "\n",
    "# fit the model\n",
    "lr_model = lr_model.fit(X_train_scaled, y_train)\n",
    "\n",
    "# create prediction\n",
    "y_pred = lr_model.predict(X_test_scaled)"
   ]
  },
  {
   "cell_type": "code",
   "execution_count": 22,
   "id": "5408ad47",
   "metadata": {},
   "outputs": [
    {
     "name": "stdout",
     "output_type": "stream",
     "text": [
      "Logistic Regression Results\n",
      "\n",
      "Confusion Matrix\n"
     ]
    },
    {
     "data": {
      "text/html": [
       "<div>\n",
       "<style scoped>\n",
       "    .dataframe tbody tr th:only-of-type {\n",
       "        vertical-align: middle;\n",
       "    }\n",
       "\n",
       "    .dataframe tbody tr th {\n",
       "        vertical-align: top;\n",
       "    }\n",
       "\n",
       "    .dataframe thead th {\n",
       "        text-align: right;\n",
       "    }\n",
       "</style>\n",
       "<table border=\"1\" class=\"dataframe\">\n",
       "  <thead>\n",
       "    <tr style=\"text-align: right;\">\n",
       "      <th></th>\n",
       "      <th>Predicted High Chance</th>\n",
       "      <th>Predicted Low Chance</th>\n",
       "    </tr>\n",
       "  </thead>\n",
       "  <tbody>\n",
       "    <tr>\n",
       "      <th>Actual High Chance</th>\n",
       "      <td>170</td>\n",
       "      <td>0</td>\n",
       "    </tr>\n",
       "    <tr>\n",
       "      <th>Actual Low chance</th>\n",
       "      <td>53</td>\n",
       "      <td>1</td>\n",
       "    </tr>\n",
       "  </tbody>\n",
       "</table>\n",
       "</div>"
      ],
      "text/plain": [
       "                    Predicted High Chance  Predicted Low Chance\n",
       "Actual High Chance                    170                     0\n",
       "Actual Low chance                      53                     1"
      ]
     },
     "metadata": {},
     "output_type": "display_data"
    },
    {
     "name": "stdout",
     "output_type": "stream",
     "text": [
      "Accuracy Score: 0.7633928571428571\n",
      "Balanced Accuracy Score: 0.5092592592592593\n",
      "---------------------------\n",
      "Classfication Report\n",
      "                   pre       rec       spe        f1       geo       iba       sup\n",
      "\n",
      "          0       0.76      1.00      0.02      0.87      0.14      0.02       170\n",
      "          1       1.00      0.02      1.00      0.04      0.14      0.02        54\n",
      "\n",
      "avg / total       0.82      0.76      0.26      0.67      0.14      0.02       224\n",
      "\n"
     ]
    }
   ],
   "source": [
    "print_result(\"Logistic Regression\")"
   ]
  },
  {
   "cell_type": "markdown",
   "id": "989df4ed",
   "metadata": {},
   "source": [
    "### Optimize model, Use resampling techniques to determine the best performing algorithm"
   ]
  },
  {
   "cell_type": "markdown",
   "id": "86a8deb4",
   "metadata": {},
   "source": [
    "#### Oversampling"
   ]
  },
  {
   "cell_type": "markdown",
   "id": "6116f7a5",
   "metadata": {},
   "source": [
    "- Random Over Sampler"
   ]
  },
  {
   "cell_type": "code",
   "execution_count": 23,
   "id": "122a7c4c",
   "metadata": {},
   "outputs": [],
   "source": [
    "# Define function to re-run machine learning through resampling models\n",
    "\n",
    "def resample_ml(model):\n",
    "    classifier = LogisticRegression(solver='lbfgs', random_state=1)\n",
    "    X_resampled, y_resampled = model.fit_resample(X_train_scaled, y_train)\n",
    "    classifier.fit(X_resampled, y_resampled)\n",
    "    y_pred = classifier.predict(X_test)\n",
    "    "
   ]
  },
  {
   "cell_type": "code",
   "execution_count": 24,
   "id": "bb17ff6d",
   "metadata": {},
   "outputs": [],
   "source": [
    "resample_ml(RandomOverSampler(random_state=1))"
   ]
  },
  {
   "cell_type": "code",
   "execution_count": 25,
   "id": "d140b4e6",
   "metadata": {},
   "outputs": [
    {
     "name": "stdout",
     "output_type": "stream",
     "text": [
      "Random Over Sampling Results\n",
      "\n",
      "Confusion Matrix\n"
     ]
    },
    {
     "data": {
      "text/html": [
       "<div>\n",
       "<style scoped>\n",
       "    .dataframe tbody tr th:only-of-type {\n",
       "        vertical-align: middle;\n",
       "    }\n",
       "\n",
       "    .dataframe tbody tr th {\n",
       "        vertical-align: top;\n",
       "    }\n",
       "\n",
       "    .dataframe thead th {\n",
       "        text-align: right;\n",
       "    }\n",
       "</style>\n",
       "<table border=\"1\" class=\"dataframe\">\n",
       "  <thead>\n",
       "    <tr style=\"text-align: right;\">\n",
       "      <th></th>\n",
       "      <th>Predicted High Chance</th>\n",
       "      <th>Predicted Low Chance</th>\n",
       "    </tr>\n",
       "  </thead>\n",
       "  <tbody>\n",
       "    <tr>\n",
       "      <th>Actual High Chance</th>\n",
       "      <td>170</td>\n",
       "      <td>0</td>\n",
       "    </tr>\n",
       "    <tr>\n",
       "      <th>Actual Low chance</th>\n",
       "      <td>53</td>\n",
       "      <td>1</td>\n",
       "    </tr>\n",
       "  </tbody>\n",
       "</table>\n",
       "</div>"
      ],
      "text/plain": [
       "                    Predicted High Chance  Predicted Low Chance\n",
       "Actual High Chance                    170                     0\n",
       "Actual Low chance                      53                     1"
      ]
     },
     "metadata": {},
     "output_type": "display_data"
    },
    {
     "name": "stdout",
     "output_type": "stream",
     "text": [
      "Accuracy Score: 0.7633928571428571\n",
      "Balanced Accuracy Score: 0.5092592592592593\n",
      "---------------------------\n",
      "Classfication Report\n",
      "                   pre       rec       spe        f1       geo       iba       sup\n",
      "\n",
      "          0       0.76      1.00      0.02      0.87      0.14      0.02       170\n",
      "          1       1.00      0.02      1.00      0.04      0.14      0.02        54\n",
      "\n",
      "avg / total       0.82      0.76      0.26      0.67      0.14      0.02       224\n",
      "\n"
     ]
    }
   ],
   "source": [
    "print_result(\"Random Over Sampling\")"
   ]
  },
  {
   "cell_type": "markdown",
   "id": "8d73b0a0",
   "metadata": {},
   "source": [
    "- SMOTE"
   ]
  },
  {
   "cell_type": "code",
   "execution_count": 26,
   "id": "db9fb518",
   "metadata": {},
   "outputs": [],
   "source": [
    "resample_ml(SMOTE(random_state=1))"
   ]
  },
  {
   "cell_type": "code",
   "execution_count": 27,
   "id": "938d9115",
   "metadata": {},
   "outputs": [
    {
     "name": "stdout",
     "output_type": "stream",
     "text": [
      "SMOTE Results\n",
      "\n",
      "Confusion Matrix\n"
     ]
    },
    {
     "data": {
      "text/html": [
       "<div>\n",
       "<style scoped>\n",
       "    .dataframe tbody tr th:only-of-type {\n",
       "        vertical-align: middle;\n",
       "    }\n",
       "\n",
       "    .dataframe tbody tr th {\n",
       "        vertical-align: top;\n",
       "    }\n",
       "\n",
       "    .dataframe thead th {\n",
       "        text-align: right;\n",
       "    }\n",
       "</style>\n",
       "<table border=\"1\" class=\"dataframe\">\n",
       "  <thead>\n",
       "    <tr style=\"text-align: right;\">\n",
       "      <th></th>\n",
       "      <th>Predicted High Chance</th>\n",
       "      <th>Predicted Low Chance</th>\n",
       "    </tr>\n",
       "  </thead>\n",
       "  <tbody>\n",
       "    <tr>\n",
       "      <th>Actual High Chance</th>\n",
       "      <td>170</td>\n",
       "      <td>0</td>\n",
       "    </tr>\n",
       "    <tr>\n",
       "      <th>Actual Low chance</th>\n",
       "      <td>53</td>\n",
       "      <td>1</td>\n",
       "    </tr>\n",
       "  </tbody>\n",
       "</table>\n",
       "</div>"
      ],
      "text/plain": [
       "                    Predicted High Chance  Predicted Low Chance\n",
       "Actual High Chance                    170                     0\n",
       "Actual Low chance                      53                     1"
      ]
     },
     "metadata": {},
     "output_type": "display_data"
    },
    {
     "name": "stdout",
     "output_type": "stream",
     "text": [
      "Accuracy Score: 0.7633928571428571\n",
      "Balanced Accuracy Score: 0.5092592592592593\n",
      "---------------------------\n",
      "Classfication Report\n",
      "                   pre       rec       spe        f1       geo       iba       sup\n",
      "\n",
      "          0       0.76      1.00      0.02      0.87      0.14      0.02       170\n",
      "          1       1.00      0.02      1.00      0.04      0.14      0.02        54\n",
      "\n",
      "avg / total       0.82      0.76      0.26      0.67      0.14      0.02       224\n",
      "\n"
     ]
    }
   ],
   "source": [
    "print_result(\"SMOTE\")"
   ]
  },
  {
   "cell_type": "markdown",
   "id": "428d8a8a",
   "metadata": {},
   "source": [
    "#### Undersampling"
   ]
  },
  {
   "cell_type": "code",
   "execution_count": 28,
   "id": "6b56fc03",
   "metadata": {},
   "outputs": [],
   "source": [
    "# Resample the data using the ClusterCentroids resampler\n",
    "resample_ml(ClusterCentroids(random_state=1))"
   ]
  },
  {
   "cell_type": "code",
   "execution_count": 29,
   "id": "68e5c585",
   "metadata": {},
   "outputs": [
    {
     "name": "stdout",
     "output_type": "stream",
     "text": [
      "Cluster Centroids Results\n",
      "\n",
      "Confusion Matrix\n"
     ]
    },
    {
     "data": {
      "text/html": [
       "<div>\n",
       "<style scoped>\n",
       "    .dataframe tbody tr th:only-of-type {\n",
       "        vertical-align: middle;\n",
       "    }\n",
       "\n",
       "    .dataframe tbody tr th {\n",
       "        vertical-align: top;\n",
       "    }\n",
       "\n",
       "    .dataframe thead th {\n",
       "        text-align: right;\n",
       "    }\n",
       "</style>\n",
       "<table border=\"1\" class=\"dataframe\">\n",
       "  <thead>\n",
       "    <tr style=\"text-align: right;\">\n",
       "      <th></th>\n",
       "      <th>Predicted High Chance</th>\n",
       "      <th>Predicted Low Chance</th>\n",
       "    </tr>\n",
       "  </thead>\n",
       "  <tbody>\n",
       "    <tr>\n",
       "      <th>Actual High Chance</th>\n",
       "      <td>170</td>\n",
       "      <td>0</td>\n",
       "    </tr>\n",
       "    <tr>\n",
       "      <th>Actual Low chance</th>\n",
       "      <td>53</td>\n",
       "      <td>1</td>\n",
       "    </tr>\n",
       "  </tbody>\n",
       "</table>\n",
       "</div>"
      ],
      "text/plain": [
       "                    Predicted High Chance  Predicted Low Chance\n",
       "Actual High Chance                    170                     0\n",
       "Actual Low chance                      53                     1"
      ]
     },
     "metadata": {},
     "output_type": "display_data"
    },
    {
     "name": "stdout",
     "output_type": "stream",
     "text": [
      "Accuracy Score: 0.7633928571428571\n",
      "Balanced Accuracy Score: 0.5092592592592593\n",
      "---------------------------\n",
      "Classfication Report\n",
      "                   pre       rec       spe        f1       geo       iba       sup\n",
      "\n",
      "          0       0.76      1.00      0.02      0.87      0.14      0.02       170\n",
      "          1       1.00      0.02      1.00      0.04      0.14      0.02        54\n",
      "\n",
      "avg / total       0.82      0.76      0.26      0.67      0.14      0.02       224\n",
      "\n"
     ]
    }
   ],
   "source": [
    "print_result(\"Cluster Centroids\")"
   ]
  },
  {
   "cell_type": "markdown",
   "id": "cc156662",
   "metadata": {},
   "source": [
    "#### Combination (Over and Under) Sampling"
   ]
  },
  {
   "cell_type": "code",
   "execution_count": 30,
   "id": "a1440667",
   "metadata": {},
   "outputs": [],
   "source": [
    "# Resample using SMOTEENN\n",
    "resample_ml(SMOTEENN(random_state=1))"
   ]
  },
  {
   "cell_type": "code",
   "execution_count": 31,
   "id": "ee05fafb",
   "metadata": {},
   "outputs": [
    {
     "name": "stdout",
     "output_type": "stream",
     "text": [
      "SMOTEENN Results\n",
      "\n",
      "Confusion Matrix\n"
     ]
    },
    {
     "data": {
      "text/html": [
       "<div>\n",
       "<style scoped>\n",
       "    .dataframe tbody tr th:only-of-type {\n",
       "        vertical-align: middle;\n",
       "    }\n",
       "\n",
       "    .dataframe tbody tr th {\n",
       "        vertical-align: top;\n",
       "    }\n",
       "\n",
       "    .dataframe thead th {\n",
       "        text-align: right;\n",
       "    }\n",
       "</style>\n",
       "<table border=\"1\" class=\"dataframe\">\n",
       "  <thead>\n",
       "    <tr style=\"text-align: right;\">\n",
       "      <th></th>\n",
       "      <th>Predicted High Chance</th>\n",
       "      <th>Predicted Low Chance</th>\n",
       "    </tr>\n",
       "  </thead>\n",
       "  <tbody>\n",
       "    <tr>\n",
       "      <th>Actual High Chance</th>\n",
       "      <td>170</td>\n",
       "      <td>0</td>\n",
       "    </tr>\n",
       "    <tr>\n",
       "      <th>Actual Low chance</th>\n",
       "      <td>53</td>\n",
       "      <td>1</td>\n",
       "    </tr>\n",
       "  </tbody>\n",
       "</table>\n",
       "</div>"
      ],
      "text/plain": [
       "                    Predicted High Chance  Predicted Low Chance\n",
       "Actual High Chance                    170                     0\n",
       "Actual Low chance                      53                     1"
      ]
     },
     "metadata": {},
     "output_type": "display_data"
    },
    {
     "name": "stdout",
     "output_type": "stream",
     "text": [
      "Accuracy Score: 0.7633928571428571\n",
      "Balanced Accuracy Score: 0.5092592592592593\n",
      "---------------------------\n",
      "Classfication Report\n",
      "                   pre       rec       spe        f1       geo       iba       sup\n",
      "\n",
      "          0       0.76      1.00      0.02      0.87      0.14      0.02       170\n",
      "          1       1.00      0.02      1.00      0.04      0.14      0.02        54\n",
      "\n",
      "avg / total       0.82      0.76      0.26      0.67      0.14      0.02       224\n",
      "\n"
     ]
    }
   ],
   "source": [
    "print_result(\"SMOTEENN\")"
   ]
  },
  {
   "cell_type": "code",
   "execution_count": null,
   "id": "9e4fbf14",
   "metadata": {},
   "outputs": [],
   "source": []
  }
 ],
 "metadata": {
  "kernelspec": {
   "display_name": "mlenv",
   "language": "python",
   "name": "python3"
  },
  "language_info": {
   "codemirror_mode": {
    "name": "ipython",
    "version": 3
   },
   "file_extension": ".py",
   "mimetype": "text/x-python",
   "name": "python",
   "nbconvert_exporter": "python",
   "pygments_lexer": "ipython3",
   "version": "3.7.13"
  }
 },
 "nbformat": 4,
 "nbformat_minor": 5
}
