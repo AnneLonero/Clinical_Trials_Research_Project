{
 "cells": [
  {
   "cell_type": "code",
   "execution_count": 2,
   "id": "945f5f5d",
   "metadata": {},
   "outputs": [],
   "source": [
    "import warnings\n",
    "warnings.filterwarnings('ignore')"
   ]
  },
  {
   "cell_type": "code",
   "execution_count": 3,
   "id": "54381d01",
   "metadata": {},
   "outputs": [],
   "source": [
    "import numpy as np\n",
    "import pandas as pd"
   ]
  },
  {
   "cell_type": "code",
   "execution_count": 4,
   "id": "f9ad881a",
   "metadata": {},
   "outputs": [],
   "source": [
    "from collections import Counter\n",
    "from sklearn.decomposition import PCA\n",
    "from sklearn.ensemble import RandomForestClassifier\n",
    "from sklearn.linear_model import LogisticRegression\n",
    "from sklearn.model_selection import train_test_split\n",
    "from sklearn.preprocessing import StandardScaler, LabelEncoder\n",
    "from sklearn.metrics import confusion_matrix, classification_report, balanced_accuracy_score, accuracy_score\n",
    "from imblearn.metrics import classification_report_imbalanced"
   ]
  },
  {
   "cell_type": "markdown",
   "id": "32f4aa77",
   "metadata": {},
   "source": [
    "### Import CSV and Perform Data Cleaning"
   ]
  },
  {
   "cell_type": "code",
   "execution_count": 5,
   "metadata": {},
   "outputs": [],
   "source": [
    "# imprt CSV as DataFrame\n",
    "obs_df = pd.read_csv('Tables/observational_studies_fda.csv')"
   ]
  },
  {
   "cell_type": "code",
   "execution_count": 6,
   "id": "01989677",
   "metadata": {},
   "outputs": [
    {
     "data": {
      "text/html": [
       "<div>\n",
       "<style scoped>\n",
       "    .dataframe tbody tr th:only-of-type {\n",
       "        vertical-align: middle;\n",
       "    }\n",
       "\n",
       "    .dataframe tbody tr th {\n",
       "        vertical-align: top;\n",
       "    }\n",
       "\n",
       "    .dataframe thead th {\n",
       "        text-align: right;\n",
       "    }\n",
       "</style>\n",
       "<table border=\"1\" class=\"dataframe\">\n",
       "  <thead>\n",
       "    <tr style=\"text-align: right;\">\n",
       "      <th></th>\n",
       "      <th>ID</th>\n",
       "      <th>title</th>\n",
       "      <th>status</th>\n",
       "      <th>study_type</th>\n",
       "      <th>observational_study_model</th>\n",
       "      <th>sampling_method</th>\n",
       "      <th>fda_regulated_drug</th>\n",
       "      <th>fda_regulated_device</th>\n",
       "    </tr>\n",
       "  </thead>\n",
       "  <tbody>\n",
       "    <tr>\n",
       "      <th>0</th>\n",
       "      <td>BTX-BCI-016-PRT</td>\n",
       "      <td>Breast Cancer Index (BCI) Registry</td>\n",
       "      <td>Recruiting</td>\n",
       "      <td>Observational</td>\n",
       "      <td>Case-Only</td>\n",
       "      <td>Non-Probability Sample</td>\n",
       "      <td>No</td>\n",
       "      <td>No</td>\n",
       "    </tr>\n",
       "    <tr>\n",
       "      <th>1</th>\n",
       "      <td>2018-TJ-BCD</td>\n",
       "      <td>Diagnosis Value of SEMA4C in Breast Cancer</td>\n",
       "      <td>Not yet recruiting</td>\n",
       "      <td>Observational</td>\n",
       "      <td>Case-Control</td>\n",
       "      <td>Non-Probability Sample</td>\n",
       "      <td>No</td>\n",
       "      <td>No</td>\n",
       "    </tr>\n",
       "    <tr>\n",
       "      <th>2</th>\n",
       "      <td>Breast cancer</td>\n",
       "      <td>Role of Sorcin and Annexin A3 in Breast Cancer...</td>\n",
       "      <td>Unknown status</td>\n",
       "      <td>Observational</td>\n",
       "      <td>Case-Control</td>\n",
       "      <td>Probability Sample</td>\n",
       "      <td>No</td>\n",
       "      <td>No</td>\n",
       "    </tr>\n",
       "    <tr>\n",
       "      <th>3</th>\n",
       "      <td>BC-BOMET</td>\n",
       "      <td>Evaluation of Prognostic Factors: From Breast ...</td>\n",
       "      <td>Recruiting</td>\n",
       "      <td>Observational</td>\n",
       "      <td>Case-Control</td>\n",
       "      <td>Non-Probability Sample</td>\n",
       "      <td>No</td>\n",
       "      <td>No</td>\n",
       "    </tr>\n",
       "    <tr>\n",
       "      <th>4</th>\n",
       "      <td>241391</td>\n",
       "      <td>A Study to Identify Breast Cancer (IDBC)</td>\n",
       "      <td>Unknown status</td>\n",
       "      <td>Observational</td>\n",
       "      <td>Cohort</td>\n",
       "      <td>Non-Probability Sample</td>\n",
       "      <td>No</td>\n",
       "      <td>No</td>\n",
       "    </tr>\n",
       "  </tbody>\n",
       "</table>\n",
       "</div>"
      ],
      "text/plain": [
       "                ID                                              title  \\\n",
       "0  BTX-BCI-016-PRT                 Breast Cancer Index (BCI) Registry   \n",
       "1      2018-TJ-BCD         Diagnosis Value of SEMA4C in Breast Cancer   \n",
       "2    Breast cancer  Role of Sorcin and Annexin A3 in Breast Cancer...   \n",
       "3         BC-BOMET  Evaluation of Prognostic Factors: From Breast ...   \n",
       "4           241391           A Study to Identify Breast Cancer (IDBC)   \n",
       "\n",
       "               status     study_type observational_study_model  \\\n",
       "0          Recruiting  Observational                 Case-Only   \n",
       "1  Not yet recruiting  Observational              Case-Control   \n",
       "2      Unknown status  Observational              Case-Control   \n",
       "3          Recruiting  Observational              Case-Control   \n",
       "4      Unknown status  Observational                    Cohort   \n",
       "\n",
       "          sampling_method fda_regulated_drug fda_regulated_device  \n",
       "0  Non-Probability Sample                 No                   No  \n",
       "1  Non-Probability Sample                 No                   No  \n",
       "2      Probability Sample                 No                   No  \n",
       "3  Non-Probability Sample                 No                   No  \n",
       "4  Non-Probability Sample                 No                   No  "
      ]
     },
     "execution_count": 6,
     "metadata": {},
     "output_type": "execute_result"
    }
   ],
   "source": [
    "# Drop 'target_duration' column due to too many null values\n",
    "# Drop null rows\n",
    "\n",
    "obs_df = obs_df.drop(['target_duration'], axis=1)\n",
    "obs_df = obs_df.dropna()\n",
    "obs_df.head()"
   ]
  },
  {
   "cell_type": "code",
   "execution_count": 7,
   "id": "2b3ba8e1",
   "metadata": {},
   "outputs": [
    {
     "data": {
      "text/plain": [
       "status\n",
       "Active, not recruiting      73\n",
       "Completed                  186\n",
       "Enrolling by invitation     22\n",
       "Not yet recruiting         127\n",
       "Recruiting                 444\n",
       "Suspended                    7\n",
       "Terminated                  16\n",
       "Unknown status             127\n",
       "Withdrawn                   16\n",
       "dtype: int64"
      ]
     },
     "execution_count": 7,
     "metadata": {},
     "output_type": "execute_result"
    }
   ],
   "source": [
    "# Check distribution of each status\n",
    "obs_df.groupby('status').size()"
   ]
  },
  {
   "cell_type": "code",
   "execution_count": 8,
   "id": "26c81032",
   "metadata": {},
   "outputs": [
    {
     "data": {
      "text/html": [
       "<div>\n",
       "<style scoped>\n",
       "    .dataframe tbody tr th:only-of-type {\n",
       "        vertical-align: middle;\n",
       "    }\n",
       "\n",
       "    .dataframe tbody tr th {\n",
       "        vertical-align: top;\n",
       "    }\n",
       "\n",
       "    .dataframe thead th {\n",
       "        text-align: right;\n",
       "    }\n",
       "</style>\n",
       "<table border=\"1\" class=\"dataframe\">\n",
       "  <thead>\n",
       "    <tr style=\"text-align: right;\">\n",
       "      <th></th>\n",
       "      <th>ID</th>\n",
       "      <th>title</th>\n",
       "      <th>status</th>\n",
       "      <th>study_type</th>\n",
       "      <th>observational_study_model</th>\n",
       "      <th>sampling_method</th>\n",
       "      <th>fda_regulated_drug</th>\n",
       "      <th>fda_regulated_device</th>\n",
       "    </tr>\n",
       "  </thead>\n",
       "  <tbody>\n",
       "    <tr>\n",
       "      <th>0</th>\n",
       "      <td>BTX-BCI-016-PRT</td>\n",
       "      <td>Breast Cancer Index (BCI) Registry</td>\n",
       "      <td>Not Completed</td>\n",
       "      <td>Observational</td>\n",
       "      <td>Case-Only</td>\n",
       "      <td>Non-Probability Sample</td>\n",
       "      <td>No</td>\n",
       "      <td>No</td>\n",
       "    </tr>\n",
       "    <tr>\n",
       "      <th>1</th>\n",
       "      <td>2018-TJ-BCD</td>\n",
       "      <td>Diagnosis Value of SEMA4C in Breast Cancer</td>\n",
       "      <td>Not Completed</td>\n",
       "      <td>Observational</td>\n",
       "      <td>Case-Control</td>\n",
       "      <td>Non-Probability Sample</td>\n",
       "      <td>No</td>\n",
       "      <td>No</td>\n",
       "    </tr>\n",
       "    <tr>\n",
       "      <th>3</th>\n",
       "      <td>BC-BOMET</td>\n",
       "      <td>Evaluation of Prognostic Factors: From Breast ...</td>\n",
       "      <td>Not Completed</td>\n",
       "      <td>Observational</td>\n",
       "      <td>Case-Control</td>\n",
       "      <td>Non-Probability Sample</td>\n",
       "      <td>No</td>\n",
       "      <td>No</td>\n",
       "    </tr>\n",
       "    <tr>\n",
       "      <th>6</th>\n",
       "      <td>FH-Risk 2.0 Research Protocol</td>\n",
       "      <td>FH-Risk 2.0: Updating Breast Cancer Risk Estim...</td>\n",
       "      <td>Not Completed</td>\n",
       "      <td>Observational</td>\n",
       "      <td>Other</td>\n",
       "      <td>Non-Probability Sample</td>\n",
       "      <td>No</td>\n",
       "      <td>No</td>\n",
       "    </tr>\n",
       "    <tr>\n",
       "      <th>7</th>\n",
       "      <td>ID-RPSBC-01-20201012</td>\n",
       "      <td>Genetic and Non-Genetic Breast Cancer Risk Pre...</td>\n",
       "      <td>Not Completed</td>\n",
       "      <td>Observational</td>\n",
       "      <td>Case-Control</td>\n",
       "      <td>Probability Sample</td>\n",
       "      <td>No</td>\n",
       "      <td>No</td>\n",
       "    </tr>\n",
       "  </tbody>\n",
       "</table>\n",
       "</div>"
      ],
      "text/plain": [
       "                              ID  \\\n",
       "0                BTX-BCI-016-PRT   \n",
       "1                    2018-TJ-BCD   \n",
       "3                       BC-BOMET   \n",
       "6  FH-Risk 2.0 Research Protocol   \n",
       "7           ID-RPSBC-01-20201012   \n",
       "\n",
       "                                               title         status  \\\n",
       "0                 Breast Cancer Index (BCI) Registry  Not Completed   \n",
       "1         Diagnosis Value of SEMA4C in Breast Cancer  Not Completed   \n",
       "3  Evaluation of Prognostic Factors: From Breast ...  Not Completed   \n",
       "6  FH-Risk 2.0: Updating Breast Cancer Risk Estim...  Not Completed   \n",
       "7  Genetic and Non-Genetic Breast Cancer Risk Pre...  Not Completed   \n",
       "\n",
       "      study_type observational_study_model         sampling_method  \\\n",
       "0  Observational                 Case-Only  Non-Probability Sample   \n",
       "1  Observational              Case-Control  Non-Probability Sample   \n",
       "3  Observational              Case-Control  Non-Probability Sample   \n",
       "6  Observational                     Other  Non-Probability Sample   \n",
       "7  Observational              Case-Control      Probability Sample   \n",
       "\n",
       "  fda_regulated_drug fda_regulated_device  \n",
       "0                 No                   No  \n",
       "1                 No                   No  \n",
       "3                 No                   No  \n",
       "6                 No                   No  \n",
       "7                 No                   No  "
      ]
     },
     "execution_count": 8,
     "metadata": {},
     "output_type": "execute_result"
    }
   ],
   "source": [
    "# Drop rows with 'unknown status'\n",
    "obs_df = obs_df.loc[obs_df['status'] != 'Unknown status']\n",
    "\n",
    "# categorize the status\n",
    "replace_value = {\n",
    "    'Completed':'Completed',\n",
    "    'Active, not recruiting': 'Not Completed',\n",
    "    'Enrolling by invitation': 'Not Completed',\n",
    "    'Not yet recruiting': 'Not Completed',\n",
    "    'Recruiting': 'Not Completed',\n",
    "    'Suspended': 'Not Completed',\n",
    "    'Terminated': 'Not Completed',\n",
    "    'Withdrawn': 'Not Completed'\n",
    "} \n",
    "\n",
    "obs_df = obs_df.replace({\"status\": replace_value})\n",
    "obs_df.head()\n"
   ]
  },
  {
   "cell_type": "code",
   "execution_count": 9,
   "id": "4f47967c",
   "metadata": {},
   "outputs": [],
   "source": [
    "# Create DF for machine learning - removes unnecessary columns\n",
    "obs_ml_df = obs_df[['status', 'observational_study_model', 'sampling_method', 'fda_regulated_drug', 'fda_regulated_device']]"
   ]
  },
  {
   "cell_type": "code",
   "execution_count": 10,
   "id": "bf5abfc4",
   "metadata": {},
   "outputs": [
    {
     "data": {
      "text/html": [
       "<div>\n",
       "<style scoped>\n",
       "    .dataframe tbody tr th:only-of-type {\n",
       "        vertical-align: middle;\n",
       "    }\n",
       "\n",
       "    .dataframe tbody tr th {\n",
       "        vertical-align: top;\n",
       "    }\n",
       "\n",
       "    .dataframe thead th {\n",
       "        text-align: right;\n",
       "    }\n",
       "</style>\n",
       "<table border=\"1\" class=\"dataframe\">\n",
       "  <thead>\n",
       "    <tr style=\"text-align: right;\">\n",
       "      <th></th>\n",
       "      <th>status_num</th>\n",
       "      <th>observational_study_model_Case-Control</th>\n",
       "      <th>observational_study_model_Case-Crossover</th>\n",
       "      <th>observational_study_model_Case-Only</th>\n",
       "      <th>observational_study_model_Cohort</th>\n",
       "      <th>observational_study_model_Ecologic or Community</th>\n",
       "      <th>observational_study_model_Family-Based</th>\n",
       "      <th>observational_study_model_Other</th>\n",
       "      <th>sampling_method_Non-Probability Sample</th>\n",
       "      <th>sampling_method_Probability Sample</th>\n",
       "      <th>fda_regulated_drug_No</th>\n",
       "      <th>fda_regulated_drug_Yes</th>\n",
       "      <th>fda_regulated_device_No</th>\n",
       "      <th>fda_regulated_device_Yes</th>\n",
       "    </tr>\n",
       "  </thead>\n",
       "  <tbody>\n",
       "    <tr>\n",
       "      <th>0</th>\n",
       "      <td>1</td>\n",
       "      <td>0</td>\n",
       "      <td>0</td>\n",
       "      <td>1</td>\n",
       "      <td>0</td>\n",
       "      <td>0</td>\n",
       "      <td>0</td>\n",
       "      <td>0</td>\n",
       "      <td>1</td>\n",
       "      <td>0</td>\n",
       "      <td>1</td>\n",
       "      <td>0</td>\n",
       "      <td>1</td>\n",
       "      <td>0</td>\n",
       "    </tr>\n",
       "    <tr>\n",
       "      <th>1</th>\n",
       "      <td>1</td>\n",
       "      <td>1</td>\n",
       "      <td>0</td>\n",
       "      <td>0</td>\n",
       "      <td>0</td>\n",
       "      <td>0</td>\n",
       "      <td>0</td>\n",
       "      <td>0</td>\n",
       "      <td>1</td>\n",
       "      <td>0</td>\n",
       "      <td>1</td>\n",
       "      <td>0</td>\n",
       "      <td>1</td>\n",
       "      <td>0</td>\n",
       "    </tr>\n",
       "    <tr>\n",
       "      <th>3</th>\n",
       "      <td>1</td>\n",
       "      <td>1</td>\n",
       "      <td>0</td>\n",
       "      <td>0</td>\n",
       "      <td>0</td>\n",
       "      <td>0</td>\n",
       "      <td>0</td>\n",
       "      <td>0</td>\n",
       "      <td>1</td>\n",
       "      <td>0</td>\n",
       "      <td>1</td>\n",
       "      <td>0</td>\n",
       "      <td>1</td>\n",
       "      <td>0</td>\n",
       "    </tr>\n",
       "    <tr>\n",
       "      <th>6</th>\n",
       "      <td>1</td>\n",
       "      <td>0</td>\n",
       "      <td>0</td>\n",
       "      <td>0</td>\n",
       "      <td>0</td>\n",
       "      <td>0</td>\n",
       "      <td>0</td>\n",
       "      <td>1</td>\n",
       "      <td>1</td>\n",
       "      <td>0</td>\n",
       "      <td>1</td>\n",
       "      <td>0</td>\n",
       "      <td>1</td>\n",
       "      <td>0</td>\n",
       "    </tr>\n",
       "    <tr>\n",
       "      <th>7</th>\n",
       "      <td>1</td>\n",
       "      <td>1</td>\n",
       "      <td>0</td>\n",
       "      <td>0</td>\n",
       "      <td>0</td>\n",
       "      <td>0</td>\n",
       "      <td>0</td>\n",
       "      <td>0</td>\n",
       "      <td>0</td>\n",
       "      <td>1</td>\n",
       "      <td>1</td>\n",
       "      <td>0</td>\n",
       "      <td>1</td>\n",
       "      <td>0</td>\n",
       "    </tr>\n",
       "  </tbody>\n",
       "</table>\n",
       "</div>"
      ],
      "text/plain": [
       "   status_num  observational_study_model_Case-Control  \\\n",
       "0           1                                       0   \n",
       "1           1                                       1   \n",
       "3           1                                       1   \n",
       "6           1                                       0   \n",
       "7           1                                       1   \n",
       "\n",
       "   observational_study_model_Case-Crossover  \\\n",
       "0                                         0   \n",
       "1                                         0   \n",
       "3                                         0   \n",
       "6                                         0   \n",
       "7                                         0   \n",
       "\n",
       "   observational_study_model_Case-Only  observational_study_model_Cohort  \\\n",
       "0                                    1                                 0   \n",
       "1                                    0                                 0   \n",
       "3                                    0                                 0   \n",
       "6                                    0                                 0   \n",
       "7                                    0                                 0   \n",
       "\n",
       "   observational_study_model_Ecologic or Community  \\\n",
       "0                                                0   \n",
       "1                                                0   \n",
       "3                                                0   \n",
       "6                                                0   \n",
       "7                                                0   \n",
       "\n",
       "   observational_study_model_Family-Based  observational_study_model_Other  \\\n",
       "0                                       0                                0   \n",
       "1                                       0                                0   \n",
       "3                                       0                                0   \n",
       "6                                       0                                1   \n",
       "7                                       0                                0   \n",
       "\n",
       "   sampling_method_Non-Probability Sample  sampling_method_Probability Sample  \\\n",
       "0                                       1                                   0   \n",
       "1                                       1                                   0   \n",
       "3                                       1                                   0   \n",
       "6                                       1                                   0   \n",
       "7                                       0                                   1   \n",
       "\n",
       "   fda_regulated_drug_No  fda_regulated_drug_Yes  fda_regulated_device_No  \\\n",
       "0                      1                       0                        1   \n",
       "1                      1                       0                        1   \n",
       "3                      1                       0                        1   \n",
       "6                      1                       0                        1   \n",
       "7                      1                       0                        1   \n",
       "\n",
       "   fda_regulated_device_Yes  \n",
       "0                         0  \n",
       "1                         0  \n",
       "3                         0  \n",
       "6                         0  \n",
       "7                         0  "
      ]
     },
     "execution_count": 10,
     "metadata": {},
     "output_type": "execute_result"
    }
   ],
   "source": [
    "# Encode all columns into numbers to run through machine learning\n",
    "obs_ml_df['status_num'] = LabelEncoder().fit_transform(obs_ml_df['status'])\n",
    "obs_ml_df = pd.get_dummies(obs_ml_df,columns=['observational_study_model', 'sampling_method', 'fda_regulated_drug', 'fda_regulated_device'])\n",
    "obs_ml_df = obs_ml_df.drop(columns=['status'])\n",
    "obs_ml_df.head()"
   ]
  },
  {
   "cell_type": "code",
   "execution_count": 11,
   "id": "c36382ae",
   "metadata": {},
   "outputs": [],
   "source": [
    "X = obs_ml_df.drop(\"status_num\", axis=1)\n",
    "y = obs_ml_df.status_num"
   ]
  },
  {
   "cell_type": "code",
   "execution_count": 12,
   "id": "310f2d2f",
   "metadata": {},
   "outputs": [],
   "source": [
    "X_train, X_test, y_train, y_test = train_test_split(X, y, random_state=1)"
   ]
  },
  {
   "cell_type": "code",
   "execution_count": 13,
   "id": "70b4e84e",
   "metadata": {},
   "outputs": [],
   "source": [
    "# Create StandardScaler instance\n",
    "scaler = StandardScaler()\n",
    "\n",
    "# Fit Standard Scaler with training data\n",
    "X_scaler = scaler.fit(X_train)\n",
    "\n",
    "# Scale the data\n",
    "X_train_scaled = X_scaler.transform(X_train)\n",
    "X_test_scaled = X_scaler.transform(X_test)\n"
   ]
  },
  {
   "attachments": {},
   "cell_type": "markdown",
   "id": "f878a051",
   "metadata": {},
   "source": [
    "### Random Forest Classifier"
   ]
  },
  {
   "cell_type": "code",
   "execution_count": 14,
   "id": "b773dd4c",
   "metadata": {},
   "outputs": [],
   "source": [
    "# Create random forest classifier\n",
    "rf_model = RandomForestClassifier(n_estimators=256, random_state=1)\n",
    "\n",
    "# Fit the model\n",
    "rf_model = rf_model.fit(X_train_scaled, y_train)"
   ]
  },
  {
   "cell_type": "code",
   "execution_count": 15,
   "id": "87db5d01",
   "metadata": {},
   "outputs": [],
   "source": [
    "# Create prediction\n",
    "predictions = rf_model.predict(X_test_scaled)"
   ]
  },
  {
   "cell_type": "code",
   "execution_count": 16,
   "id": "e134c48f",
   "metadata": {},
   "outputs": [
    {
     "data": {
      "text/html": [
       "<div>\n",
       "<style scoped>\n",
       "    .dataframe tbody tr th:only-of-type {\n",
       "        vertical-align: middle;\n",
       "    }\n",
       "\n",
       "    .dataframe tbody tr th {\n",
       "        vertical-align: top;\n",
       "    }\n",
       "\n",
       "    .dataframe thead th {\n",
       "        text-align: right;\n",
       "    }\n",
       "</style>\n",
       "<table border=\"1\" class=\"dataframe\">\n",
       "  <thead>\n",
       "    <tr style=\"text-align: right;\">\n",
       "      <th></th>\n",
       "      <th>Predicted 0</th>\n",
       "      <th>Predicted 1</th>\n",
       "    </tr>\n",
       "  </thead>\n",
       "  <tbody>\n",
       "    <tr>\n",
       "      <th>Actual 0</th>\n",
       "      <td>2</td>\n",
       "      <td>54</td>\n",
       "    </tr>\n",
       "    <tr>\n",
       "      <th>Actual 1</th>\n",
       "      <td>3</td>\n",
       "      <td>164</td>\n",
       "    </tr>\n",
       "  </tbody>\n",
       "</table>\n",
       "</div>"
      ],
      "text/plain": [
       "          Predicted 0  Predicted 1\n",
       "Actual 0            2           54\n",
       "Actual 1            3          164"
      ]
     },
     "execution_count": 16,
     "metadata": {},
     "output_type": "execute_result"
    }
   ],
   "source": [
    "# confusion matrix\n",
    "cm = confusion_matrix(y_test, predictions)\n",
    "\n",
    "# Create DatafRame from confusion matrix\n",
    "cm_df = pd.DataFrame(cm, index=['Actual 0', 'Actual 1'], columns = ['Predicted 0', 'Predicted 1'])\n",
    "cm_df"
   ]
  },
  {
   "cell_type": "code",
   "execution_count": 17,
   "id": "7c30322d",
   "metadata": {},
   "outputs": [
    {
     "name": "stdout",
     "output_type": "stream",
     "text": [
      "Confusion Matrix\n"
     ]
    },
    {
     "data": {
      "text/html": [
       "<div>\n",
       "<style scoped>\n",
       "    .dataframe tbody tr th:only-of-type {\n",
       "        vertical-align: middle;\n",
       "    }\n",
       "\n",
       "    .dataframe tbody tr th {\n",
       "        vertical-align: top;\n",
       "    }\n",
       "\n",
       "    .dataframe thead th {\n",
       "        text-align: right;\n",
       "    }\n",
       "</style>\n",
       "<table border=\"1\" class=\"dataframe\">\n",
       "  <thead>\n",
       "    <tr style=\"text-align: right;\">\n",
       "      <th></th>\n",
       "      <th>Predicted 0</th>\n",
       "      <th>Predicted 1</th>\n",
       "    </tr>\n",
       "  </thead>\n",
       "  <tbody>\n",
       "    <tr>\n",
       "      <th>Actual 0</th>\n",
       "      <td>2</td>\n",
       "      <td>54</td>\n",
       "    </tr>\n",
       "    <tr>\n",
       "      <th>Actual 1</th>\n",
       "      <td>3</td>\n",
       "      <td>164</td>\n",
       "    </tr>\n",
       "  </tbody>\n",
       "</table>\n",
       "</div>"
      ],
      "text/plain": [
       "          Predicted 0  Predicted 1\n",
       "Actual 0            2           54\n",
       "Actual 1            3          164"
      ]
     },
     "metadata": {},
     "output_type": "display_data"
    },
    {
     "name": "stdout",
     "output_type": "stream",
     "text": [
      "Accuracy Score: 0.7443946188340808\n",
      "---------------------------\n",
      "Classfication Report\n",
      "              precision    recall  f1-score   support\n",
      "\n",
      "           0       0.40      0.04      0.07        56\n",
      "           1       0.75      0.98      0.85       167\n",
      "\n",
      "    accuracy                           0.74       223\n",
      "   macro avg       0.58      0.51      0.46       223\n",
      "weighted avg       0.66      0.74      0.65       223\n",
      "\n"
     ]
    }
   ],
   "source": [
    "# Calculate accruacy score\n",
    "acc_score = accuracy_score(y_test, predictions)\n",
    "\n",
    "# Print results\n",
    "print(\"Confusion Matrix\")\n",
    "display(cm_df)\n",
    "print(f'Accuracy Score: {acc_score}')\n",
    "print(\"---------------------------\")\n",
    "print(\"Classfication Report\")\n",
    "print(classification_report(y_test, predictions))"
   ]
  },
  {
   "cell_type": "code",
   "execution_count": 18,
   "id": "c549cd1c",
   "metadata": {},
   "outputs": [
    {
     "data": {
      "text/plain": [
       "[(0.13173759112144764, 'observational_study_model_Other'),\n",
       " (0.11723673625906497, 'observational_study_model_Case-Control'),\n",
       " (0.11270866149093796, 'observational_study_model_Cohort'),\n",
       " (0.09822871992765794, 'observational_study_model_Case-Only'),\n",
       " (0.09444103729011138, 'sampling_method_Non-Probability Sample'),\n",
       " (0.08952203499746288, 'fda_regulated_device_No'),\n",
       " (0.08820631341313158, 'sampling_method_Probability Sample'),\n",
       " (0.08353403231241407, 'fda_regulated_device_Yes'),\n",
       " (0.06613867804241386, 'observational_study_model_Ecologic or Community'),\n",
       " (0.05332721402150441, 'observational_study_model_Case-Crossover'),\n",
       " (0.029524407821011827, 'fda_regulated_drug_No'),\n",
       " (0.028275129604475976, 'fda_regulated_drug_Yes'),\n",
       " (0.007119443698365486, 'observational_study_model_Family-Based')]"
      ]
     },
     "execution_count": 18,
     "metadata": {},
     "output_type": "execute_result"
    }
   ],
   "source": [
    "# Calculate feature importance\n",
    "importances = rf_model.feature_importances_\n",
    "\n",
    "# sort features by importance\n",
    "sorted(zip(importances, X.columns), reverse=True)"
   ]
  },
  {
   "cell_type": "markdown",
   "id": "492c1421",
   "metadata": {},
   "source": [
    "### Balanced Random Forest Classifier"
   ]
  },
  {
   "cell_type": "code",
   "execution_count": 19,
   "id": "c2293672",
   "metadata": {},
   "outputs": [
    {
     "data": {
      "text/plain": [
       "BalancedRandomForestClassifier(n_estimators=256, random_state=1)"
      ]
     },
     "execution_count": 19,
     "metadata": {},
     "output_type": "execute_result"
    }
   ],
   "source": [
    "# Resample the training data with the BalancedRandomForestClassifier\n",
    "from imblearn.ensemble import BalancedRandomForestClassifier\n",
    "\n",
    "# Instantiate model\n",
    "classifier = BalancedRandomForestClassifier(n_estimators=256, random_state=1)\n",
    "\n",
    "# Fit model\n",
    "classifier.fit(X_train, y_train)"
   ]
  },
  {
   "cell_type": "code",
   "execution_count": 20,
   "id": "f1c2a6a8",
   "metadata": {},
   "outputs": [
    {
     "data": {
      "text/plain": [
       "0.538227117194183"
      ]
     },
     "execution_count": 20,
     "metadata": {},
     "output_type": "execute_result"
    }
   ],
   "source": [
    "# Calculated the balanced accuracy score\n",
    "y_pred = classifier.predict(X_test)\n",
    "balanced_accuracy_score(y_test, y_pred)"
   ]
  },
  {
   "cell_type": "code",
   "execution_count": 21,
   "id": "cfbb79e5",
   "metadata": {},
   "outputs": [
    {
     "data": {
      "text/html": [
       "<div>\n",
       "<style scoped>\n",
       "    .dataframe tbody tr th:only-of-type {\n",
       "        vertical-align: middle;\n",
       "    }\n",
       "\n",
       "    .dataframe tbody tr th {\n",
       "        vertical-align: top;\n",
       "    }\n",
       "\n",
       "    .dataframe thead th {\n",
       "        text-align: right;\n",
       "    }\n",
       "</style>\n",
       "<table border=\"1\" class=\"dataframe\">\n",
       "  <thead>\n",
       "    <tr style=\"text-align: right;\">\n",
       "      <th></th>\n",
       "      <th>Predicted Not Completed</th>\n",
       "      <th>Predicted Completed</th>\n",
       "    </tr>\n",
       "  </thead>\n",
       "  <tbody>\n",
       "    <tr>\n",
       "      <th>Actual Not Completed</th>\n",
       "      <td>13</td>\n",
       "      <td>43</td>\n",
       "    </tr>\n",
       "    <tr>\n",
       "      <th>Actual Complted</th>\n",
       "      <td>26</td>\n",
       "      <td>141</td>\n",
       "    </tr>\n",
       "  </tbody>\n",
       "</table>\n",
       "</div>"
      ],
      "text/plain": [
       "                      Predicted Not Completed  Predicted Completed\n",
       "Actual Not Completed                       13                   43\n",
       "Actual Complted                            26                  141"
      ]
     },
     "execution_count": 21,
     "metadata": {},
     "output_type": "execute_result"
    }
   ],
   "source": [
    "# Display the confusion matrix\n",
    "cm = confusion_matrix(y_test, y_pred)\n",
    "cm_df = pd.DataFrame(cm, index=['Actual Completed', 'Actual Not Complted'], columns = ['Predicted Completed', 'Predicted Not Completed'])\n",
    "cm_df"
   ]
  },
  {
   "cell_type": "code",
   "execution_count": 22,
   "id": "b265420f",
   "metadata": {},
   "outputs": [
    {
     "name": "stdout",
     "output_type": "stream",
     "text": [
      "                   pre       rec       spe        f1       geo       iba       sup\n",
      "\n",
      "          0       0.33      0.23      0.84      0.27      0.44      0.18        56\n",
      "          1       0.77      0.84      0.23      0.80      0.44      0.21       167\n",
      "\n",
      "avg / total       0.66      0.69      0.39      0.67      0.44      0.20       223\n",
      "\n"
     ]
    }
   ],
   "source": [
    "# Print the imbalanced classification report\n",
    "print(classification_report_imbalanced(y_test, y_pred))"
   ]
  },
  {
   "cell_type": "code",
   "execution_count": 23,
   "id": "0a234144",
   "metadata": {},
   "outputs": [
    {
     "name": "stdout",
     "output_type": "stream",
     "text": [
      "observational_study_model_Other: (0.13173759112144764)\n",
      "observational_study_model_Case-Control: (0.11723673625906497)\n",
      "observational_study_model_Cohort: (0.11270866149093796)\n",
      "observational_study_model_Case-Only: (0.09822871992765794)\n",
      "sampling_method_Non-Probability Sample: (0.09444103729011138)\n",
      "fda_regulated_device_No: (0.08952203499746288)\n",
      "sampling_method_Probability Sample: (0.08820631341313158)\n",
      "fda_regulated_device_Yes: (0.08353403231241407)\n",
      "observational_study_model_Ecologic or Community: (0.06613867804241386)\n",
      "observational_study_model_Case-Crossover: (0.05332721402150441)\n",
      "fda_regulated_drug_No: (0.029524407821011827)\n",
      "fda_regulated_drug_Yes: (0.028275129604475976)\n",
      "observational_study_model_Family-Based: (0.007119443698365486)\n"
     ]
    }
   ],
   "source": [
    "# Calculate feature importance\n",
    "importances = rf_model.feature_importances_\n",
    "\n",
    "\n",
    "# List the features sorted in descending order by feature importance\n",
    "features_rank = sorted(zip(importances, X.columns), reverse=True)\n",
    "for feature in features_rank:\n",
    "    print(f\"{feature[1]}: ({feature[0]})\")"
   ]
  },
  {
   "cell_type": "markdown",
   "id": "989df4ed",
   "metadata": {},
   "source": [
    "### Optimize model, Use resampling techniques to determine the best performing algorithm"
   ]
  },
  {
   "cell_type": "markdown",
   "id": "86a8deb4",
   "metadata": {},
   "source": [
    "#### Oversampling"
   ]
  },
  {
   "cell_type": "code",
   "execution_count": null,
   "id": "885cf74d",
   "metadata": {},
   "outputs": [],
   "source": []
  },
  {
   "cell_type": "markdown",
   "id": "428d8a8a",
   "metadata": {},
   "source": [
    "#### Undersampling"
   ]
  },
  {
   "cell_type": "code",
   "execution_count": null,
   "id": "d533346c",
   "metadata": {},
   "outputs": [],
   "source": []
  },
  {
   "cell_type": "markdown",
   "id": "cc156662",
   "metadata": {},
   "source": [
    "#### Combination (Over and Under) Sampling"
   ]
  },
  {
   "cell_type": "code",
   "execution_count": null,
   "id": "a1440667",
   "metadata": {},
   "outputs": [],
   "source": []
  }
 ],
 "metadata": {
  "kernelspec": {
   "display_name": "mlenv",
   "language": "python",
   "name": "python3"
  },
  "language_info": {
   "codemirror_mode": {
    "name": "ipython",
    "version": 3
   },
   "file_extension": ".py",
   "mimetype": "text/x-python",
   "name": "python",
   "nbconvert_exporter": "python",
   "pygments_lexer": "ipython3",
   "version": "3.7.13"
  }
 },
 "nbformat": 4,
 "nbformat_minor": 5
}
