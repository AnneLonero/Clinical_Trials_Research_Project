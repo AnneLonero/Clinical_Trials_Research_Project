{
 "cells": [
  {
   "cell_type": "code",
   "execution_count": 1,
   "id": "71d97e4b",
   "metadata": {},
   "outputs": [],
   "source": [
    "# Import dependencies\n",
    "import requests\n",
    "import pandas as pd"
   ]
  },
  {
   "cell_type": "code",
   "execution_count": 2,
   "id": "3be0e3f3",
   "metadata": {},
   "outputs": [],
   "source": [
    "# Base url for the api call\n",
    "url = \"https://clinicaltrials.gov/api/query/study_fields\""
   ]
  },
  {
   "cell_type": "code",
   "execution_count": 3,
   "id": "76d2866c",
   "metadata": {},
   "outputs": [],
   "source": [
    "# Headers for json call\n",
    "headers = {'Content-Type': 'application/json', \n",
    "           'Accept': 'application/json'}"
   ]
  },
  {
   "cell_type": "code",
   "execution_count": 10,
   "id": "8695d4c5",
   "metadata": {},
   "outputs": [],
   "source": [
    "# List of fields for table c\n",
    "fields = ['OrgStudyId',\n",
    "          'StudyType',\n",
    "          'ArmGroupType',\n",
    "          'InterventionType',\n",
    "          'DesignInterventionModel',\n",
    "          'DesignObservationalModel',\n",
    "          'TargetDuration',\n",
    "          'SamplingMethod',\n",
    "          'Phase']"
   ]
  },
  {
   "cell_type": "code",
   "execution_count": 11,
   "id": "3545ff3c",
   "metadata": {},
   "outputs": [],
   "source": [
    "# Create a list to hold the dictionaries from the json response\n",
    "sourced_data = []"
   ]
  },
  {
   "cell_type": "code",
   "execution_count": 177,
   "id": "ef615845",
   "metadata": {},
   "outputs": [],
   "source": [
    "# Set a counter to increase the ranks with each iteration\n",
    "# Table search criteria limited to 'breast cancer' and from 01/01/2018\n",
    "counter = 0\n",
    "\n",
    "while True:\n",
    "    # Define the parameters of the url\n",
    "    params = {'expr': 'breast cancer AND AREA[StartDate]RANGE[01/01/2018,MAX]', \n",
    "              'fields': ','.join(fields), \n",
    "              'min_rnk': 1 + 1000 * counter,  \n",
    "              'max_rnk': 1000 + 1000 * counter, \n",
    "              'fmt': 'json'}\n",
    "\n",
    "    # Make the call \n",
    "    response = requests.get(url, \n",
    "                            headers = headers, \n",
    "                            params = params)\n",
    "\n",
    "\n",
    "    \n",
    "\n",
    "    # Increment the counter\n",
    "    counter += 1\n",
    "    \n",
    "    # Check to see if more data was returned for the current response\n",
    "    if response.json()['StudyFieldsResponse']['NStudiesReturned'] == 0:\n",
    "        # If there was no new data returned, break out of the while loop\n",
    "        break\n",
    "\n",
    "    # Add the data from the api call to the sourced_data list\n",
    "    sourced_data += response.json()['StudyFieldsResponse']['StudyFields']\n",
    "    "
   ]
  },
  {
   "cell_type": "code",
   "execution_count": 211,
   "id": "738ebf2c",
   "metadata": {},
   "outputs": [],
   "source": [
    "# Create a dataframe from the dictionaries\n",
    "df = pd.DataFrame(sourced_data)"
   ]
  },
  {
   "cell_type": "code",
   "execution_count": 212,
   "id": "f9f95201",
   "metadata": {},
   "outputs": [
    {
     "data": {
      "text/html": [
       "<div>\n",
       "<style scoped>\n",
       "    .dataframe tbody tr th:only-of-type {\n",
       "        vertical-align: middle;\n",
       "    }\n",
       "\n",
       "    .dataframe tbody tr th {\n",
       "        vertical-align: top;\n",
       "    }\n",
       "\n",
       "    .dataframe thead th {\n",
       "        text-align: right;\n",
       "    }\n",
       "</style>\n",
       "<table border=\"1\" class=\"dataframe\">\n",
       "  <thead>\n",
       "    <tr style=\"text-align: right;\">\n",
       "      <th></th>\n",
       "      <th>OrgStudyId</th>\n",
       "      <th>StudyType</th>\n",
       "      <th>ArmGroupType</th>\n",
       "      <th>InterventionType</th>\n",
       "      <th>DesignInterventionModel</th>\n",
       "      <th>DesignObservationalModel</th>\n",
       "      <th>TargetDuration</th>\n",
       "      <th>SamplingMethod</th>\n",
       "      <th>Phase</th>\n",
       "    </tr>\n",
       "    <tr>\n",
       "      <th>Rank</th>\n",
       "      <th></th>\n",
       "      <th></th>\n",
       "      <th></th>\n",
       "      <th></th>\n",
       "      <th></th>\n",
       "      <th></th>\n",
       "      <th></th>\n",
       "      <th></th>\n",
       "      <th></th>\n",
       "    </tr>\n",
       "  </thead>\n",
       "  <tbody>\n",
       "    <tr>\n",
       "      <th>1</th>\n",
       "      <td>[BTX-BCI-016-PRT]</td>\n",
       "      <td>[Observational]</td>\n",
       "      <td>[]</td>\n",
       "      <td>[Diagnostic Test]</td>\n",
       "      <td>[]</td>\n",
       "      <td>[Case-Only]</td>\n",
       "      <td>[5 Years]</td>\n",
       "      <td>[Non-Probability Sample]</td>\n",
       "      <td>[]</td>\n",
       "    </tr>\n",
       "    <tr>\n",
       "      <th>2</th>\n",
       "      <td>[2018-TJ-BCD]</td>\n",
       "      <td>[Observational]</td>\n",
       "      <td>[]</td>\n",
       "      <td>[Diagnostic Test, Diagnostic Test]</td>\n",
       "      <td>[]</td>\n",
       "      <td>[Case-Control]</td>\n",
       "      <td>[]</td>\n",
       "      <td>[Non-Probability Sample]</td>\n",
       "      <td>[]</td>\n",
       "    </tr>\n",
       "    <tr>\n",
       "      <th>3</th>\n",
       "      <td>[Breast cancer]</td>\n",
       "      <td>[Observational]</td>\n",
       "      <td>[]</td>\n",
       "      <td>[Genetic, Other]</td>\n",
       "      <td>[]</td>\n",
       "      <td>[Case-Control]</td>\n",
       "      <td>[]</td>\n",
       "      <td>[Probability Sample]</td>\n",
       "      <td>[]</td>\n",
       "    </tr>\n",
       "    <tr>\n",
       "      <th>4</th>\n",
       "      <td>[BC-BOMET]</td>\n",
       "      <td>[Observational]</td>\n",
       "      <td>[]</td>\n",
       "      <td>[Other, Other]</td>\n",
       "      <td>[]</td>\n",
       "      <td>[Case-Control]</td>\n",
       "      <td>[]</td>\n",
       "      <td>[Non-Probability Sample]</td>\n",
       "      <td>[]</td>\n",
       "    </tr>\n",
       "    <tr>\n",
       "      <th>5</th>\n",
       "      <td>[241391]</td>\n",
       "      <td>[Observational]</td>\n",
       "      <td>[]</td>\n",
       "      <td>[Diagnostic Test]</td>\n",
       "      <td>[]</td>\n",
       "      <td>[Cohort]</td>\n",
       "      <td>[1 Year]</td>\n",
       "      <td>[Non-Probability Sample]</td>\n",
       "      <td>[]</td>\n",
       "    </tr>\n",
       "  </tbody>\n",
       "</table>\n",
       "</div>"
      ],
      "text/plain": [
       "             OrgStudyId        StudyType ArmGroupType  \\\n",
       "Rank                                                    \n",
       "1     [BTX-BCI-016-PRT]  [Observational]           []   \n",
       "2         [2018-TJ-BCD]  [Observational]           []   \n",
       "3       [Breast cancer]  [Observational]           []   \n",
       "4            [BC-BOMET]  [Observational]           []   \n",
       "5              [241391]  [Observational]           []   \n",
       "\n",
       "                        InterventionType DesignInterventionModel  \\\n",
       "Rank                                                               \n",
       "1                      [Diagnostic Test]                      []   \n",
       "2     [Diagnostic Test, Diagnostic Test]                      []   \n",
       "3                       [Genetic, Other]                      []   \n",
       "4                         [Other, Other]                      []   \n",
       "5                      [Diagnostic Test]                      []   \n",
       "\n",
       "     DesignObservationalModel TargetDuration            SamplingMethod Phase  \n",
       "Rank                                                                          \n",
       "1                 [Case-Only]      [5 Years]  [Non-Probability Sample]    []  \n",
       "2              [Case-Control]             []  [Non-Probability Sample]    []  \n",
       "3              [Case-Control]             []      [Probability Sample]    []  \n",
       "4              [Case-Control]             []  [Non-Probability Sample]    []  \n",
       "5                    [Cohort]       [1 Year]  [Non-Probability Sample]    []  "
      ]
     },
     "execution_count": 212,
     "metadata": {},
     "output_type": "execute_result"
    }
   ],
   "source": [
    "# Set the rank as the index\n",
    "df.set_index('Rank', inplace = True)\n",
    "df.head()"
   ]
  },
  {
   "cell_type": "code",
   "execution_count": 213,
   "id": "d9d28491",
   "metadata": {},
   "outputs": [],
   "source": [
    "# Change datatype of the values, preparing for reg expression\n",
    "df[fields] = df[fields].astype(str)"
   ]
  },
  {
   "cell_type": "code",
   "execution_count": 214,
   "id": "6b40dded",
   "metadata": {},
   "outputs": [
    {
     "name": "stderr",
     "output_type": "stream",
     "text": [
      "c:\\Users\\gahyo\\anaconda3\\envs\\mlenv\\lib\\site-packages\\ipykernel_launcher.py:5: FutureWarning: The default value of regex will change from True to False in a future version.\n",
      "  \"\"\"\n"
     ]
    }
   ],
   "source": [
    "# Run through each value in DataFrame to remove unncessary characters\n",
    "# Also turns blank values with NaN (null)\n",
    "import numpy as np\n",
    "for i in fields:\n",
    "    df[i] = df[i].str.replace(\"^\\[.|.\\]$|'\",\"\")\n",
    "    df[i] = df[i].replace('',np.nan)"
   ]
  },
  {
   "cell_type": "code",
   "execution_count": 220,
   "metadata": {},
   "outputs": [],
   "source": [
    "# Export table as csv file \n",
    "study_method_df = df\n",
    "study_method_df.to_csv('Tables/study_method_df.csv',index=True)"
   ]
  },
  {
   "cell_type": "code",
   "execution_count": null,
   "id": "5825e4b2",
   "metadata": {},
   "outputs": [],
   "source": []
  }
 ],
 "metadata": {
  "kernelspec": {
   "display_name": "PythonData",
   "language": "python",
   "name": "pythondata"
  },
  "language_info": {
   "codemirror_mode": {
    "name": "ipython",
    "version": 3
   },
   "file_extension": ".py",
   "mimetype": "text/x-python",
   "name": "python",
   "nbconvert_exporter": "python",
   "pygments_lexer": "ipython3",
   "version": "3.9.12"
  }
 },
 "nbformat": 4,
 "nbformat_minor": 5
}
