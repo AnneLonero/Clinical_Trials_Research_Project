{
 "cells": [
  {
   "cell_type": "code",
   "execution_count": null,
   "id": "71d97e4b",
   "metadata": {},
   "outputs": [],
   "source": [
    "# Import dependencies\n",
    "import requests\n",
    "import pandas as pd\n",
    "import numpy as np"
   ]
  },
  {
   "cell_type": "code",
   "execution_count": null,
   "id": "3be0e3f3",
   "metadata": {},
   "outputs": [],
   "source": [
    "# Base url for the api call\n",
    "url = \"https://clinicaltrials.gov/api/query/study_fields\""
   ]
  },
  {
   "cell_type": "code",
   "execution_count": null,
   "id": "76d2866c",
   "metadata": {},
   "outputs": [],
   "source": [
    "# Headers for json call\n",
    "headers = {'Content-Type': 'application/json', \n",
    "           'Accept': 'application/json'}"
   ]
  },
  {
   "cell_type": "code",
   "execution_count": null,
   "id": "ef615845",
   "metadata": {},
   "outputs": [],
   "source": [
    "# Extract data and create DataFrame\n",
    "def create_df(x):\n",
    "\n",
    "    # Create a list to hold the dictionaries from the json response\n",
    "    sourced_data = []\n",
    "\n",
    "    # Set a counter to increase the ranks with each iteration\n",
    "    # Table search criteria limited to 'breast cancer' and from 01/01/2018\n",
    "    counter = 0\n",
    "\n",
    "    while True:\n",
    "        # Define the parameters of the url\n",
    "        params = {'expr': 'breast cancer AND AREA[StartDate]RANGE[01/01/2018,MAX]', \n",
    "                'fields': ','.join(x), \n",
    "                'min_rnk': 1 + 1000 * counter,  \n",
    "                'max_rnk': 1000 + 1000 * counter, \n",
    "                'fmt': 'json'}\n",
    "\n",
    "        # Make the call \n",
    "        response = requests.get(url, \n",
    "                                headers = headers, \n",
    "                                params = params)\n",
    "\n",
    "        \n",
    "\n",
    "        # Increment the counter\n",
    "        counter += 1\n",
    "        \n",
    "        # Check to see if more data was returned for the current response\n",
    "        if response.json()['StudyFieldsResponse']['NStudiesReturned'] == 0:\n",
    "            # If there was no new data returned, break out of the while loop\n",
    "            break\n",
    "\n",
    "        # Add the data from the api call to the sourced_data list\n",
    "        sourced_data += response.json()['StudyFieldsResponse']['StudyFields']\n",
    "    return sourced_data"
   ]
  },
  {
   "cell_type": "code",
   "execution_count": null,
   "id": "6b40dded",
   "metadata": {},
   "outputs": [],
   "source": [
    "# Define function to clean DataFrame removing unnecessary characters for analysis\n",
    "\n",
    "def clean_data(df, fields):\n",
    "    # Change datatype of the values, preparing for reg expression\n",
    "    df[fields] = df[fields].astype(str)\n",
    "\n",
    "    # Remove any unnecessary characters and turn blank values with NaN (null)\n",
    "    for i in fields:\n",
    "        df[i] = df[i].str.replace(\"^\\[.|.\\]$|'\",\"\")\n",
    "        df[i] = df[i].replace('',np.nan)\n",
    "        "
   ]
  },
  {
   "cell_type": "code",
   "execution_count": null,
   "id": "1381ab8d",
   "metadata": {},
   "outputs": [],
   "source": [
    "# Define function to clean DataFrame removing unnecessary characters for analysis\n",
    "\n",
    "def clean_data_years(df, fields):\n",
    "    # Change datatype of the values, preparing for reg expression\n",
    "    df[fields] = df[fields].astype(str)\n",
    "\n",
    "    # Remove any unnecessary characters and turn blank values with NaN (null)\n",
    "    for i in fields:\n",
    "        df[i] = df[i].str.replace('Years', '')\n",
    "        df[i] = df[i].str.replace('Year', '')"
   ]
  },
  {
   "cell_type": "code",
   "execution_count": null,
   "id": "616c10f9",
   "metadata": {},
   "outputs": [],
   "source": [
    "# List of fields for table A\n",
    "table_a_cols = ['OrgStudyId',\n",
    "               'BriefTitle',\n",
    "               'StartDate',\n",
    "               'CompletionDate',\n",
    "               'OverallStatus',\n",
    "               'StudyType']"
   ]
  },
  {
   "cell_type": "code",
   "execution_count": null,
   "id": "bfa052e9",
   "metadata": {},
   "outputs": [],
   "source": [
    "# Call the function the create DataFrame for table A\n",
    "registration_df = pd.DataFrame(create_df(table_a_cols))\n",
    "registration_df.set_index('Rank', inplace=True)"
   ]
  },
  {
   "cell_type": "code",
   "execution_count": null,
   "id": "6d61f82d",
   "metadata": {},
   "outputs": [],
   "source": [
    "# Clean DataFrame for table A\n",
    "clean_data(registration_df, table_a_cols)"
   ]
  },
  {
   "cell_type": "code",
   "execution_count": null,
   "id": "087b4636",
   "metadata": {},
   "outputs": [],
   "source": [
    "# Renaming the columns for table A and convertion to datetime and removing duplicates\n",
    "registration_df.columns = ['ID', 'Title', 'Start_Date', 'Completion_Date', 'Status', 'Study_Type']\n",
    "registration_df.index.names = ['Index']\n",
    "registration_df['Start_Date'] = pd.to_datetime(registration_df['Start_Date'])\n",
    "registration_df['Completion_Date'] = pd.to_datetime(registration_df['Completion_Date'])\n",
    "registration_df.drop_duplicates(subset=['ID'], keep='first')\n",
    "registration_df"
   ]
  },
  {
   "cell_type": "code",
   "execution_count": null,
   "id": "951d30a2",
   "metadata": {},
   "outputs": [],
   "source": [
    "# List of fields for table B\n",
    "table_b_cols = ['OrgStudyId',\n",
    "               'Gender',\n",
    "               'MinimumAge',\n",
    "               'HealthyVolunteers']"
   ]
  },
  {
   "cell_type": "code",
   "execution_count": null,
   "id": "dfad12a1",
   "metadata": {},
   "outputs": [],
   "source": [
    "# Call the function the create DataFrame for table B\n",
    "participant_df = pd.DataFrame(create_df(table_b_cols))\n",
    "participant_df.set_index('Rank', inplace=True)"
   ]
  },
  {
   "cell_type": "code",
   "execution_count": null,
   "id": "dacb6b5b",
   "metadata": {},
   "outputs": [],
   "source": [
    "# Clean DataFrame for table B\n",
    "clean_data(participant_df, table_b_cols)\n",
    "clean_data_years(participant_df, table_b_cols)"
   ]
  },
  {
   "cell_type": "code",
   "execution_count": null,
   "id": "f307440f",
   "metadata": {},
   "outputs": [],
   "source": [
    "# Renaming the columns for table B and getting rid of rows\n",
    "participant_df.columns = ['ID', 'Gender', 'Minimum_Age', 'Healthy_Volunteers']\n",
    "participant_df.index.names = ['Index']\n",
    "participant_df = participant_df[participant_df['Minimum_Age'].str.contains('Months') == False]\n",
    "participant_df.drop_duplicates(subset=['ID'], keep='first')\n",
    "participant_df"
   ]
  },
  {
   "cell_type": "code",
   "execution_count": null,
   "id": "fd1e1bf7",
   "metadata": {},
   "outputs": [],
   "source": [
    "# List of fields for table C\n",
    "table_c_cols = ['OrgStudyId',\n",
    "               'IsFDARegulatedDrug',\n",
    "               'IsFDARegulatedDevice',\n",
    "               'ResponsiblePartyType']"
   ]
  },
  {
   "cell_type": "code",
   "execution_count": null,
   "id": "c5919043",
   "metadata": {},
   "outputs": [],
   "source": [
    "# Call the function the create DataFrame for table C\n",
    "study_details_df = pd.DataFrame(create_df(table_c_cols))\n",
    "study_details_df.set_index('Rank', inplace=True)"
   ]
  },
  {
   "cell_type": "code",
   "execution_count": null,
   "id": "1b609c17",
   "metadata": {},
   "outputs": [],
   "source": [
    "# Clean DataFrame for table C\n",
    "clean_data(study_details_df, table_c_cols)"
   ]
  },
  {
   "cell_type": "code",
   "execution_count": null,
   "id": "e9fa270b",
   "metadata": {},
   "outputs": [],
   "source": [
    "# Renaming the columns for table C and removing duplicates\n",
    "study_details_df.columns = ['ID', 'FDA_Regulated_Drug', 'FDA_Regulated_Device', 'Responsible_Party']\n",
    "study_details_df.index.names = ['Index']\n",
    "study_details_df.drop_duplicates(subset=['ID'], keep='first')\n",
    "study_details_df"
   ]
  },
  {
   "cell_type": "code",
   "execution_count": null,
   "id": "cf276005",
   "metadata": {},
   "outputs": [],
   "source": [
    "# List of fields for table d\n",
    "table_d_cols = ['OrgStudyId',\n",
    "          'StudyType',\n",
    "          'ArmGroupType',\n",
    "          'InterventionType',\n",
    "          'DesignInterventionModel',\n",
    "          'DesignObservationalModel',\n",
    "          'TargetDuration',\n",
    "          'SamplingMethod',\n",
    "          'Phase']\n",
    "\n",
    "# Call function to create DataFrame for table D\n",
    "study_method_df = pd.DataFrame(create_df(table_d_cols))\n",
    "study_method_df.set_index('Rank',inplace=True)"
   ]
  },
  {
   "cell_type": "code",
   "execution_count": null,
   "id": "cb290e3e",
   "metadata": {},
   "outputs": [],
   "source": [
    "# Clean DataFrame for table c\n",
    "clean_data(study_method_df, table_d_cols)"
   ]
  },
  {
   "cell_type": "code",
   "execution_count": null,
   "id": "294adaef",
   "metadata": {},
   "outputs": [],
   "source": [
    "# Renaming the columns for table D and removing duplicates\n",
    "study_method_df.columns = ['ID', 'Study_Type', 'Arm_Group_Type', 'Intervention_Type', 'Interventional_Study_Model', 'Observational_Study_Model', 'Target_Duration', 'Sampling_Method', 'Phase']\n",
    "study_method_df.index.names = ['Index']\n",
    "study_method_df.drop_duplicates(subset=['ID'], keep='first')\n",
    "study_method_df"
   ]
  },
  {
   "cell_type": "code",
   "execution_count": null,
   "id": "31753f41",
   "metadata": {},
   "outputs": [],
   "source": [
    "# List of fields for table e and export dataset into DataFrame\n",
    "table_e_cols = ['OrgStudyId',\n",
    "          'EnrollmentCount',\n",
    "          'PrimaryOutcomeMeasure',]\n",
    "free_text_df = pd.DataFrame(create_df(table_e_cols))\n",
    "free_text_df.set_index('Rank', inplace=True)\n"
   ]
  },
  {
   "cell_type": "code",
   "execution_count": null,
   "id": "8651a223",
   "metadata": {},
   "outputs": [],
   "source": [
    "clean_data(free_text_df, table_e_cols)"
   ]
  },
  {
   "cell_type": "code",
   "execution_count": null,
   "id": "09e7c3bc",
   "metadata": {},
   "outputs": [],
   "source": [
    "# Renaming the columns for table E and removing duplicates\n",
    "free_text_df.columns = ['ID', 'Enrollment_Count', 'Primary_Outcome_Measure']\n",
    "free_text_df.index.names = ['Index']\n",
    "free_text_df.drop_duplicates(subset=['ID'], keep='first')\n",
    "free_text_df"
   ]
  },
  {
   "cell_type": "code",
   "execution_count": null,
   "id": "0b08919a",
   "metadata": {},
   "outputs": [],
   "source": [
    "# Export DataFrames as csv files \n",
    "study_method_df.to_csv('Tables/study_method_df.csv',index=False)\n",
    "free_text_df.to_csv('Tables/free_text_df.csv', index=False)\n",
    "registration_df.to_csv('Tables/registration_df.csv', index=False)\n",
    "participant_df.to_csv('Tables/participant_df.csv', index=False)\n",
    "study_details_df.to_csv('Tables/study_details_df.csv', index=False)"
   ]
  },
  {
   "cell_type": "code",
   "execution_count": null,
   "id": "9438ddb0",
   "metadata": {},
   "outputs": [],
   "source": []
  }
 ],
 "metadata": {
  "kernelspec": {
   "display_name": "PythonData",
   "language": "python",
   "name": "pythondata"
  },
  "language_info": {
   "codemirror_mode": {
    "name": "ipython",
    "version": 3
   },
   "file_extension": ".py",
   "mimetype": "text/x-python",
   "name": "python",
   "nbconvert_exporter": "python",
   "pygments_lexer": "ipython3",
   "version": "3.9.12"
  }
 },
 "nbformat": 4,
 "nbformat_minor": 5
}
